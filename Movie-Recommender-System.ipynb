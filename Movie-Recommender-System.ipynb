{
 "cells": [
  {
   "cell_type": "code",
   "execution_count": 197,
   "id": "b129d1a4-c721-461e-a912-dda32c2ca570",
   "metadata": {},
   "outputs": [],
   "source": [
    "import numpy as np\n",
    "import pandas as pd"
   ]
  },
  {
   "cell_type": "code",
   "execution_count": 199,
   "id": "c9845d70-5c49-4256-8d0e-0d27f29829c7",
   "metadata": {},
   "outputs": [],
   "source": [
    "movies =pd.read_csv(\"tmdb_5000_movies.csv\")\n",
    "credits=pd.read_csv(\"tmdb_5000_credits.csv\")"
   ]
  },
  {
   "cell_type": "code",
   "execution_count": 200,
   "id": "02fec4f1-2d2f-40ef-847a-0f15e6e43932",
   "metadata": {},
   "outputs": [
    {
     "data": {
      "text/html": [
       "<div>\n",
       "<style scoped>\n",
       "    .dataframe tbody tr th:only-of-type {\n",
       "        vertical-align: middle;\n",
       "    }\n",
       "\n",
       "    .dataframe tbody tr th {\n",
       "        vertical-align: top;\n",
       "    }\n",
       "\n",
       "    .dataframe thead th {\n",
       "        text-align: right;\n",
       "    }\n",
       "</style>\n",
       "<table border=\"1\" class=\"dataframe\">\n",
       "  <thead>\n",
       "    <tr style=\"text-align: right;\">\n",
       "      <th></th>\n",
       "      <th>budget</th>\n",
       "      <th>genres</th>\n",
       "      <th>homepage</th>\n",
       "      <th>id</th>\n",
       "      <th>keywords</th>\n",
       "      <th>original_language</th>\n",
       "      <th>original_title</th>\n",
       "      <th>overview</th>\n",
       "      <th>popularity</th>\n",
       "      <th>production_companies</th>\n",
       "      <th>production_countries</th>\n",
       "      <th>release_date</th>\n",
       "      <th>revenue</th>\n",
       "      <th>runtime</th>\n",
       "      <th>spoken_languages</th>\n",
       "      <th>status</th>\n",
       "      <th>tagline</th>\n",
       "      <th>title</th>\n",
       "      <th>vote_average</th>\n",
       "      <th>vote_count</th>\n",
       "    </tr>\n",
       "  </thead>\n",
       "  <tbody>\n",
       "    <tr>\n",
       "      <th>0</th>\n",
       "      <td>237000000</td>\n",
       "      <td>[{\"id\": 28, \"name\": \"Action\"}, {\"id\": 12, \"nam...</td>\n",
       "      <td>http://www.avatarmovie.com/</td>\n",
       "      <td>19995</td>\n",
       "      <td>[{\"id\": 1463, \"name\": \"culture clash\"}, {\"id\":...</td>\n",
       "      <td>en</td>\n",
       "      <td>Avatar</td>\n",
       "      <td>In the 22nd century, a paraplegic Marine is di...</td>\n",
       "      <td>150.437577</td>\n",
       "      <td>[{\"name\": \"Ingenious Film Partners\", \"id\": 289...</td>\n",
       "      <td>[{\"iso_3166_1\": \"US\", \"name\": \"United States o...</td>\n",
       "      <td>2009-12-10</td>\n",
       "      <td>2787965087</td>\n",
       "      <td>162.0</td>\n",
       "      <td>[{\"iso_639_1\": \"en\", \"name\": \"English\"}, {\"iso...</td>\n",
       "      <td>Released</td>\n",
       "      <td>Enter the World of Pandora.</td>\n",
       "      <td>Avatar</td>\n",
       "      <td>7.2</td>\n",
       "      <td>11800</td>\n",
       "    </tr>\n",
       "  </tbody>\n",
       "</table>\n",
       "</div>"
      ],
      "text/plain": [
       "      budget                                             genres  \\\n",
       "0  237000000  [{\"id\": 28, \"name\": \"Action\"}, {\"id\": 12, \"nam...   \n",
       "\n",
       "                      homepage     id  \\\n",
       "0  http://www.avatarmovie.com/  19995   \n",
       "\n",
       "                                            keywords original_language  \\\n",
       "0  [{\"id\": 1463, \"name\": \"culture clash\"}, {\"id\":...                en   \n",
       "\n",
       "  original_title                                           overview  \\\n",
       "0         Avatar  In the 22nd century, a paraplegic Marine is di...   \n",
       "\n",
       "   popularity                               production_companies  \\\n",
       "0  150.437577  [{\"name\": \"Ingenious Film Partners\", \"id\": 289...   \n",
       "\n",
       "                                production_countries release_date     revenue  \\\n",
       "0  [{\"iso_3166_1\": \"US\", \"name\": \"United States o...   2009-12-10  2787965087   \n",
       "\n",
       "   runtime                                   spoken_languages    status  \\\n",
       "0    162.0  [{\"iso_639_1\": \"en\", \"name\": \"English\"}, {\"iso...  Released   \n",
       "\n",
       "                       tagline   title  vote_average  vote_count  \n",
       "0  Enter the World of Pandora.  Avatar           7.2       11800  "
      ]
     },
     "execution_count": 200,
     "metadata": {},
     "output_type": "execute_result"
    }
   ],
   "source": [
    "movies.head(1)"
   ]
  },
  {
   "cell_type": "code",
   "execution_count": 203,
   "id": "3a9c6f26-1511-43e5-9dad-b3faa5db0e8d",
   "metadata": {},
   "outputs": [
    {
     "data": {
      "text/html": [
       "<div>\n",
       "<style scoped>\n",
       "    .dataframe tbody tr th:only-of-type {\n",
       "        vertical-align: middle;\n",
       "    }\n",
       "\n",
       "    .dataframe tbody tr th {\n",
       "        vertical-align: top;\n",
       "    }\n",
       "\n",
       "    .dataframe thead th {\n",
       "        text-align: right;\n",
       "    }\n",
       "</style>\n",
       "<table border=\"1\" class=\"dataframe\">\n",
       "  <thead>\n",
       "    <tr style=\"text-align: right;\">\n",
       "      <th></th>\n",
       "      <th>movie_id</th>\n",
       "      <th>title</th>\n",
       "      <th>cast</th>\n",
       "      <th>crew</th>\n",
       "    </tr>\n",
       "  </thead>\n",
       "  <tbody>\n",
       "    <tr>\n",
       "      <th>0</th>\n",
       "      <td>19995</td>\n",
       "      <td>Avatar</td>\n",
       "      <td>[{\"cast_id\": 242, \"character\": \"Jake Sully\", \"...</td>\n",
       "      <td>[{\"credit_id\": \"52fe48009251416c750aca23\", \"de...</td>\n",
       "    </tr>\n",
       "  </tbody>\n",
       "</table>\n",
       "</div>"
      ],
      "text/plain": [
       "   movie_id   title                                               cast  \\\n",
       "0     19995  Avatar  [{\"cast_id\": 242, \"character\": \"Jake Sully\", \"...   \n",
       "\n",
       "                                                crew  \n",
       "0  [{\"credit_id\": \"52fe48009251416c750aca23\", \"de...  "
      ]
     },
     "execution_count": 203,
     "metadata": {},
     "output_type": "execute_result"
    }
   ],
   "source": [
    "credits.head(1)     #credits.head(1)['cast'].values"
   ]
  },
  {
   "cell_type": "code",
   "execution_count": 205,
   "id": "5b25e98d-8c94-4d49-a8dd-94ee334d76b1",
   "metadata": {},
   "outputs": [
    {
     "data": {
      "text/plain": [
       "(4803, 20)"
      ]
     },
     "execution_count": 205,
     "metadata": {},
     "output_type": "execute_result"
    }
   ],
   "source": [
    "movies.shape"
   ]
  },
  {
   "cell_type": "code",
   "execution_count": 207,
   "id": "3e647bb2-21c1-43b2-a393-770115bea2ec",
   "metadata": {},
   "outputs": [
    {
     "data": {
      "text/plain": [
       "(4803, 4)"
      ]
     },
     "execution_count": 207,
     "metadata": {},
     "output_type": "execute_result"
    }
   ],
   "source": [
    "credits.shape"
   ]
  },
  {
   "cell_type": "code",
   "execution_count": 209,
   "id": "0859d02f-150f-462e-a33c-9c32477dc2d6",
   "metadata": {},
   "outputs": [
    {
     "data": {
      "text/plain": [
       "(4809, 23)"
      ]
     },
     "execution_count": 209,
     "metadata": {},
     "output_type": "execute_result"
    }
   ],
   "source": [
    "movies= movies.merge(credits,on='title')\n",
    "movies.shape"
   ]
  },
  {
   "cell_type": "raw",
   "id": "9436a365-a7d2-4c2a-a325-137250dc6aa4",
   "metadata": {},
   "source": [
    "movies.head(1)"
   ]
  },
  {
   "cell_type": "code",
   "execution_count": 211,
   "id": "3411c313-18cd-4afb-b94d-3c8209c97a1a",
   "metadata": {},
   "outputs": [
    {
     "data": {
      "text/plain": [
       "original_language\n",
       "en    4510\n",
       "fr      70\n",
       "es      32\n",
       "zh      27\n",
       "de      27\n",
       "hi      19\n",
       "ja      16\n",
       "it      14\n",
       "ko      12\n",
       "cn      12\n",
       "ru      11\n",
       "pt       9\n",
       "da       7\n",
       "sv       5\n",
       "nl       4\n",
       "fa       4\n",
       "th       3\n",
       "he       3\n",
       "ta       2\n",
       "cs       2\n",
       "ro       2\n",
       "id       2\n",
       "ar       2\n",
       "vi       1\n",
       "sl       1\n",
       "ps       1\n",
       "no       1\n",
       "ky       1\n",
       "hu       1\n",
       "pl       1\n",
       "af       1\n",
       "nb       1\n",
       "tr       1\n",
       "is       1\n",
       "xx       1\n",
       "te       1\n",
       "el       1\n",
       "Name: count, dtype: int64"
      ]
     },
     "execution_count": 211,
     "metadata": {},
     "output_type": "execute_result"
    }
   ],
   "source": [
    "movies['original_language'].value_counts() "
   ]
  },
  {
   "cell_type": "code",
   "execution_count": 213,
   "id": "d1d4b185-8966-4d97-99c1-03a6541f8bc4",
   "metadata": {},
   "outputs": [],
   "source": [
    "# genre\n",
    "# id\n",
    "# keywords\n",
    "# title\n",
    "# overview\n",
    "# how to incoperate release date into this Project..We have to think and Work upon it.\n",
    "# cast\n",
    "# crew\n",
    "\n",
    "movies = movies[['movie_id','overview','title','genres','keywords','cast','crew']]"
   ]
  },
  {
   "cell_type": "code",
   "execution_count": 215,
   "id": "c0ff733d-740f-430e-bb45-a4f0ce48144a",
   "metadata": {},
   "outputs": [
    {
     "data": {
      "text/html": [
       "<div>\n",
       "<style scoped>\n",
       "    .dataframe tbody tr th:only-of-type {\n",
       "        vertical-align: middle;\n",
       "    }\n",
       "\n",
       "    .dataframe tbody tr th {\n",
       "        vertical-align: top;\n",
       "    }\n",
       "\n",
       "    .dataframe thead th {\n",
       "        text-align: right;\n",
       "    }\n",
       "</style>\n",
       "<table border=\"1\" class=\"dataframe\">\n",
       "  <thead>\n",
       "    <tr style=\"text-align: right;\">\n",
       "      <th></th>\n",
       "      <th>movie_id</th>\n",
       "      <th>overview</th>\n",
       "      <th>title</th>\n",
       "      <th>genres</th>\n",
       "      <th>keywords</th>\n",
       "      <th>cast</th>\n",
       "      <th>crew</th>\n",
       "    </tr>\n",
       "  </thead>\n",
       "  <tbody>\n",
       "    <tr>\n",
       "      <th>0</th>\n",
       "      <td>19995</td>\n",
       "      <td>In the 22nd century, a paraplegic Marine is di...</td>\n",
       "      <td>Avatar</td>\n",
       "      <td>[{\"id\": 28, \"name\": \"Action\"}, {\"id\": 12, \"nam...</td>\n",
       "      <td>[{\"id\": 1463, \"name\": \"culture clash\"}, {\"id\":...</td>\n",
       "      <td>[{\"cast_id\": 242, \"character\": \"Jake Sully\", \"...</td>\n",
       "      <td>[{\"credit_id\": \"52fe48009251416c750aca23\", \"de...</td>\n",
       "    </tr>\n",
       "  </tbody>\n",
       "</table>\n",
       "</div>"
      ],
      "text/plain": [
       "   movie_id                                           overview   title  \\\n",
       "0     19995  In the 22nd century, a paraplegic Marine is di...  Avatar   \n",
       "\n",
       "                                              genres  \\\n",
       "0  [{\"id\": 28, \"name\": \"Action\"}, {\"id\": 12, \"nam...   \n",
       "\n",
       "                                            keywords  \\\n",
       "0  [{\"id\": 1463, \"name\": \"culture clash\"}, {\"id\":...   \n",
       "\n",
       "                                                cast  \\\n",
       "0  [{\"cast_id\": 242, \"character\": \"Jake Sully\", \"...   \n",
       "\n",
       "                                                crew  \n",
       "0  [{\"credit_id\": \"52fe48009251416c750aca23\", \"de...  "
      ]
     },
     "execution_count": 215,
     "metadata": {},
     "output_type": "execute_result"
    }
   ],
   "source": [
    "movies.head(1)"
   ]
  },
  {
   "cell_type": "code",
   "execution_count": 217,
   "id": "2a64bc4c-127e-4800-985c-cefa562e1c8b",
   "metadata": {},
   "outputs": [],
   "source": [
    "# tag= keywords + overview + genres+ cast + crew..\n",
    " # 1st do preprocessing .."
   ]
  },
  {
   "cell_type": "code",
   "execution_count": 219,
   "id": "178986cb-e120-42e6-9d2e-16dd6fe21f9f",
   "metadata": {},
   "outputs": [
    {
     "data": {
      "text/plain": [
       "movie_id    0\n",
       "overview    3\n",
       "title       0\n",
       "genres      0\n",
       "keywords    0\n",
       "cast        0\n",
       "crew        0\n",
       "dtype: int64"
      ]
     },
     "execution_count": 219,
     "metadata": {},
     "output_type": "execute_result"
    }
   ],
   "source": [
    "movies.isnull().sum()"
   ]
  },
  {
   "cell_type": "code",
   "execution_count": 221,
   "id": "6473a7be-3d58-4de3-a85b-37b0731cc731",
   "metadata": {},
   "outputs": [],
   "source": [
    "movies.dropna(inplace=True)"
   ]
  },
  {
   "cell_type": "code",
   "execution_count": 223,
   "id": "3db45f09-9b53-4a04-b9a4-482e1cf80f08",
   "metadata": {},
   "outputs": [
    {
     "data": {
      "text/plain": [
       "0"
      ]
     },
     "execution_count": 223,
     "metadata": {},
     "output_type": "execute_result"
    }
   ],
   "source": [
    "movies.duplicated().sum()"
   ]
  },
  {
   "cell_type": "code",
   "execution_count": 225,
   "id": "d5bf9112-df2b-4e38-90a8-ba68a630a982",
   "metadata": {},
   "outputs": [
    {
     "data": {
      "text/plain": [
       "'[{\"id\": 28, \"name\": \"Action\"}, {\"id\": 12, \"name\": \"Adventure\"}, {\"id\": 14, \"name\": \"Fantasy\"}, {\"id\": 878, \"name\": \"Science Fiction\"}]'"
      ]
     },
     "execution_count": 225,
     "metadata": {},
     "output_type": "execute_result"
    }
   ],
   "source": [
    "movies.iloc[0].genres"
   ]
  },
  {
   "cell_type": "code",
   "execution_count": 227,
   "id": "9b286346-99f9-4f01-ad7b-af453b06697d",
   "metadata": {},
   "outputs": [],
   "source": [
    "# '[{\"id\": 28, \"name\": \"Action\"}, {\"id\": 12, \"name\": \"Adventure\"}, {\"id\": 14, \"name\": \"Fantasy\"}, {\"id\": 878, \"name\": \"Science Fiction\"}]'\n",
    "\n",
    " # We have to make this data transform into ['Action','Adventure','Fantasy','SciFi'] Format."
   ]
  },
  {
   "cell_type": "code",
   "execution_count": 229,
   "id": "ca618f0c-ebd8-412f-845f-9a21c3569837",
   "metadata": {},
   "outputs": [],
   "source": [
    "def convert(obj):\n",
    "    L=[]\n",
    "    for i in  ast.literal_eval(obj):\n",
    "        L.append(i['name'])\n",
    "    return L"
   ]
  },
  {
   "cell_type": "code",
   "execution_count": 231,
   "id": "9f20e86f-7a5f-4016-970e-8813d2854436",
   "metadata": {},
   "outputs": [
    {
     "data": {
      "text/plain": [
       "[{'id': 28, 'name': 'Action'},\n",
       " {'id': 12, 'name': 'Adventure'},\n",
       " {'id': 14, 'name': 'Fantasy'},\n",
       " {'id': 878, 'name': 'Science Fiction'}]"
      ]
     },
     "execution_count": 231,
     "metadata": {},
     "output_type": "execute_result"
    }
   ],
   "source": [
    "import ast\n",
    "ast.literal_eval( '[{\"id\": 28, \"name\": \"Action\"}, {\"id\": 12, \"name\": \"Adventure\"}, {\"id\": 14, \"name\": \"Fantasy\"}, {\"id\": 878, \"name\": \"Science Fiction\"}]')      \n",
    "\n",
    "# It turns a string that looks like a list or dictionary into an actual Python list or dictionary."
   ]
  },
  {
   "cell_type": "code",
   "execution_count": 233,
   "id": "64d89dd6-ee03-4703-9fd9-32da1c6702f3",
   "metadata": {},
   "outputs": [
    {
     "data": {
      "text/html": [
       "<div>\n",
       "<style scoped>\n",
       "    .dataframe tbody tr th:only-of-type {\n",
       "        vertical-align: middle;\n",
       "    }\n",
       "\n",
       "    .dataframe tbody tr th {\n",
       "        vertical-align: top;\n",
       "    }\n",
       "\n",
       "    .dataframe thead th {\n",
       "        text-align: right;\n",
       "    }\n",
       "</style>\n",
       "<table border=\"1\" class=\"dataframe\">\n",
       "  <thead>\n",
       "    <tr style=\"text-align: right;\">\n",
       "      <th></th>\n",
       "      <th>movie_id</th>\n",
       "      <th>overview</th>\n",
       "      <th>title</th>\n",
       "      <th>genres</th>\n",
       "      <th>keywords</th>\n",
       "      <th>cast</th>\n",
       "      <th>crew</th>\n",
       "    </tr>\n",
       "  </thead>\n",
       "  <tbody>\n",
       "    <tr>\n",
       "      <th>0</th>\n",
       "      <td>19995</td>\n",
       "      <td>In the 22nd century, a paraplegic Marine is di...</td>\n",
       "      <td>Avatar</td>\n",
       "      <td>[Action, Adventure, Fantasy, Science Fiction]</td>\n",
       "      <td>[{\"id\": 1463, \"name\": \"culture clash\"}, {\"id\":...</td>\n",
       "      <td>[{\"cast_id\": 242, \"character\": \"Jake Sully\", \"...</td>\n",
       "      <td>[{\"credit_id\": \"52fe48009251416c750aca23\", \"de...</td>\n",
       "    </tr>\n",
       "  </tbody>\n",
       "</table>\n",
       "</div>"
      ],
      "text/plain": [
       "   movie_id                                           overview   title  \\\n",
       "0     19995  In the 22nd century, a paraplegic Marine is di...  Avatar   \n",
       "\n",
       "                                          genres  \\\n",
       "0  [Action, Adventure, Fantasy, Science Fiction]   \n",
       "\n",
       "                                            keywords  \\\n",
       "0  [{\"id\": 1463, \"name\": \"culture clash\"}, {\"id\":...   \n",
       "\n",
       "                                                cast  \\\n",
       "0  [{\"cast_id\": 242, \"character\": \"Jake Sully\", \"...   \n",
       "\n",
       "                                                crew  \n",
       "0  [{\"credit_id\": \"52fe48009251416c750aca23\", \"de...  "
      ]
     },
     "execution_count": 233,
     "metadata": {},
     "output_type": "execute_result"
    }
   ],
   "source": [
    "movies['genres']= movies['genres'].apply(convert)\n",
    "movies.head(1)"
   ]
  },
  {
   "cell_type": "code",
   "execution_count": 235,
   "id": "e1c7cd29-52a4-4158-a98f-db65ded61815",
   "metadata": {},
   "outputs": [],
   "source": [
    "movies['keywords']= movies['keywords'].apply(convert)\n"
   ]
  },
  {
   "cell_type": "code",
   "execution_count": 237,
   "id": "28de4bfa-12d4-4666-a6a8-800bb9cda5f5",
   "metadata": {},
   "outputs": [
    {
     "data": {
      "text/html": [
       "<div>\n",
       "<style scoped>\n",
       "    .dataframe tbody tr th:only-of-type {\n",
       "        vertical-align: middle;\n",
       "    }\n",
       "\n",
       "    .dataframe tbody tr th {\n",
       "        vertical-align: top;\n",
       "    }\n",
       "\n",
       "    .dataframe thead th {\n",
       "        text-align: right;\n",
       "    }\n",
       "</style>\n",
       "<table border=\"1\" class=\"dataframe\">\n",
       "  <thead>\n",
       "    <tr style=\"text-align: right;\">\n",
       "      <th></th>\n",
       "      <th>movie_id</th>\n",
       "      <th>overview</th>\n",
       "      <th>title</th>\n",
       "      <th>genres</th>\n",
       "      <th>keywords</th>\n",
       "      <th>cast</th>\n",
       "      <th>crew</th>\n",
       "    </tr>\n",
       "  </thead>\n",
       "  <tbody>\n",
       "    <tr>\n",
       "      <th>0</th>\n",
       "      <td>19995</td>\n",
       "      <td>In the 22nd century, a paraplegic Marine is di...</td>\n",
       "      <td>Avatar</td>\n",
       "      <td>[Action, Adventure, Fantasy, Science Fiction]</td>\n",
       "      <td>[culture clash, future, space war, space colon...</td>\n",
       "      <td>[{\"cast_id\": 242, \"character\": \"Jake Sully\", \"...</td>\n",
       "      <td>[{\"credit_id\": \"52fe48009251416c750aca23\", \"de...</td>\n",
       "    </tr>\n",
       "  </tbody>\n",
       "</table>\n",
       "</div>"
      ],
      "text/plain": [
       "   movie_id                                           overview   title  \\\n",
       "0     19995  In the 22nd century, a paraplegic Marine is di...  Avatar   \n",
       "\n",
       "                                          genres  \\\n",
       "0  [Action, Adventure, Fantasy, Science Fiction]   \n",
       "\n",
       "                                            keywords  \\\n",
       "0  [culture clash, future, space war, space colon...   \n",
       "\n",
       "                                                cast  \\\n",
       "0  [{\"cast_id\": 242, \"character\": \"Jake Sully\", \"...   \n",
       "\n",
       "                                                crew  \n",
       "0  [{\"credit_id\": \"52fe48009251416c750aca23\", \"de...  "
      ]
     },
     "execution_count": 237,
     "metadata": {},
     "output_type": "execute_result"
    }
   ],
   "source": [
    "movies.head(1)"
   ]
  },
  {
   "cell_type": "code",
   "execution_count": 239,
   "id": "8506b3d1-925a-43ef-8bc8-16a295313257",
   "metadata": {},
   "outputs": [],
   "source": [
    "def convert3(obj):\n",
    "    L = []\n",
    "    counter = 0\n",
    "    \n",
    "    if obj is None:\n",
    "        return L\n",
    "    if isinstance(obj, float) and np.isnan(obj):\n",
    "        return L\n",
    "    \n",
    "    if isinstance(obj, str):\n",
    "        try:\n",
    "            obj = ast.literal_eval(obj)\n",
    "        except:\n",
    "            return L\n",
    "    \n",
    "    if not isinstance(obj, (list, np.ndarray)):\n",
    "        return L\n",
    "    \n",
    "    for i in obj:\n",
    "        if counter == 3:\n",
    "            break\n",
    "\n",
    "        if isinstance(i, dict) and 'name' in i:\n",
    "            L.append(i['name'])\n",
    "        elif isinstance(i, str):\n",
    "            L.append(i)\n",
    "        counter += 1\n",
    "        \n",
    "    return L\n"
   ]
  },
  {
   "cell_type": "code",
   "execution_count": 241,
   "id": "fd68f45b-3597-4e53-adb8-37aa7e600c69",
   "metadata": {},
   "outputs": [],
   "source": [
    "movies['cast']  = movies['cast'].apply(convert3)"
   ]
  },
  {
   "cell_type": "code",
   "execution_count": 242,
   "id": "ca3ca956-a0ca-4ff1-8dcd-06f66ad38c51",
   "metadata": {},
   "outputs": [
    {
     "data": {
      "text/html": [
       "<div>\n",
       "<style scoped>\n",
       "    .dataframe tbody tr th:only-of-type {\n",
       "        vertical-align: middle;\n",
       "    }\n",
       "\n",
       "    .dataframe tbody tr th {\n",
       "        vertical-align: top;\n",
       "    }\n",
       "\n",
       "    .dataframe thead th {\n",
       "        text-align: right;\n",
       "    }\n",
       "</style>\n",
       "<table border=\"1\" class=\"dataframe\">\n",
       "  <thead>\n",
       "    <tr style=\"text-align: right;\">\n",
       "      <th></th>\n",
       "      <th>movie_id</th>\n",
       "      <th>overview</th>\n",
       "      <th>title</th>\n",
       "      <th>genres</th>\n",
       "      <th>keywords</th>\n",
       "      <th>cast</th>\n",
       "      <th>crew</th>\n",
       "    </tr>\n",
       "  </thead>\n",
       "  <tbody>\n",
       "    <tr>\n",
       "      <th>0</th>\n",
       "      <td>19995</td>\n",
       "      <td>In the 22nd century, a paraplegic Marine is di...</td>\n",
       "      <td>Avatar</td>\n",
       "      <td>[Action, Adventure, Fantasy, Science Fiction]</td>\n",
       "      <td>[culture clash, future, space war, space colon...</td>\n",
       "      <td>[Sam Worthington, Zoe Saldana, Sigourney Weaver]</td>\n",
       "      <td>[{\"credit_id\": \"52fe48009251416c750aca23\", \"de...</td>\n",
       "    </tr>\n",
       "  </tbody>\n",
       "</table>\n",
       "</div>"
      ],
      "text/plain": [
       "   movie_id                                           overview   title  \\\n",
       "0     19995  In the 22nd century, a paraplegic Marine is di...  Avatar   \n",
       "\n",
       "                                          genres  \\\n",
       "0  [Action, Adventure, Fantasy, Science Fiction]   \n",
       "\n",
       "                                            keywords  \\\n",
       "0  [culture clash, future, space war, space colon...   \n",
       "\n",
       "                                               cast  \\\n",
       "0  [Sam Worthington, Zoe Saldana, Sigourney Weaver]   \n",
       "\n",
       "                                                crew  \n",
       "0  [{\"credit_id\": \"52fe48009251416c750aca23\", \"de...  "
      ]
     },
     "execution_count": 242,
     "metadata": {},
     "output_type": "execute_result"
    }
   ],
   "source": [
    "movies.head(1)"
   ]
  },
  {
   "cell_type": "code",
   "execution_count": 243,
   "id": "566ce7e5-6d99-457e-8c8b-ebd2616e3d52",
   "metadata": {},
   "outputs": [],
   "source": [
    "def extract_director(obj):\n",
    "    result = []\n",
    "    \n",
    "    if obj is None:\n",
    "        return result\n",
    "    if isinstance(obj, float) and np.isnan(obj):\n",
    "        return result\n",
    "    \n",
    "    if isinstance(obj, str):\n",
    "        try:\n",
    "            obj = ast.literal_eval(obj)\n",
    "        except:\n",
    "            return result\n",
    "    \n",
    "    if not isinstance(obj, (list, np.ndarray)):\n",
    "        return result\n",
    "    \n",
    "    for item in obj:\n",
    "        if isinstance(item, dict):\n",
    "            # Only take Director(s)\n",
    "            if item.get('job') == 'Director':\n",
    "                result.append(item.get('name'))\n",
    "                break  \n",
    "        elif isinstance(item, str):\n",
    "            result.append(item)\n",
    "            break\n",
    "    return result"
   ]
  },
  {
   "cell_type": "markdown",
   "id": "bd030575-6d77-409e-8e8e-6aeaa501a029",
   "metadata": {},
   "source": [
    "movies['crew'] = movies['crew'].apply(extract_director)\n"
   ]
  },
  {
   "cell_type": "code",
   "execution_count": 245,
   "id": "fd7f3517-6874-47f4-8072-7552d72c7b50",
   "metadata": {},
   "outputs": [
    {
     "data": {
      "text/html": [
       "<div>\n",
       "<style scoped>\n",
       "    .dataframe tbody tr th:only-of-type {\n",
       "        vertical-align: middle;\n",
       "    }\n",
       "\n",
       "    .dataframe tbody tr th {\n",
       "        vertical-align: top;\n",
       "    }\n",
       "\n",
       "    .dataframe thead th {\n",
       "        text-align: right;\n",
       "    }\n",
       "</style>\n",
       "<table border=\"1\" class=\"dataframe\">\n",
       "  <thead>\n",
       "    <tr style=\"text-align: right;\">\n",
       "      <th></th>\n",
       "      <th>movie_id</th>\n",
       "      <th>overview</th>\n",
       "      <th>title</th>\n",
       "      <th>genres</th>\n",
       "      <th>keywords</th>\n",
       "      <th>cast</th>\n",
       "      <th>crew</th>\n",
       "    </tr>\n",
       "  </thead>\n",
       "  <tbody>\n",
       "    <tr>\n",
       "      <th>0</th>\n",
       "      <td>19995</td>\n",
       "      <td>In the 22nd century, a paraplegic Marine is di...</td>\n",
       "      <td>Avatar</td>\n",
       "      <td>[Action, Adventure, Fantasy, Science Fiction]</td>\n",
       "      <td>[culture clash, future, space war, space colon...</td>\n",
       "      <td>[Sam Worthington, Zoe Saldana, Sigourney Weaver]</td>\n",
       "      <td>[{\"credit_id\": \"52fe48009251416c750aca23\", \"de...</td>\n",
       "    </tr>\n",
       "    <tr>\n",
       "      <th>1</th>\n",
       "      <td>285</td>\n",
       "      <td>Captain Barbossa, long believed to be dead, ha...</td>\n",
       "      <td>Pirates of the Caribbean: At World's End</td>\n",
       "      <td>[Adventure, Fantasy, Action]</td>\n",
       "      <td>[ocean, drug abuse, exotic island, east india ...</td>\n",
       "      <td>[Johnny Depp, Orlando Bloom, Keira Knightley]</td>\n",
       "      <td>[{\"credit_id\": \"52fe4232c3a36847f800b579\", \"de...</td>\n",
       "    </tr>\n",
       "    <tr>\n",
       "      <th>2</th>\n",
       "      <td>206647</td>\n",
       "      <td>A cryptic message from Bond’s past sends him o...</td>\n",
       "      <td>Spectre</td>\n",
       "      <td>[Action, Adventure, Crime]</td>\n",
       "      <td>[spy, based on novel, secret agent, sequel, mi...</td>\n",
       "      <td>[Daniel Craig, Christoph Waltz, Léa Seydoux]</td>\n",
       "      <td>[{\"credit_id\": \"54805967c3a36829b5002c41\", \"de...</td>\n",
       "    </tr>\n",
       "    <tr>\n",
       "      <th>3</th>\n",
       "      <td>49026</td>\n",
       "      <td>Following the death of District Attorney Harve...</td>\n",
       "      <td>The Dark Knight Rises</td>\n",
       "      <td>[Action, Crime, Drama, Thriller]</td>\n",
       "      <td>[dc comics, crime fighter, terrorist, secret i...</td>\n",
       "      <td>[Christian Bale, Michael Caine, Gary Oldman]</td>\n",
       "      <td>[{\"credit_id\": \"52fe4781c3a36847f81398c3\", \"de...</td>\n",
       "    </tr>\n",
       "    <tr>\n",
       "      <th>4</th>\n",
       "      <td>49529</td>\n",
       "      <td>John Carter is a war-weary, former military ca...</td>\n",
       "      <td>John Carter</td>\n",
       "      <td>[Action, Adventure, Science Fiction]</td>\n",
       "      <td>[based on novel, mars, medallion, space travel...</td>\n",
       "      <td>[Taylor Kitsch, Lynn Collins, Samantha Morton]</td>\n",
       "      <td>[{\"credit_id\": \"52fe479ac3a36847f813eaa3\", \"de...</td>\n",
       "    </tr>\n",
       "  </tbody>\n",
       "</table>\n",
       "</div>"
      ],
      "text/plain": [
       "   movie_id                                           overview  \\\n",
       "0     19995  In the 22nd century, a paraplegic Marine is di...   \n",
       "1       285  Captain Barbossa, long believed to be dead, ha...   \n",
       "2    206647  A cryptic message from Bond’s past sends him o...   \n",
       "3     49026  Following the death of District Attorney Harve...   \n",
       "4     49529  John Carter is a war-weary, former military ca...   \n",
       "\n",
       "                                      title  \\\n",
       "0                                    Avatar   \n",
       "1  Pirates of the Caribbean: At World's End   \n",
       "2                                   Spectre   \n",
       "3                     The Dark Knight Rises   \n",
       "4                               John Carter   \n",
       "\n",
       "                                          genres  \\\n",
       "0  [Action, Adventure, Fantasy, Science Fiction]   \n",
       "1                   [Adventure, Fantasy, Action]   \n",
       "2                     [Action, Adventure, Crime]   \n",
       "3               [Action, Crime, Drama, Thriller]   \n",
       "4           [Action, Adventure, Science Fiction]   \n",
       "\n",
       "                                            keywords  \\\n",
       "0  [culture clash, future, space war, space colon...   \n",
       "1  [ocean, drug abuse, exotic island, east india ...   \n",
       "2  [spy, based on novel, secret agent, sequel, mi...   \n",
       "3  [dc comics, crime fighter, terrorist, secret i...   \n",
       "4  [based on novel, mars, medallion, space travel...   \n",
       "\n",
       "                                               cast  \\\n",
       "0  [Sam Worthington, Zoe Saldana, Sigourney Weaver]   \n",
       "1     [Johnny Depp, Orlando Bloom, Keira Knightley]   \n",
       "2      [Daniel Craig, Christoph Waltz, Léa Seydoux]   \n",
       "3      [Christian Bale, Michael Caine, Gary Oldman]   \n",
       "4    [Taylor Kitsch, Lynn Collins, Samantha Morton]   \n",
       "\n",
       "                                                crew  \n",
       "0  [{\"credit_id\": \"52fe48009251416c750aca23\", \"de...  \n",
       "1  [{\"credit_id\": \"52fe4232c3a36847f800b579\", \"de...  \n",
       "2  [{\"credit_id\": \"54805967c3a36829b5002c41\", \"de...  \n",
       "3  [{\"credit_id\": \"52fe4781c3a36847f81398c3\", \"de...  \n",
       "4  [{\"credit_id\": \"52fe479ac3a36847f813eaa3\", \"de...  "
      ]
     },
     "execution_count": 245,
     "metadata": {},
     "output_type": "execute_result"
    }
   ],
   "source": [
    "movies.head()"
   ]
  },
  {
   "cell_type": "code",
   "execution_count": 250,
   "id": "2bfb1cb8-9a19-4c69-a260-84d47e3dad4c",
   "metadata": {},
   "outputs": [
    {
     "data": {
      "text/plain": [
       "'In the 22nd century, a paraplegic Marine is dispatched to the moon Pandora on a unique mission, but becomes torn between following orders and protecting an alien civilization.'"
      ]
     },
     "execution_count": 250,
     "metadata": {},
     "output_type": "execute_result"
    }
   ],
   "source": [
    "movies['overview'][0]"
   ]
  },
  {
   "cell_type": "code",
   "execution_count": 252,
   "id": "ff4720dc-581b-4145-9e2a-e7657fc3e205",
   "metadata": {},
   "outputs": [],
   "source": [
    "movies['overview']=movies['overview'].apply(lambda x:x.split())"
   ]
  },
  {
   "cell_type": "code",
   "execution_count": 254,
   "id": "63209cb5-d3ab-47bb-9d88-9cbd85cab620",
   "metadata": {},
   "outputs": [
    {
     "data": {
      "text/html": [
       "<div>\n",
       "<style scoped>\n",
       "    .dataframe tbody tr th:only-of-type {\n",
       "        vertical-align: middle;\n",
       "    }\n",
       "\n",
       "    .dataframe tbody tr th {\n",
       "        vertical-align: top;\n",
       "    }\n",
       "\n",
       "    .dataframe thead th {\n",
       "        text-align: right;\n",
       "    }\n",
       "</style>\n",
       "<table border=\"1\" class=\"dataframe\">\n",
       "  <thead>\n",
       "    <tr style=\"text-align: right;\">\n",
       "      <th></th>\n",
       "      <th>movie_id</th>\n",
       "      <th>overview</th>\n",
       "      <th>title</th>\n",
       "      <th>genres</th>\n",
       "      <th>keywords</th>\n",
       "      <th>cast</th>\n",
       "      <th>crew</th>\n",
       "    </tr>\n",
       "  </thead>\n",
       "  <tbody>\n",
       "    <tr>\n",
       "      <th>0</th>\n",
       "      <td>19995</td>\n",
       "      <td>[In, the, 22nd, century,, a, paraplegic, Marin...</td>\n",
       "      <td>Avatar</td>\n",
       "      <td>[Action, Adventure, Fantasy, Science Fiction]</td>\n",
       "      <td>[culture clash, future, space war, space colon...</td>\n",
       "      <td>[Sam Worthington, Zoe Saldana, Sigourney Weaver]</td>\n",
       "      <td>[{\"credit_id\": \"52fe48009251416c750aca23\", \"de...</td>\n",
       "    </tr>\n",
       "    <tr>\n",
       "      <th>1</th>\n",
       "      <td>285</td>\n",
       "      <td>[Captain, Barbossa,, long, believed, to, be, d...</td>\n",
       "      <td>Pirates of the Caribbean: At World's End</td>\n",
       "      <td>[Adventure, Fantasy, Action]</td>\n",
       "      <td>[ocean, drug abuse, exotic island, east india ...</td>\n",
       "      <td>[Johnny Depp, Orlando Bloom, Keira Knightley]</td>\n",
       "      <td>[{\"credit_id\": \"52fe4232c3a36847f800b579\", \"de...</td>\n",
       "    </tr>\n",
       "    <tr>\n",
       "      <th>2</th>\n",
       "      <td>206647</td>\n",
       "      <td>[A, cryptic, message, from, Bond’s, past, send...</td>\n",
       "      <td>Spectre</td>\n",
       "      <td>[Action, Adventure, Crime]</td>\n",
       "      <td>[spy, based on novel, secret agent, sequel, mi...</td>\n",
       "      <td>[Daniel Craig, Christoph Waltz, Léa Seydoux]</td>\n",
       "      <td>[{\"credit_id\": \"54805967c3a36829b5002c41\", \"de...</td>\n",
       "    </tr>\n",
       "    <tr>\n",
       "      <th>3</th>\n",
       "      <td>49026</td>\n",
       "      <td>[Following, the, death, of, District, Attorney...</td>\n",
       "      <td>The Dark Knight Rises</td>\n",
       "      <td>[Action, Crime, Drama, Thriller]</td>\n",
       "      <td>[dc comics, crime fighter, terrorist, secret i...</td>\n",
       "      <td>[Christian Bale, Michael Caine, Gary Oldman]</td>\n",
       "      <td>[{\"credit_id\": \"52fe4781c3a36847f81398c3\", \"de...</td>\n",
       "    </tr>\n",
       "    <tr>\n",
       "      <th>4</th>\n",
       "      <td>49529</td>\n",
       "      <td>[John, Carter, is, a, war-weary,, former, mili...</td>\n",
       "      <td>John Carter</td>\n",
       "      <td>[Action, Adventure, Science Fiction]</td>\n",
       "      <td>[based on novel, mars, medallion, space travel...</td>\n",
       "      <td>[Taylor Kitsch, Lynn Collins, Samantha Morton]</td>\n",
       "      <td>[{\"credit_id\": \"52fe479ac3a36847f813eaa3\", \"de...</td>\n",
       "    </tr>\n",
       "  </tbody>\n",
       "</table>\n",
       "</div>"
      ],
      "text/plain": [
       "   movie_id                                           overview  \\\n",
       "0     19995  [In, the, 22nd, century,, a, paraplegic, Marin...   \n",
       "1       285  [Captain, Barbossa,, long, believed, to, be, d...   \n",
       "2    206647  [A, cryptic, message, from, Bond’s, past, send...   \n",
       "3     49026  [Following, the, death, of, District, Attorney...   \n",
       "4     49529  [John, Carter, is, a, war-weary,, former, mili...   \n",
       "\n",
       "                                      title  \\\n",
       "0                                    Avatar   \n",
       "1  Pirates of the Caribbean: At World's End   \n",
       "2                                   Spectre   \n",
       "3                     The Dark Knight Rises   \n",
       "4                               John Carter   \n",
       "\n",
       "                                          genres  \\\n",
       "0  [Action, Adventure, Fantasy, Science Fiction]   \n",
       "1                   [Adventure, Fantasy, Action]   \n",
       "2                     [Action, Adventure, Crime]   \n",
       "3               [Action, Crime, Drama, Thriller]   \n",
       "4           [Action, Adventure, Science Fiction]   \n",
       "\n",
       "                                            keywords  \\\n",
       "0  [culture clash, future, space war, space colon...   \n",
       "1  [ocean, drug abuse, exotic island, east india ...   \n",
       "2  [spy, based on novel, secret agent, sequel, mi...   \n",
       "3  [dc comics, crime fighter, terrorist, secret i...   \n",
       "4  [based on novel, mars, medallion, space travel...   \n",
       "\n",
       "                                               cast  \\\n",
       "0  [Sam Worthington, Zoe Saldana, Sigourney Weaver]   \n",
       "1     [Johnny Depp, Orlando Bloom, Keira Knightley]   \n",
       "2      [Daniel Craig, Christoph Waltz, Léa Seydoux]   \n",
       "3      [Christian Bale, Michael Caine, Gary Oldman]   \n",
       "4    [Taylor Kitsch, Lynn Collins, Samantha Morton]   \n",
       "\n",
       "                                                crew  \n",
       "0  [{\"credit_id\": \"52fe48009251416c750aca23\", \"de...  \n",
       "1  [{\"credit_id\": \"52fe4232c3a36847f800b579\", \"de...  \n",
       "2  [{\"credit_id\": \"54805967c3a36829b5002c41\", \"de...  \n",
       "3  [{\"credit_id\": \"52fe4781c3a36847f81398c3\", \"de...  \n",
       "4  [{\"credit_id\": \"52fe479ac3a36847f813eaa3\", \"de...  "
      ]
     },
     "execution_count": 254,
     "metadata": {},
     "output_type": "execute_result"
    }
   ],
   "source": [
    "movies.head()"
   ]
  },
  {
   "cell_type": "code",
   "execution_count": 256,
   "id": "57884ec9-183b-4b62-a2d7-208401163e35",
   "metadata": {},
   "outputs": [],
   "source": [
    " # we have to replace'Sam Worthington' to 'SamWorthington' so that the model will not get confused between Sam Worthington and [Sam Mendes\n",
    "# and we will do this replacement for  genre,keywords,cast and crew ."
   ]
  },
  {
   "cell_type": "code",
   "execution_count": 258,
   "id": "a71a53b3-fb75-4550-8dcb-127378986d11",
   "metadata": {},
   "outputs": [],
   "source": [
    " movies['genres'] = movies['genres'].apply(lambda x:[i.replace(\" \",\"\") for i in x])\n",
    " movies['keywords'] = movies['keywords'].apply(lambda x:[i.replace(\" \",\"\") for i in x])\n",
    " movies['cast'] = movies['cast'].apply(lambda x:[i.replace(\" \",\"\") for i in x])\n",
    " movies['crew'] = movies['crew'].apply(lambda x:[i.replace(\" \",\"\") for i in x])"
   ]
  },
  {
   "cell_type": "code",
   "execution_count": 259,
   "id": "4c112d89-25d4-4e7c-bebb-601c9f7b8625",
   "metadata": {},
   "outputs": [
    {
     "data": {
      "text/html": [
       "<div>\n",
       "<style scoped>\n",
       "    .dataframe tbody tr th:only-of-type {\n",
       "        vertical-align: middle;\n",
       "    }\n",
       "\n",
       "    .dataframe tbody tr th {\n",
       "        vertical-align: top;\n",
       "    }\n",
       "\n",
       "    .dataframe thead th {\n",
       "        text-align: right;\n",
       "    }\n",
       "</style>\n",
       "<table border=\"1\" class=\"dataframe\">\n",
       "  <thead>\n",
       "    <tr style=\"text-align: right;\">\n",
       "      <th></th>\n",
       "      <th>movie_id</th>\n",
       "      <th>overview</th>\n",
       "      <th>title</th>\n",
       "      <th>genres</th>\n",
       "      <th>keywords</th>\n",
       "      <th>cast</th>\n",
       "      <th>crew</th>\n",
       "    </tr>\n",
       "  </thead>\n",
       "  <tbody>\n",
       "    <tr>\n",
       "      <th>0</th>\n",
       "      <td>19995</td>\n",
       "      <td>[In, the, 22nd, century,, a, paraplegic, Marin...</td>\n",
       "      <td>Avatar</td>\n",
       "      <td>[Action, Adventure, Fantasy, ScienceFiction]</td>\n",
       "      <td>[cultureclash, future, spacewar, spacecolony, ...</td>\n",
       "      <td>[SamWorthington, ZoeSaldana, SigourneyWeaver]</td>\n",
       "      <td>[[, {, \", c, r, e, d, i, t, _, i, d, \", :, , \"...</td>\n",
       "    </tr>\n",
       "    <tr>\n",
       "      <th>1</th>\n",
       "      <td>285</td>\n",
       "      <td>[Captain, Barbossa,, long, believed, to, be, d...</td>\n",
       "      <td>Pirates of the Caribbean: At World's End</td>\n",
       "      <td>[Adventure, Fantasy, Action]</td>\n",
       "      <td>[ocean, drugabuse, exoticisland, eastindiatrad...</td>\n",
       "      <td>[JohnnyDepp, OrlandoBloom, KeiraKnightley]</td>\n",
       "      <td>[[, {, \", c, r, e, d, i, t, _, i, d, \", :, , \"...</td>\n",
       "    </tr>\n",
       "    <tr>\n",
       "      <th>2</th>\n",
       "      <td>206647</td>\n",
       "      <td>[A, cryptic, message, from, Bond’s, past, send...</td>\n",
       "      <td>Spectre</td>\n",
       "      <td>[Action, Adventure, Crime]</td>\n",
       "      <td>[spy, basedonnovel, secretagent, sequel, mi6, ...</td>\n",
       "      <td>[DanielCraig, ChristophWaltz, LéaSeydoux]</td>\n",
       "      <td>[[, {, \", c, r, e, d, i, t, _, i, d, \", :, , \"...</td>\n",
       "    </tr>\n",
       "    <tr>\n",
       "      <th>3</th>\n",
       "      <td>49026</td>\n",
       "      <td>[Following, the, death, of, District, Attorney...</td>\n",
       "      <td>The Dark Knight Rises</td>\n",
       "      <td>[Action, Crime, Drama, Thriller]</td>\n",
       "      <td>[dccomics, crimefighter, terrorist, secretiden...</td>\n",
       "      <td>[ChristianBale, MichaelCaine, GaryOldman]</td>\n",
       "      <td>[[, {, \", c, r, e, d, i, t, _, i, d, \", :, , \"...</td>\n",
       "    </tr>\n",
       "    <tr>\n",
       "      <th>4</th>\n",
       "      <td>49529</td>\n",
       "      <td>[John, Carter, is, a, war-weary,, former, mili...</td>\n",
       "      <td>John Carter</td>\n",
       "      <td>[Action, Adventure, ScienceFiction]</td>\n",
       "      <td>[basedonnovel, mars, medallion, spacetravel, p...</td>\n",
       "      <td>[TaylorKitsch, LynnCollins, SamanthaMorton]</td>\n",
       "      <td>[[, {, \", c, r, e, d, i, t, _, i, d, \", :, , \"...</td>\n",
       "    </tr>\n",
       "  </tbody>\n",
       "</table>\n",
       "</div>"
      ],
      "text/plain": [
       "   movie_id                                           overview  \\\n",
       "0     19995  [In, the, 22nd, century,, a, paraplegic, Marin...   \n",
       "1       285  [Captain, Barbossa,, long, believed, to, be, d...   \n",
       "2    206647  [A, cryptic, message, from, Bond’s, past, send...   \n",
       "3     49026  [Following, the, death, of, District, Attorney...   \n",
       "4     49529  [John, Carter, is, a, war-weary,, former, mili...   \n",
       "\n",
       "                                      title  \\\n",
       "0                                    Avatar   \n",
       "1  Pirates of the Caribbean: At World's End   \n",
       "2                                   Spectre   \n",
       "3                     The Dark Knight Rises   \n",
       "4                               John Carter   \n",
       "\n",
       "                                         genres  \\\n",
       "0  [Action, Adventure, Fantasy, ScienceFiction]   \n",
       "1                  [Adventure, Fantasy, Action]   \n",
       "2                    [Action, Adventure, Crime]   \n",
       "3              [Action, Crime, Drama, Thriller]   \n",
       "4           [Action, Adventure, ScienceFiction]   \n",
       "\n",
       "                                            keywords  \\\n",
       "0  [cultureclash, future, spacewar, spacecolony, ...   \n",
       "1  [ocean, drugabuse, exoticisland, eastindiatrad...   \n",
       "2  [spy, basedonnovel, secretagent, sequel, mi6, ...   \n",
       "3  [dccomics, crimefighter, terrorist, secretiden...   \n",
       "4  [basedonnovel, mars, medallion, spacetravel, p...   \n",
       "\n",
       "                                            cast  \\\n",
       "0  [SamWorthington, ZoeSaldana, SigourneyWeaver]   \n",
       "1     [JohnnyDepp, OrlandoBloom, KeiraKnightley]   \n",
       "2      [DanielCraig, ChristophWaltz, LéaSeydoux]   \n",
       "3      [ChristianBale, MichaelCaine, GaryOldman]   \n",
       "4    [TaylorKitsch, LynnCollins, SamanthaMorton]   \n",
       "\n",
       "                                                crew  \n",
       "0  [[, {, \", c, r, e, d, i, t, _, i, d, \", :, , \"...  \n",
       "1  [[, {, \", c, r, e, d, i, t, _, i, d, \", :, , \"...  \n",
       "2  [[, {, \", c, r, e, d, i, t, _, i, d, \", :, , \"...  \n",
       "3  [[, {, \", c, r, e, d, i, t, _, i, d, \", :, , \"...  \n",
       "4  [[, {, \", c, r, e, d, i, t, _, i, d, \", :, , \"...  "
      ]
     },
     "execution_count": 259,
     "metadata": {},
     "output_type": "execute_result"
    }
   ],
   "source": [
    "movies.head()"
   ]
  },
  {
   "cell_type": "code",
   "execution_count": 262,
   "id": "01b179d0-a2e5-475f-9a86-d27f8b62df9c",
   "metadata": {},
   "outputs": [],
   "source": [
    "# now are going to concatenate all the columns under the name of tag columns."
   ]
  },
  {
   "cell_type": "code",
   "execution_count": 264,
   "id": "33c831b6-e808-4b53-9ebc-fe5c18601c69",
   "metadata": {},
   "outputs": [],
   "source": [
    "movies['tags']=movies['overview']+movies['genres']+movies['keywords']+movies['cast']+movies['crew']"
   ]
  },
  {
   "cell_type": "code",
   "execution_count": 266,
   "id": "e440b90a-6402-4cd0-b3c2-23aedba029b9",
   "metadata": {},
   "outputs": [
    {
     "data": {
      "text/html": [
       "<div>\n",
       "<style scoped>\n",
       "    .dataframe tbody tr th:only-of-type {\n",
       "        vertical-align: middle;\n",
       "    }\n",
       "\n",
       "    .dataframe tbody tr th {\n",
       "        vertical-align: top;\n",
       "    }\n",
       "\n",
       "    .dataframe thead th {\n",
       "        text-align: right;\n",
       "    }\n",
       "</style>\n",
       "<table border=\"1\" class=\"dataframe\">\n",
       "  <thead>\n",
       "    <tr style=\"text-align: right;\">\n",
       "      <th></th>\n",
       "      <th>movie_id</th>\n",
       "      <th>overview</th>\n",
       "      <th>title</th>\n",
       "      <th>genres</th>\n",
       "      <th>keywords</th>\n",
       "      <th>cast</th>\n",
       "      <th>crew</th>\n",
       "      <th>tags</th>\n",
       "    </tr>\n",
       "  </thead>\n",
       "  <tbody>\n",
       "    <tr>\n",
       "      <th>0</th>\n",
       "      <td>19995</td>\n",
       "      <td>[In, the, 22nd, century,, a, paraplegic, Marin...</td>\n",
       "      <td>Avatar</td>\n",
       "      <td>[Action, Adventure, Fantasy, ScienceFiction]</td>\n",
       "      <td>[cultureclash, future, spacewar, spacecolony, ...</td>\n",
       "      <td>[SamWorthington, ZoeSaldana, SigourneyWeaver]</td>\n",
       "      <td>[[, {, \", c, r, e, d, i, t, _, i, d, \", :, , \"...</td>\n",
       "      <td>[In, the, 22nd, century,, a, paraplegic, Marin...</td>\n",
       "    </tr>\n",
       "    <tr>\n",
       "      <th>1</th>\n",
       "      <td>285</td>\n",
       "      <td>[Captain, Barbossa,, long, believed, to, be, d...</td>\n",
       "      <td>Pirates of the Caribbean: At World's End</td>\n",
       "      <td>[Adventure, Fantasy, Action]</td>\n",
       "      <td>[ocean, drugabuse, exoticisland, eastindiatrad...</td>\n",
       "      <td>[JohnnyDepp, OrlandoBloom, KeiraKnightley]</td>\n",
       "      <td>[[, {, \", c, r, e, d, i, t, _, i, d, \", :, , \"...</td>\n",
       "      <td>[Captain, Barbossa,, long, believed, to, be, d...</td>\n",
       "    </tr>\n",
       "    <tr>\n",
       "      <th>2</th>\n",
       "      <td>206647</td>\n",
       "      <td>[A, cryptic, message, from, Bond’s, past, send...</td>\n",
       "      <td>Spectre</td>\n",
       "      <td>[Action, Adventure, Crime]</td>\n",
       "      <td>[spy, basedonnovel, secretagent, sequel, mi6, ...</td>\n",
       "      <td>[DanielCraig, ChristophWaltz, LéaSeydoux]</td>\n",
       "      <td>[[, {, \", c, r, e, d, i, t, _, i, d, \", :, , \"...</td>\n",
       "      <td>[A, cryptic, message, from, Bond’s, past, send...</td>\n",
       "    </tr>\n",
       "    <tr>\n",
       "      <th>3</th>\n",
       "      <td>49026</td>\n",
       "      <td>[Following, the, death, of, District, Attorney...</td>\n",
       "      <td>The Dark Knight Rises</td>\n",
       "      <td>[Action, Crime, Drama, Thriller]</td>\n",
       "      <td>[dccomics, crimefighter, terrorist, secretiden...</td>\n",
       "      <td>[ChristianBale, MichaelCaine, GaryOldman]</td>\n",
       "      <td>[[, {, \", c, r, e, d, i, t, _, i, d, \", :, , \"...</td>\n",
       "      <td>[Following, the, death, of, District, Attorney...</td>\n",
       "    </tr>\n",
       "    <tr>\n",
       "      <th>4</th>\n",
       "      <td>49529</td>\n",
       "      <td>[John, Carter, is, a, war-weary,, former, mili...</td>\n",
       "      <td>John Carter</td>\n",
       "      <td>[Action, Adventure, ScienceFiction]</td>\n",
       "      <td>[basedonnovel, mars, medallion, spacetravel, p...</td>\n",
       "      <td>[TaylorKitsch, LynnCollins, SamanthaMorton]</td>\n",
       "      <td>[[, {, \", c, r, e, d, i, t, _, i, d, \", :, , \"...</td>\n",
       "      <td>[John, Carter, is, a, war-weary,, former, mili...</td>\n",
       "    </tr>\n",
       "  </tbody>\n",
       "</table>\n",
       "</div>"
      ],
      "text/plain": [
       "   movie_id                                           overview  \\\n",
       "0     19995  [In, the, 22nd, century,, a, paraplegic, Marin...   \n",
       "1       285  [Captain, Barbossa,, long, believed, to, be, d...   \n",
       "2    206647  [A, cryptic, message, from, Bond’s, past, send...   \n",
       "3     49026  [Following, the, death, of, District, Attorney...   \n",
       "4     49529  [John, Carter, is, a, war-weary,, former, mili...   \n",
       "\n",
       "                                      title  \\\n",
       "0                                    Avatar   \n",
       "1  Pirates of the Caribbean: At World's End   \n",
       "2                                   Spectre   \n",
       "3                     The Dark Knight Rises   \n",
       "4                               John Carter   \n",
       "\n",
       "                                         genres  \\\n",
       "0  [Action, Adventure, Fantasy, ScienceFiction]   \n",
       "1                  [Adventure, Fantasy, Action]   \n",
       "2                    [Action, Adventure, Crime]   \n",
       "3              [Action, Crime, Drama, Thriller]   \n",
       "4           [Action, Adventure, ScienceFiction]   \n",
       "\n",
       "                                            keywords  \\\n",
       "0  [cultureclash, future, spacewar, spacecolony, ...   \n",
       "1  [ocean, drugabuse, exoticisland, eastindiatrad...   \n",
       "2  [spy, basedonnovel, secretagent, sequel, mi6, ...   \n",
       "3  [dccomics, crimefighter, terrorist, secretiden...   \n",
       "4  [basedonnovel, mars, medallion, spacetravel, p...   \n",
       "\n",
       "                                            cast  \\\n",
       "0  [SamWorthington, ZoeSaldana, SigourneyWeaver]   \n",
       "1     [JohnnyDepp, OrlandoBloom, KeiraKnightley]   \n",
       "2      [DanielCraig, ChristophWaltz, LéaSeydoux]   \n",
       "3      [ChristianBale, MichaelCaine, GaryOldman]   \n",
       "4    [TaylorKitsch, LynnCollins, SamanthaMorton]   \n",
       "\n",
       "                                                crew  \\\n",
       "0  [[, {, \", c, r, e, d, i, t, _, i, d, \", :, , \"...   \n",
       "1  [[, {, \", c, r, e, d, i, t, _, i, d, \", :, , \"...   \n",
       "2  [[, {, \", c, r, e, d, i, t, _, i, d, \", :, , \"...   \n",
       "3  [[, {, \", c, r, e, d, i, t, _, i, d, \", :, , \"...   \n",
       "4  [[, {, \", c, r, e, d, i, t, _, i, d, \", :, , \"...   \n",
       "\n",
       "                                                tags  \n",
       "0  [In, the, 22nd, century,, a, paraplegic, Marin...  \n",
       "1  [Captain, Barbossa,, long, believed, to, be, d...  \n",
       "2  [A, cryptic, message, from, Bond’s, past, send...  \n",
       "3  [Following, the, death, of, District, Attorney...  \n",
       "4  [John, Carter, is, a, war-weary,, former, mili...  "
      ]
     },
     "execution_count": 266,
     "metadata": {},
     "output_type": "execute_result"
    }
   ],
   "source": [
    "movies.head()"
   ]
  },
  {
   "cell_type": "code",
   "execution_count": 268,
   "id": "58efa139-79dd-4a6c-8884-6fbebf52994e",
   "metadata": {},
   "outputs": [
    {
     "name": "stderr",
     "output_type": "stream",
     "text": [
      "C:\\Users\\bt23c\\AppData\\Local\\Temp\\ipykernel_18084\\2142100100.py:2: SettingWithCopyWarning: \n",
      "A value is trying to be set on a copy of a slice from a DataFrame.\n",
      "Try using .loc[row_indexer,col_indexer] = value instead\n",
      "\n",
      "See the caveats in the documentation: https://pandas.pydata.org/pandas-docs/stable/user_guide/indexing.html#returning-a-view-versus-a-copy\n",
      "  new_df['tags']=new_df['tags'].apply(lambda x:\" \".join(x))\n"
     ]
    }
   ],
   "source": [
    "new_df=movies[['movie_id','title','tags']]\n",
    "new_df['tags']=new_df['tags'].apply(lambda x:\" \".join(x))"
   ]
  },
  {
   "cell_type": "code",
   "execution_count": 270,
   "id": "6c11746b-2873-4e5f-8fb1-b66b874e3ad4",
   "metadata": {},
   "outputs": [
    {
     "data": {
      "text/html": [
       "<div>\n",
       "<style scoped>\n",
       "    .dataframe tbody tr th:only-of-type {\n",
       "        vertical-align: middle;\n",
       "    }\n",
       "\n",
       "    .dataframe tbody tr th {\n",
       "        vertical-align: top;\n",
       "    }\n",
       "\n",
       "    .dataframe thead th {\n",
       "        text-align: right;\n",
       "    }\n",
       "</style>\n",
       "<table border=\"1\" class=\"dataframe\">\n",
       "  <thead>\n",
       "    <tr style=\"text-align: right;\">\n",
       "      <th></th>\n",
       "      <th>movie_id</th>\n",
       "      <th>title</th>\n",
       "      <th>tags</th>\n",
       "    </tr>\n",
       "  </thead>\n",
       "  <tbody>\n",
       "    <tr>\n",
       "      <th>0</th>\n",
       "      <td>19995</td>\n",
       "      <td>Avatar</td>\n",
       "      <td>In the 22nd century, a paraplegic Marine is di...</td>\n",
       "    </tr>\n",
       "    <tr>\n",
       "      <th>1</th>\n",
       "      <td>285</td>\n",
       "      <td>Pirates of the Caribbean: At World's End</td>\n",
       "      <td>Captain Barbossa, long believed to be dead, ha...</td>\n",
       "    </tr>\n",
       "    <tr>\n",
       "      <th>2</th>\n",
       "      <td>206647</td>\n",
       "      <td>Spectre</td>\n",
       "      <td>A cryptic message from Bond’s past sends him o...</td>\n",
       "    </tr>\n",
       "    <tr>\n",
       "      <th>3</th>\n",
       "      <td>49026</td>\n",
       "      <td>The Dark Knight Rises</td>\n",
       "      <td>Following the death of District Attorney Harve...</td>\n",
       "    </tr>\n",
       "    <tr>\n",
       "      <th>4</th>\n",
       "      <td>49529</td>\n",
       "      <td>John Carter</td>\n",
       "      <td>John Carter is a war-weary, former military ca...</td>\n",
       "    </tr>\n",
       "  </tbody>\n",
       "</table>\n",
       "</div>"
      ],
      "text/plain": [
       "   movie_id                                     title  \\\n",
       "0     19995                                    Avatar   \n",
       "1       285  Pirates of the Caribbean: At World's End   \n",
       "2    206647                                   Spectre   \n",
       "3     49026                     The Dark Knight Rises   \n",
       "4     49529                               John Carter   \n",
       "\n",
       "                                                tags  \n",
       "0  In the 22nd century, a paraplegic Marine is di...  \n",
       "1  Captain Barbossa, long believed to be dead, ha...  \n",
       "2  A cryptic message from Bond’s past sends him o...  \n",
       "3  Following the death of District Attorney Harve...  \n",
       "4  John Carter is a war-weary, former military ca...  "
      ]
     },
     "execution_count": 270,
     "metadata": {},
     "output_type": "execute_result"
    }
   ],
   "source": [
    "new_df.head()"
   ]
  },
  {
   "cell_type": "code",
   "execution_count": 272,
   "id": "0e2edcc8-56a5-4160-9146-b6bd1b97ddb5",
   "metadata": {},
   "outputs": [
    {
     "data": {
      "text/plain": [
       "'In the 22nd century, a paraplegic Marine is dispatched to the moon Pandora on a unique mission, but becomes torn between following orders and protecting an alien civilization. Action Adventure Fantasy ScienceFiction cultureclash future spacewar spacecolony society spacetravel futuristic romance space alien tribe alienplanet cgi marine soldier battle loveaffair antiwar powerrelations mindandsoul 3d SamWorthington ZoeSaldana SigourneyWeaver [ { \" c r e d i t _ i d \" :  \" 5 2 f e 4 8 0 0 9 2 5 1 4 1 6 c 7 5 0 a c a 2 3 \" ,  \" d e p a r t m e n t \" :  \" E d i t i n g \" ,  \" g e n d e r \" :  0 ,  \" i d \" :  1 7 2 1 ,  \" j o b \" :  \" E d i t o r \" ,  \" n a m e \" :  \" S t e p h e n  E .  R i v k i n \" } ,  { \" c r e d i t _ i d \" :  \" 5 3 9 c 4 7 e c c 3 a 3 6 8 1 0 e 3 0 0 1 f 8 7 \" ,  \" d e p a r t m e n t \" :  \" A r t \" ,  \" g e n d e r \" :  2 ,  \" i d \" :  4 9 6 ,  \" j o b \" :  \" P r o d u c t i o n  D e s i g n \" ,  \" n a m e \" :  \" R i c k  C a r t e r \" } ,  { \" c r e d i t _ i d \" :  \" 5 4 4 9 1 c 8 9 c 3 a 3 6 8 0 f b 4 0 0 1 c f 7 \" ,  \" d e p a r t m e n t \" :  \" S o u n d \" ,  \" g e n d e r \" :  0 ,  \" i d \" :  9 0 0 ,  \" j o b \" :  \" S o u n d  D e s i g n e r \" ,  \" n a m e \" :  \" C h r i s t o p h e r  B o y e s \" } ,  { \" c r e d i t _ i d \" :  \" 5 4 4 9 1 c b 7 0 e 0 a 2 6 7 4 8 0 0 0 1 b d 0 \" ,  \" d e p a r t m e n t \" :  \" S o u n d \" ,  \" g e n d e r \" :  0 ,  \" i d \" :  9 0 0 ,  \" j o b \" :  \" S u p e r v i s i n g  S o u n d  E d i t o r \" ,  \" n a m e \" :  \" C h r i s t o p h e r  B o y e s \" } ,  { \" c r e d i t _ i d \" :  \" 5 3 9 c 4 a 4 c c 3 a 3 6 8 1 0 c 9 0 0 2 1 0 1 \" ,  \" d e p a r t m e n t \" :  \" P r o d u c t i o n \" ,  \" g e n d e r \" :  1 ,  \" i d \" :  1 2 6 2 ,  \" j o b \" :  \" C a s t i n g \" ,  \" n a m e \" :  \" M a l i  F i n n \" } ,  { \" c r e d i t _ i d \" :  \" 5 5 4 4 e e 3 b 9 2 5 1 4 1 4 9 9 f 0 0 0 8 f c \" ,  \" d e p a r t m e n t \" :  \" S o u n d \" ,  \" g e n d e r \" :  2 ,  \" i d \" :  1 7 2 9 ,  \" j o b \" :  \" O r i g i n a l  M u s i c  C o m p o s e r \" ,  \" n a m e \" :  \" J a m e s  H o r n e r \" } ,  { \" c r e d i t _ i d \" :  \" 5 2 f e 4 8 0 0 9 2 5 1 4 1 6 c 7 5 0 a c 9 c 3 \" ,  \" d e p a r t m e n t \" :  \" D i r e c t i n g \" ,  \" g e n d e r \" :  2 ,  \" i d \" :  2 7 1 0 ,  \" j o b \" :  \" D i r e c t o r \" ,  \" n a m e \" :  \" J a m e s  C a m e r o n \" } ,  { \" c r e d i t _ i d \" :  \" 5 2 f e 4 8 0 0 9 2 5 1 4 1 6 c 7 5 0 a c 9 d 9 \" ,  \" d e p a r t m e n t \" :  \" W r i t i n g \" ,  \" g e n d e r \" :  2 ,  \" i d \" :  2 7 1 0 ,  \" j o b \" :  \" W r i t e r \" ,  \" n a m e \" :  \" J a m e s  C a m e r o n \" } ,  { \" c r e d i t _ i d \" :  \" 5 2 f e 4 8 0 0 9 2 5 1 4 1 6 c 7 5 0 a c a 1 7 \" ,  \" d e p a r t m e n t \" :  \" E d i t i n g \" ,  \" g e n d e r \" :  2 ,  \" i d \" :  2 7 1 0 ,  \" j o b \" :  \" E d i t o r \" ,  \" n a m e \" :  \" J a m e s  C a m e r o n \" } ,  { \" c r e d i t _ i d \" :  \" 5 2 f e 4 8 0 0 9 2 5 1 4 1 6 c 7 5 0 a c a 2 9 \" ,  \" d e p a r t m e n t \" :  \" P r o d u c t i o n \" ,  \" g e n d e r \" :  2 ,  \" i d \" :  2 7 1 0 ,  \" j o b \" :  \" P r o d u c e r \" ,  \" n a m e \" :  \" J a m e s  C a m e r o n \" } ,  { \" c r e d i t _ i d \" :  \" 5 2 f e 4 8 0 0 9 2 5 1 4 1 6 c 7 5 0 a c a 3 f \" ,  \" d e p a r t m e n t \" :  \" W r i t i n g \" ,  \" g e n d e r \" :  2 ,  \" i d \" :  2 7 1 0 ,  \" j o b \" :  \" S c r e e n p l a y \" ,  \" n a m e \" :  \" J a m e s  C a m e r o n \" } ,  { \" c r e d i t _ i d \" :  \" 5 3 9 c 4 9 8 7 c 3 a 3 6 8 1 0 b a 0 0 2 1 a 4 \" ,  \" d e p a r t m e n t \" :  \" A r t \" ,  \" g e n d e r \" :  2 ,  \" i d \" :  7 2 3 6 ,  \" j o b \" :  \" A r t  D i r e c t i o n \" ,  \" n a m e \" :  \" A n d r e w  M e n z i e s \" } ,  { \" c r e d i t _ i d \" :  \" 5 4 9 5 9 8 c 3 c 3 a 3 6 8 6 a e 9 0 0 4 3 8 3 \" ,  \" d e p a r t m e n t \" :  \" V i s u a l  E f f e c t s \" ,  \" g e n d e r \" :  0 ,  \" i d \" :  6 6 9 0 ,  \" j o b \" :  \" V i s u a l  E f f e c t s  P r o d u c e r \" ,  \" n a m e \" :  \" J i l l  B r o o k s \" } ,  { \" c r e d i t _ i d \" :  \" 5 2 f e 4 8 0 0 9 2 5 1 4 1 6 c 7 5 0 a c a 4 b \" ,  \" d e p a r t m e n t \" :  \" P r o d u c t i o n \" ,  \" g e n d e r \" :  1 ,  \" i d \" :  6 3 4 7 ,  \" j o b \" :  \" C a s t i n g \" ,  \" n a m e \" :  \" M a r g e r y  S i m k i n \" } ,  { \" c r e d i t _ i d \" :  \" 5 7 0 b 6 f 4 1 9 2 5 1 4 1 7 d a 7 0 0 3 2 f e \" ,  \" d e p a r t m e n t \" :  \" A r t \" ,  \" g e n d e r \" :  2 ,  \" i d \" :  6 8 7 8 ,  \" j o b \" :  \" S u p e r v i s i n g  A r t  D i r e c t o r \" ,  \" n a m e \" :  \" K e v i n  I s h i o k a \" } ,  { \" c r e d i t _ i d \" :  \" 5 4 9 5 a 0 f a c 3 a 3 6 8 6 a e 9 0 0 4 4 6 8 \" ,  \" d e p a r t m e n t \" :  \" S o u n d \" ,  \" g e n d e r \" :  0 ,  \" i d \" :  6 8 8 3 ,  \" j o b \" :  \" M u s i c  E d i t o r \" ,  \" n a m e \" :  \" D i c k  B e r n s t e i n \" } ,  { \" c r e d i t _ i d \" :  \" 5 4 9 5 9 7 0 6 c 3 a 3 6 8 6 a f 3 0 0 3 e 8 1 \" ,  \" d e p a r t m e n t \" :  \" S o u n d \" ,  \" g e n d e r \" :  0 ,  \" i d \" :  8 1 5 9 ,  \" j o b \" :  \" S o u n d  E f f e c t s  E d i t o r \" ,  \" n a m e \" :  \" S h a n n o n  M i l l s \" } ,  { \" c r e d i t _ i d \" :  \" 5 4 4 9 1 d 5 8 c 3 a 3 6 8 0 f b 1 0 0 1 c c b \" ,  \" d e p a r t m e n t \" :  \" S o u n d \" ,  \" g e n d e r \" :  0 ,  \" i d \" :  8 1 6 0 ,  \" j o b \" :  \" F o l e y \" ,  \" n a m e \" :  \" D e n n i e  T h o r p e \" } ,  { \" c r e d i t _ i d \" :  \" 5 4 4 9 1 d 6 c c 3 a 3 6 8 0 f a 5 0 0 1 b 2 c \" ,  \" d e p a r t m e n t \" :  \" S o u n d \" ,  \" g e n d e r \" :  0 ,  \" i d \" :  8 1 6 3 ,  \" j o b \" :  \" F o l e y \" ,  \" n a m e \" :  \" J a n a  V a n c e \" } ,  { \" c r e d i t _ i d \" :  \" 5 2 f e 4 8 0 0 9 2 5 1 4 1 6 c 7 5 0 a c a 5 7 \" ,  \" d e p a r t m e n t \" :  \" C o s t u m e  &  M a k e - U p \" ,  \" g e n d e r \" :  1 ,  \" i d \" :  8 5 2 7 ,  \" j o b \" :  \" C o s t u m e  D e s i g n \" ,  \" n a m e \" :  \" D e b o r a h  L y n n  S c o t t \" } ,  { \" c r e d i t _ i d \" :  \" 5 2 f e 4 8 0 0 9 2 5 1 4 1 6 c 7 5 0 a c a 2 f \" ,  \" d e p a r t m e n t \" :  \" P r o d u c t i o n \" ,  \" g e n d e r \" :  2 ,  \" i d \" :  8 5 2 9 ,  \" j o b \" :  \" P r o d u c e r \" ,  \" n a m e \" :  \" J o n  L a n d a u \" } ,  { \" c r e d i t _ i d \" :  \" 5 3 9 c 4 9 3 7 c 3 a 3 6 8 1 0 b a 0 0 2 1 9 4 \" ,  \" d e p a r t m e n t \" :  \" A r t \" ,  \" g e n d e r \" :  0 ,  \" i d \" :  9 6 1 8 ,  \" j o b \" :  \" A r t  D i r e c t i o n \" ,  \" n a m e \" :  \" S e a n  H a w o r t h \" } ,  { \" c r e d i t _ i d \" :  \" 5 3 9 c 4 9 b 6 c 3 a 3 6 8 1 0 c 1 0 0 2 0 e 6 \" ,  \" d e p a r t m e n t \" :  \" A r t \" ,  \" g e n d e r \" :  1 ,  \" i d \" :  1 2 6 5 3 ,  \" j o b \" :  \" S e t  D e c o r a t i o n \" ,  \" n a m e \" :  \" K i m  S i n c l a i r \" } ,  { \" c r e d i t _ i d \" :  \" 5 7 0 b 6 f 2 f 9 2 5 1 4 1 3 a 0 e 0 0 0 2 0 d \" ,  \" d e p a r t m e n t \" :  \" A r t \" ,  \" g e n d e r \" :  1 ,  \" i d \" :  1 2 6 5 3 ,  \" j o b \" :  \" S u p e r v i s i n g  A r t  D i r e c t o r \" ,  \" n a m e \" :  \" K i m  S i n c l a i r \" } ,  { \" c r e d i t _ i d \" :  \" 5 4 4 9 1 a 6 c 0 e 0 a 2 6 7 4 8 c 0 0 1 b 1 9 \" ,  \" d e p a r t m e n t \" :  \" A r t \" ,  \" g e n d e r \" :  2 ,  \" i d \" :  1 4 3 5 0 ,  \" j o b \" :  \" S e t  D e s i g n e r \" ,  \" n a m e \" :  \" R i c h a r d  F .  M a y s \" } ,  { \" c r e d i t _ i d \" :  \" 5 6 9 2 8 c f 4 c 3 a 3 6 8 4 c f f 0 0 2 5 c 4 \" ,  \" d e p a r t m e n t \" :  \" P r o d u c t i o n \" ,  \" g e n d e r \" :  1 ,  \" i d \" :  2 0 2 9 4 ,  \" j o b \" :  \" E x e c u t i v e  P r o d u c e r \" ,  \" n a m e \" :  \" L a e t a  K a l o g r i d i s \" } ,  { \" c r e d i t _ i d \" :  \" 5 2 f e 4 8 0 0 9 2 5 1 4 1 6 c 7 5 0 a c a 5 1 \" ,  \" d e p a r t m e n t \" :  \" C o s t u m e  &  M a k e - U p \" ,  \" g e n d e r \" :  0 ,  \" i d \" :  1 7 6 7 5 ,  \" j o b \" :  \" C o s t u m e  D e s i g n \" ,  \" n a m e \" :  \" M a y e s  C .  R u b e o \" } ,  { \" c r e d i t _ i d \" :  \" 5 2 f e 4 8 0 0 9 2 5 1 4 1 6 c 7 5 0 a c a 1 1 \" ,  \" d e p a r t m e n t \" :  \" C a m e r a \" ,  \" g e n d e r \" :  2 ,  \" i d \" :  1 8 2 6 5 ,  \" j o b \" :  \" D i r e c t o r  o f  P h o t o g r a p h y \" ,  \" n a m e \" :  \" M a u r o  F i o r e \" } ,  { \" c r e d i t _ i d \" :  \" 5 4 4 9 1 9 4 d 0 e 0 a 2 6 7 4 8 f 0 0 1 b 3 9 \" ,  \" d e p a r t m e n t \" :  \" A r t \" ,  \" g e n d e r \" :  0 ,  \" i d \" :  4 2 2 8 1 ,  \" j o b \" :  \" S e t  D e s i g n e r \" ,  \" n a m e \" :  \" S c o t t  H e r b e r t s o n \" } ,  { \" c r e d i t _ i d \" :  \" 5 2 f e 4 8 0 0 9 2 5 1 4 1 6 c 7 5 0 a c a 0 5 \" ,  \" d e p a r t m e n t \" :  \" C r e w \" ,  \" g e n d e r \" :  0 ,  \" i d \" :  4 2 2 8 8 ,  \" j o b \" :  \" S t u n t s \" ,  \" n a m e \" :  \" W o o d y  S c h u l t z \" } ,  { \" c r e d i t _ i d \" :  \" 5 5 9 2 a e f b 9 2 5 1 4 1 5 2 d e 0 0 1 0 f 5 \" ,  \" d e p a r t m e n t \" :  \" C o s t u m e  &  M a k e - U p \" ,  \" g e n d e r \" :  0 ,  \" i d \" :  2 9 0 6 7 ,  \" j o b \" :  \" M a k e u p  A r t i s t \" ,  \" n a m e \" :  \" L i n d a  D e V e t t a \" } ,  { \" c r e d i t _ i d \" :  \" 5 5 9 2 a f a 4 9 2 5 1 4 1 5 2 d e 0 0 1 1 2 c \" ,  \" d e p a r t m e n t \" :  \" C o s t u m e  &  M a k e - U p \" ,  \" g e n d e r \" :  0 ,  \" i d \" :  2 9 0 6 7 ,  \" j o b \" :  \" H a i r s t y l i s t \" ,  \" n a m e \" :  \" L i n d a  D e V e t t a \" } ,  { \" c r e d i t _ i d \" :  \" 5 4 9 5 9 e d 5 9 2 5 1 4 1 3 0 f c 0 0 2 e 5 d \" ,  \" d e p a r t m e n t \" :  \" C a m e r a \" ,  \" g e n d e r \" :  2 ,  \" i d \" :  3 3 3 0 2 ,  \" j o b \" :  \" C a m e r a  O p e r a t o r \" ,  \" n a m e \" :  \" R i c h a r d  B l u c k \" } ,  { \" c r e d i t _ i d \" :  \" 5 3 9 c 4 8 9 1 c 3 a 3 6 8 1 0 b a 0 0 2 1 4 7 \" ,  \" d e p a r t m e n t \" :  \" A r t \" ,  \" g e n d e r \" :  2 ,  \" i d \" :  3 3 3 0 3 ,  \" j o b \" :  \" A r t  D i r e c t i o n \" ,  \" n a m e \" :  \" S i m o n  B r i g h t \" } ,  { \" c r e d i t _ i d \" :  \" 5 4 9 5 9 c 0 6 9 2 5 1 4 1 7 a 8 1 0 0 1 f 3 a \" ,  \" d e p a r t m e n t \" :  \" V i s u a l  E f f e c t s \" ,  \" g e n d e r \" :  0 ,  \" i d \" :  1 1 3 1 4 5 ,  \" j o b \" :  \" V i s u a l  E f f e c t s  S u p e r v i s o r \" ,  \" n a m e \" :  \" R i c h a r d  M a r t i n \" } ,  { \" c r e d i t _ i d \" :  \" 5 4 9 5 9 a 0 d c 3 a 3 6 8 0 f f 5 0 0 2 c 8 d \" ,  \" d e p a r t m e n t \" :  \" C r e w \" ,  \" g e n d e r \" :  2 ,  \" i d \" :  5 8 1 8 8 ,  \" j o b \" :  \" V i s u a l  E f f e c t s  E d i t o r \" ,  \" n a m e \" :  \" S t e v e  R .  M o o r e \" } ,  { \" c r e d i t _ i d \" :  \" 5 2 f e 4 8 0 0 9 2 5 1 4 1 6 c 7 5 0 a c a 1 d \" ,  \" d e p a r t m e n t \" :  \" E d i t i n g \" ,  \" g e n d e r \" :  2 ,  \" i d \" :  5 8 8 7 1 ,  \" j o b \" :  \" E d i t o r \" ,  \" n a m e \" :  \" J o h n  R e f o u a \" } ,  { \" c r e d i t _ i d \" :  \" 5 4 4 9 1 a 4 d c 3 a 3 6 8 0 f c 3 0 0 1 8 c a \" ,  \" d e p a r t m e n t \" :  \" A r t \" ,  \" g e n d e r \" :  0 ,  \" i d \" :  9 2 3 5 9 ,  \" j o b \" :  \" S e t  D e s i g n e r \" ,  \" n a m e \" :  \" K a r l  J .  M a r t i n \" } ,  { \" c r e d i t _ i d \" :  \" 5 2 f e 4 8 0 0 9 2 5 1 4 1 6 c 7 5 0 a c a 3 5 \" ,  \" d e p a r t m e n t \" :  \" C a m e r a \" ,  \" g e n d e r \" :  1 ,  \" i d \" :  7 2 2 0 1 ,  \" j o b \" :  \" D i r e c t o r  o f  P h o t o g r a p h y \" ,  \" n a m e \" :  \" C h i l i n g  L i n \" } ,  { \" c r e d i t _ i d \" :  \" 5 2 f e 4 8 0 0 9 2 5 1 4 1 6 c 7 5 0 a c 9 f f \" ,  \" d e p a r t m e n t \" :  \" C r e w \" ,  \" g e n d e r \" :  0 ,  \" i d \" :  8 9 7 1 4 ,  \" j o b \" :  \" S t u n t s \" ,  \" n a m e \" :  \" I l r a m  C h o i \" } ,  { \" c r e d i t _ i d \" :  \" 5 4 9 5 9 c 5 2 9 2 5 1 4 1 6 e 2 b 0 0 4 3 9 4 \" ,  \" d e p a r t m e n t \" :  \" V i s u a l  E f f e c t s \" ,  \" g e n d e r \" :  2 ,  \" i d \" :  9 3 2 1 4 ,  \" j o b \" :  \" V i s u a l  E f f e c t s  S u p e r v i s o r \" ,  \" n a m e \" :  \" S t e v e n  Q u a l e \" } ,  { \" c r e d i t _ i d \" :  \" 5 4 4 9 1 e d f 0 e 0 a 2 6 7 4 8 9 0 0 1 c 3 7 \" ,  \" d e p a r t m e n t \" :  \" C r e w \" ,  \" g e n d e r \" :  1 ,  \" i d \" :  1 2 2 6 0 7 ,  \" j o b \" :  \" D i a l e c t  C o a c h \" ,  \" n a m e \" :  \" C a r l a  M e y e r \" } ,  { \" c r e d i t _ i d \" :  \" 5 3 9 c 4 8 5 b c 3 a 3 6 8 6 5 3 d 0 0 1 a 3 a \" ,  \" d e p a r t m e n t \" :  \" A r t \" ,  \" g e n d e r \" :  2 ,  \" i d \" :  1 3 2 5 8 5 ,  \" j o b \" :  \" A r t  D i r e c t i o n \" ,  \" n a m e \" :  \" N i c k  B a s s e t t \" } ,  { \" c r e d i t _ i d \" :  \" 5 3 9 c 4 9 0 3 c 3 a 3 6 8 6 5 3 d 0 0 1 a 7 4 \" ,  \" d e p a r t m e n t \" :  \" A r t \" ,  \" g e n d e r \" :  0 ,  \" i d \" :  1 3 2 5 9 6 ,  \" j o b \" :  \" A r t  D i r e c t i o n \" ,  \" n a m e \" :  \" J i l l  C o r m a c k \" } ,  { \" c r e d i t _ i d \" :  \" 5 3 9 c 4 9 6 7 c 3 a 3 6 8 6 5 3 d 0 0 1 a 9 4 \" ,  \" d e p a r t m e n t \" :  \" A r t \" ,  \" g e n d e r \" :  0 ,  \" i d \" :  1 3 2 6 0 4 ,  \" j o b \" :  \" A r t  D i r e c t i o n \" ,  \" n a m e \" :  \" A n d y  M c L a r e n \" } ,  { \" c r e d i t _ i d \" :  \" 5 2 f e 4 8 0 0 9 2 5 1 4 1 6 c 7 5 0 a c a 4 5 \" ,  \" d e p a r t m e n t \" :  \" C r e w \" ,  \" g e n d e r \" :  0 ,  \" i d \" :  2 3 6 6 9 6 ,  \" j o b \" :  \" M o t i o n  C a p t u r e  A r t i s t \" ,  \" n a m e \" :  \" T e r r y  N o t a r y \" } ,  { \" c r e d i t _ i d \" :  \" 5 4 9 5 9 e 0 2 c 3 a 3 6 8 0 f c 6 0 0 2 7 d 2 \" ,  \" d e p a r t m e n t \" :  \" C r e w \" ,  \" g e n d e r \" :  2 ,  \" i d \" :  9 5 6 1 9 8 ,  \" j o b \" :  \" S t u n t  C o o r d i n a t o r \" ,  \" n a m e \" :  \" G a r r e t t  W a r r e n \" } ,  { \" c r e d i t _ i d \" :  \" 5 4 9 5 9 c a 3 c 3 a 3 6 8 6 a e 3 0 0 4 3 8 c \" ,  \" d e p a r t m e n t \" :  \" V i s u a l  E f f e c t s \" ,  \" g e n d e r \" :  2 ,  \" i d \" :  9 5 7 8 7 4 ,  \" j o b \" :  \" V i s u a l  E f f e c t s  S u p e r v i s o r \" ,  \" n a m e \" :  \" J o n a t h a n  R o t h b a r t \" } ,  { \" c r e d i t _ i d \" :  \" 5 7 0 b 6 f 5 1 9 2 5 1 4 1 2 c 7 4 0 0 1 b 2 f \" ,  \" d e p a r t m e n t \" :  \" A r t \" ,  \" g e n d e r \" :  0 ,  \" i d \" :  9 5 7 8 8 9 ,  \" j o b \" :  \" S u p e r v i s i n g  A r t  D i r e c t o r \" ,  \" n a m e \" :  \" S t e f a n  D e c h a n t \" } ,  { \" c r e d i t _ i d \" :  \" 5 7 0 b 6 f 6 2 c 3 a 3 6 8 0 b 7 7 0 0 7 4 6 0 \" ,  \" d e p a r t m e n t \" :  \" A r t \" ,  \" g e n d e r \" :  2 ,  \" i d \" :  9 5 9 5 5 5 ,  \" j o b \" :  \" S u p e r v i s i n g  A r t  D i r e c t o r \" ,  \" n a m e \" :  \" T o d d  C h e r n i a w s k y \" } ,  { \" c r e d i t _ i d \" :  \" 5 3 9 c 4 a 3 a c 3 a 3 6 8 1 0 d a 0 0 2 1 c c \" ,  \" d e p a r t m e n t \" :  \" P r o d u c t i o n \" ,  \" g e n d e r \" :  0 ,  \" i d \" :  1 0 1 6 1 7 7 ,  \" j o b \" :  \" C a s t i n g \" ,  \" n a m e \" :  \" M i r a n d a  R i v e r s \" } ,  { \" c r e d i t _ i d \" :  \" 5 3 9 c 4 8 2 c c 3 a 3 6 8 1 0 c 1 0 0 2 0 6 2 \" ,  \" d e p a r t m e n t \" :  \" A r t \" ,  \" g e n d e r \" :  0 ,  \" i d \" :  1 0 3 2 5 3 6 ,  \" j o b \" :  \" P r o d u c t i o n  D e s i g n \" ,  \" n a m e \" :  \" R o b e r t  S t r o m b e r g \" } ,  { \" c r e d i t _ i d \" :  \" 5 3 9 c 4 b 6 5 c 3 a 3 6 8 1 0 c 9 0 0 2 1 2 5 \" ,  \" d e p a r t m e n t \" :  \" C o s t u m e  &  M a k e - U p \" ,  \" g e n d e r \" :  2 ,  \" i d \" :  1 0 7 1 6 8 0 ,  \" j o b \" :  \" C o s t u m e  D e s i g n \" ,  \" n a m e \" :  \" J o h n  H a r d i n g \" } ,  { \" c r e d i t _ i d \" :  \" 5 4 9 5 9 e 6 6 9 2 5 1 4 1 3 0 f c 0 0 2 e 4 e \" ,  \" d e p a r t m e n t \" :  \" C a m e r a \" ,  \" g e n d e r \" :  0 ,  \" i d \" :  1 1 7 7 3 6 4 ,  \" j o b \" :  \" S t e a d i c a m  O p e r a t o r \" ,  \" n a m e \" :  \" R o b e r t o  D e  A n g e l i s \" } ,  { \" c r e d i t _ i d \" :  \" 5 3 9 c 4 9 f 1 c 3 a 3 6 8 6 5 3 d 0 0 1 a a c \" ,  \" d e p a r t m e n t \" :  \" C o s t u m e  &  M a k e - U p \" ,  \" g e n d e r \" :  2 ,  \" i d \" :  1 2 0 2 8 5 0 ,  \" j o b \" :  \" M a k e u p  D e p a r t m e n t  H e a d \" ,  \" n a m e \" :  \" M i k e  S m i t h s o n \" } ,  { \" c r e d i t _ i d \" :  \" 5 4 9 5 9 9 9 e c 3 a 3 6 8 6 a e 1 0 0 4 6 0 c \" ,  \" d e p a r t m e n t \" :  \" V i s u a l  E f f e c t s \" ,  \" g e n d e r \" :  0 ,  \" i d \" :  1 2 0 4 6 6 8 ,  \" j o b \" :  \" V i s u a l  E f f e c t s  P r o d u c e r \" ,  \" n a m e \" :  \" A l a i n  L a l a n n e \" } ,  { \" c r e d i t _ i d \" :  \" 5 4 9 5 9 c d f c 3 a 3 6 8 1 1 5 3 0 0 2 7 2 9 \" ,  \" d e p a r t m e n t \" :  \" V i s u a l  E f f e c t s \" ,  \" g e n d e r \" :  0 ,  \" i d \" :  1 2 0 6 4 1 0 ,  \" j o b \" :  \" V i s u a l  E f f e c t s  S u p e r v i s o r \" ,  \" n a m e \" :  \" L u c a s  S a l t o n \" } ,  { \" c r e d i t _ i d \" :  \" 5 4 9 5 9 6 2 3 9 2 5 1 4 1 7 a 8 1 0 0 1 e a e \" ,  \" d e p a r t m e n t \" :  \" C r e w \" ,  \" g e n d e r \" :  0 ,  \" i d \" :  1 2 3 4 2 6 6 ,  \" j o b \" :  \" P o s t  P r o d u c t i o n  S u p e r v i s o r \" ,  \" n a m e \" :  \" J a n a c e  T a s h j i a n \" } ,  { \" c r e d i t _ i d \" :  \" 5 4 9 5 9 c 8 5 9 2 5 1 4 1 6 e 1 e 0 0 3 e f e \" ,  \" d e p a r t m e n t \" :  \" V i s u a l  E f f e c t s \" ,  \" g e n d e r \" :  0 ,  \" i d \" :  1 2 7 1 9 3 2 ,  \" j o b \" :  \" V i s u a l  E f f e c t s  S u p e r v i s o r \" ,  \" n a m e \" :  \" S t e p h e n  R o s e n b a u m \" } ,  { \" c r e d i t _ i d \" :  \" 5 5 9 2 a f 2 8 c 3 a 3 6 8 7 7 5 a 0 0 1 0 5 f \" ,  \" d e p a r t m e n t \" :  \" C o s t u m e  &  M a k e - U p \" ,  \" g e n d e r \" :  0 ,  \" i d \" :  1 3 1 0 0 6 4 ,  \" j o b \" :  \" M a k e u p  A r t i s t \" ,  \" n a m e \" :  \" F r a n k i e  K a r e n a \" } ,  { \" c r e d i t _ i d \" :  \" 5 3 9 c 4 a d f c 3 a 3 6 8 1 0 e 3 0 0 2 0 3 b \" ,  \" d e p a r t m e n t \" :  \" C o s t u m e  &  M a k e - U p \" ,  \" g e n d e r \" :  1 ,  \" i d \" :  1 3 1 9 8 4 4 ,  \" j o b \" :  \" C o s t u m e  S u p e r v i s o r \" ,  \" n a m e \" :  \" L i s a  L o v a a s \" } ,  { \" c r e d i t _ i d \" :  \" 5 4 9 5 9 b 5 7 9 2 5 1 4 1 6 e 2 b 0 0 4 3 7 1 \" ,  \" d e p a r t m e n t \" :  \" V i s u a l  E f f e c t s \" ,  \" g e n d e r \" :  0 ,  \" i d \" :  1 3 2 7 0 2 8 ,  \" j o b \" :  \" V i s u a l  E f f e c t s  S u p e r v i s o r \" ,  \" n a m e \" :  \" J o n a t h a n  F a w k n e r \" } ,  { \" c r e d i t _ i d \" :  \" 5 3 9 c 4 8 a 7 c 3 a 3 6 8 1 0 b 5 0 0 1 f a 7 \" ,  \" d e p a r t m e n t \" :  \" A r t \" ,  \" g e n d e r \" :  0 ,  \" i d \" :  1 3 3 0 5 6 1 ,  \" j o b \" :  \" A r t  D i r e c t i o n \" ,  \" n a m e \" :  \" R o b e r t  B a v i n \" } ,  { \" c r e d i t _ i d \" :  \" 5 3 9 c 4 a 7 1 c 3 a 3 6 8 1 0 d a 0 0 2 1 e 0 \" ,  \" d e p a r t m e n t \" :  \" C o s t u m e  &  M a k e - U p \" ,  \" g e n d e r \" :  0 ,  \" i d \" :  1 3 3 0 5 6 7 ,  \" j o b \" :  \" C o s t u m e  S u p e r v i s o r \" ,  \" n a m e \" :  \" A n t h o n y  A l m a r a z \" } ,  { \" c r e d i t _ i d \" :  \" 5 3 9 c 4 a 8 a c 3 a 3 6 8 1 0 b a 0 0 2 1 e 4 \" ,  \" d e p a r t m e n t \" :  \" C o s t u m e  &  M a k e - U p \" ,  \" g e n d e r \" :  0 ,  \" i d \" :  1 3 3 0 5 7 0 ,  \" j o b \" :  \" C o s t u m e  S u p e r v i s o r \" ,  \" n a m e \" :  \" C a r o l y n  M .  F e n t o n \" } ,  { \" c r e d i t _ i d \" :  \" 5 3 9 c 4 a b 6 c 3 a 3 6 8 1 0 d a 0 0 2 1 f 0 \" ,  \" d e p a r t m e n t \" :  \" C o s t u m e  &  M a k e - U p \" ,  \" g e n d e r \" :  0 ,  \" i d \" :  1 3 3 0 5 7 4 ,  \" j o b \" :  \" C o s t u m e  S u p e r v i s o r \" ,  \" n a m e \" :  \" B e t h  K o e n i g s b e r g \" } ,  { \" c r e d i t _ i d \" :  \" 5 4 4 9 1 a b 7 0 e 0 a 2 6 7 4 8 0 0 0 1 b a 2 \" ,  \" d e p a r t m e n t \" :  \" A r t \" ,  \" g e n d e r \" :  0 ,  \" i d \" :  1 3 3 6 1 9 1 ,  \" j o b \" :  \" S e t  D e s i g n e r \" ,  \" n a m e \" :  \" S a m  P a g e \" } ,  { \" c r e d i t _ i d \" :  \" 5 4 4 9 1 9 d 9 c 3 a 3 6 8 0 f c 3 0 0 1 8 b d \" ,  \" d e p a r t m e n t \" :  \" A r t \" ,  \" g e n d e r \" :  0 ,  \" i d \" :  1 3 3 9 4 4 1 ,  \" j o b \" :  \" S e t  D e s i g n e r \" ,  \" n a m e \" :  \" T e x  K a d o n a g a \" } ,  { \" c r e d i t _ i d \" :  \" 5 4 4 9 1 c f 5 0 e 0 a 2 6 7 4 8 3 0 0 1 b 0 c \" ,  \" d e p a r t m e n t \" :  \" E d i t i n g \" ,  \" g e n d e r \" :  0 ,  \" i d \" :  1 3 5 2 4 2 2 ,  \" j o b \" :  \" D i a l o g u e  E d i t o r \" ,  \" n a m e \" :  \" K i m  F o s c a t o \" } ,  { \" c r e d i t _ i d \" :  \" 5 4 4 9 1 9 f 4 0 e 0 a 2 6 7 4 8 c 0 0 1 b 0 9 \" ,  \" d e p a r t m e n t \" :  \" A r t \" ,  \" g e n d e r \" :  0 ,  \" i d \" :  1 3 5 2 9 6 2 ,  \" j o b \" :  \" S e t  D e s i g n e r \" ,  \" n a m e \" :  \" T a m m y  S .  L e e \" } ,  { \" c r e d i t _ i d \" :  \" 5 4 9 5 a 1 1 5 c 3 a 3 6 8 0 f f 5 0 0 2 d 7 1 \" ,  \" d e p a r t m e n t \" :  \" C r e w \" ,  \" g e n d e r \" :  0 ,  \" i d \" :  1 3 5 7 0 7 0 ,  \" j o b \" :  \" T r a n s p o r t a t i o n  C o o r d i n a t o r \" ,  \" n a m e \" :  \" D e n n y  C a i r a \" } ,  { \" c r e d i t _ i d \" :  \" 5 4 9 5 a 1 2 f 9 2 5 1 4 1 3 0 f c 0 0 2 e 9 4 \" ,  \" d e p a r t m e n t \" :  \" C r e w \" ,  \" g e n d e r \" :  0 ,  \" i d \" :  1 3 5 7 0 7 1 ,  \" j o b \" :  \" T r a n s p o r t a t i o n  C o o r d i n a t o r \" ,  \" n a m e \" :  \" J a m e s  W a i t k u s \" } ,  { \" c r e d i t _ i d \" :  \" 5 4 9 5 9 7 6 f c 3 a 3 6 8 1 1 5 3 0 0 2 6 b 0 \" ,  \" d e p a r t m e n t \" :  \" S o u n d \" ,  \" g e n d e r \" :  0 ,  \" i d \" :  1 3 6 0 1 0 3 ,  \" j o b \" :  \" S u p e r v i s i n g  S o u n d  E d i t o r \" ,  \" n a m e \" :  \" A d d i s o n  T e a g u e \" } ,  { \" c r e d i t _ i d \" :  \" 5 4 4 9 1 8 3 7 c 3 a 3 6 8 0 f b 1 0 0 1 c 5 a \" ,  \" d e p a r t m e n t \" :  \" A r t \" ,  \" g e n d e r \" :  2 ,  \" i d \" :  1 3 7 6 8 8 7 ,  \" j o b \" :  \" S e t  D e s i g n e r \" ,  \" n a m e \" :  \" C .  S c o t t  B a k e r \" } ,  { \" c r e d i t _ i d \" :  \" 5 4 4 9 1 8 7 8 c 3 a 3 6 8 0 f b 4 0 0 1 c 9 d \" ,  \" d e p a r t m e n t \" :  \" A r t \" ,  \" g e n d e r \" :  0 ,  \" i d \" :  1 3 7 6 8 8 8 ,  \" j o b \" :  \" S e t  D e s i g n e r \" ,  \" n a m e \" :  \" L u k e  C a s k a \" } ,  { \" c r e d i t _ i d \" :  \" 5 4 4 9 1 8 d a c 3 a 3 6 8 0 f a 5 0 0 1 a e 0 \" ,  \" d e p a r t m e n t \" :  \" A r t \" ,  \" g e n d e r \" :  0 ,  \" i d \" :  1 3 7 6 8 8 9 ,  \" j o b \" :  \" S e t  D e s i g n e r \" ,  \" n a m e \" :  \" D a v i d  C h o w \" } ,  { \" c r e d i t _ i d \" :  \" 5 4 4 9 1 9 1 1 0 e 0 a 2 6 7 4 8 6 0 0 1 b 6 8 \" ,  \" d e p a r t m e n t \" :  \" A r t \" ,  \" g e n d e r \" :  0 ,  \" i d \" :  1 3 7 6 8 9 0 ,  \" j o b \" :  \" S e t  D e s i g n e r \" ,  \" n a m e \" :  \" J o n a t h a n  D y e r \" } ,  { \" c r e d i t _ i d \" :  \" 5 4 4 9 1 9 6 7 c 3 a 3 6 8 0 f a a 0 0 1 b 5 e \" ,  \" d e p a r t m e n t \" :  \" A r t \" ,  \" g e n d e r \" :  0 ,  \" i d \" :  1 3 7 6 8 9 1 ,  \" j o b \" :  \" S e t  D e s i g n e r \" ,  \" n a m e \" :  \" J o s e p h  H i u r a \" } ,  { \" c r e d i t _ i d \" :  \" 5 4 4 9 1 9 9 7 c 3 a 3 6 8 0 f b 1 0 0 1 c 8 a \" ,  \" d e p a r t m e n t \" :  \" A r t \" ,  \" g e n d e r \" :  0 ,  \" i d \" :  1 3 7 6 8 9 2 ,  \" j o b \" :  \" A r t  D e p a r t m e n t  C o o r d i n a t o r \" ,  \" n a m e \" :  \" R e b e c c a  J e l l i e \" } ,  { \" c r e d i t _ i d \" :  \" 5 4 4 9 1 9 b a 0 e 0 a 2 6 7 4 8 f 0 0 1 b 4 2 \" ,  \" d e p a r t m e n t \" :  \" A r t \" ,  \" g e n d e r \" :  0 ,  \" i d \" :  1 3 7 6 8 9 3 ,  \" j o b \" :  \" S e t  D e s i g n e r \" ,  \" n a m e \" :  \" R o b e r t  A n d r e w  J o h n s o n \" } ,  { \" c r e d i t _ i d \" :  \" 5 4 4 9 1 b 1 d c 3 a 3 6 8 0 f a a 0 0 1 b 8 c \" ,  \" d e p a r t m e n t \" :  \" A r t \" ,  \" g e n d e r \" :  0 ,  \" i d \" :  1 3 7 6 8 9 5 ,  \" j o b \" :  \" A s s i s t a n t  A r t  D i r e c t o r \" ,  \" n a m e \" :  \" M i k e  S t a s s i \" } ,  { \" c r e d i t _ i d \" :  \" 5 4 4 9 1 b 7 9 c 3 a 3 6 8 0 f b b 0 0 1 8 2 6 \" ,  \" d e p a r t m e n t \" :  \" A r t \" ,  \" g e n d e r \" :  0 ,  \" i d \" :  1 3 7 6 8 9 7 ,  \" j o b \" :  \" C o n s t r u c t i o n  C o o r d i n a t o r \" ,  \" n a m e \" :  \" J o h n  V i l l a r i n o \" } ,  { \" c r e d i t _ i d \" :  \" 5 4 4 9 1 b a e c 3 a 3 6 8 0 f b 4 0 0 1 c e 6 \" ,  \" d e p a r t m e n t \" :  \" A r t \" ,  \" g e n d e r \" :  2 ,  \" i d \" :  1 3 7 6 8 9 8 ,  \" j o b \" :  \" A s s i s t a n t  A r t  D i r e c t o r \" ,  \" n a m e \" :  \" J e f f r e y  W i s n i e w s k i \" } ,  { \" c r e d i t _ i d \" :  \" 5 4 4 9 1 d 2 f c 3 a 3 6 8 0 f b 4 0 0 1 d 0 7 \" ,  \" d e p a r t m e n t \" :  \" E d i t i n g \" ,  \" g e n d e r \" :  0 ,  \" i d \" :  1 3 7 6 8 9 9 ,  \" j o b \" :  \" D i a l o g u e  E d i t o r \" ,  \" n a m e \" :  \" C h e r y l  N a r d i \" } ,  { \" c r e d i t _ i d \" :  \" 5 4 4 9 1 d 8 6 c 3 a 3 6 8 0 f a 5 0 0 1 b 2 f \" ,  \" d e p a r t m e n t \" :  \" E d i t i n g \" ,  \" g e n d e r \" :  0 ,  \" i d \" :  1 3 7 6 9 0 1 ,  \" j o b \" :  \" D i a l o g u e  E d i t o r \" ,  \" n a m e \" :  \" M a r s h a l l  W i n n \" } ,  { \" c r e d i t _ i d \" :  \" 5 4 4 9 1 d 9 d c 3 a 3 6 8 0 f a a 0 0 1 b b 0 \" ,  \" d e p a r t m e n t \" :  \" S o u n d \" ,  \" g e n d e r \" :  0 ,  \" i d \" :  1 3 7 6 9 0 2 ,  \" j o b \" :  \" S u p e r v i s i n g  S o u n d  E d i t o r \" ,  \" n a m e \" :  \" G w e n d o l y n  Y a t e s  W h i t t l e \" } ,  { \" c r e d i t _ i d \" :  \" 5 4 4 9 1 d c 1 0 e 0 a 2 6 7 4 8 6 0 0 1 b c e \" ,  \" d e p a r t m e n t \" :  \" S o u n d \" ,  \" g e n d e r \" :  0 ,  \" i d \" :  1 3 7 6 9 0 3 ,  \" j o b \" :  \" S o u n d  R e - R e c o r d i n g  M i x e r \" ,  \" n a m e \" :  \" W i l l i a m  S t e i n \" } ,  { \" c r e d i t _ i d \" :  \" 5 4 4 9 1 f 5 0 0 e 0 a 2 6 7 4 7 c 0 0 1 c 0 7 \" ,  \" d e p a r t m e n t \" :  \" C r e w \" ,  \" g e n d e r \" :  0 ,  \" i d \" :  1 3 7 6 9 0 9 ,  \" j o b \" :  \" C h o r e o g r a p h e r \" ,  \" n a m e \" :  \" L u l a  W a s h i n g t o n \" } ,  { \" c r e d i t _ i d \" :  \" 5 4 9 5 9 9 2 3 9 2 5 1 4 1 2 c 4 e 0 0 2 a 2 e \" ,  \" d e p a r t m e n t \" :  \" V i s u a l  E f f e c t s \" ,  \" g e n d e r \" :  0 ,  \" i d \" :  1 3 9 1 6 9 2 ,  \" j o b \" :  \" V i s u a l  E f f e c t s  P r o d u c e r \" ,  \" n a m e \" :  \" C h r i s  D e l  C o n t e \" } ,  { \" c r e d i t _ i d \" :  \" 5 4 9 5 9 d 5 4 c 3 a 3 6 8 3 1 b 8 0 0 1 d 9 a \" ,  \" d e p a r t m e n t \" :  \" V i s u a l  E f f e c t s \" ,  \" g e n d e r \" :  2 ,  \" i d \" :  1 3 9 1 6 9 5 ,  \" j o b \" :  \" V i s u a l  E f f e c t s  S u p e r v i s o r \" ,  \" n a m e \" :  \" R .  C h r i s t o p h e r  W h i t e \" } ,  { \" c r e d i t _ i d \" :  \" 5 4 9 5 9 b d f 9 2 5 1 4 1 2 c 4 e 0 0 2 a 6 6 \" ,  \" d e p a r t m e n t \" :  \" V i s u a l  E f f e c t s \" ,  \" g e n d e r \" :  0 ,  \" i d \" :  1 3 9 4 0 7 0 ,  \" j o b \" :  \" V i s u a l  E f f e c t s  S u p e r v i s o r \" ,  \" n a m e \" :  \" D a n  L e m m o n \" } ,  { \" c r e d i t _ i d \" :  \" 5 4 9 5 9 7 1 d 9 2 5 1 4 1 3 2 e d 0 0 2 9 2 2 \" ,  \" d e p a r t m e n t \" :  \" S o u n d \" ,  \" g e n d e r \" :  0 ,  \" i d \" :  1 3 9 4 1 2 9 ,  \" j o b \" :  \" S o u n d  E f f e c t s  E d i t o r \" ,  \" n a m e \" :  \" T i m  N i e l s e n \" } ,  { \" c r e d i t _ i d \" :  \" 5 5 9 2 b 2 5 7 9 2 5 1 4 1 5 2 c c 0 0 1 1 a a \" ,  \" d e p a r t m e n t \" :  \" C r e w \" ,  \" g e n d e r \" :  0 ,  \" i d \" :  1 3 9 4 2 8 6 ,  \" j o b \" :  \" C G  S u p e r v i s o r \" ,  \" n a m e \" :  \" M i c h a e l  M u l h o l l a n d \" } ,  { \" c r e d i t _ i d \" :  \" 5 4 9 5 9 a 3 2 9 2 5 1 4 1 6 e 2 b 0 0 4 3 5 5 \" ,  \" d e p a r t m e n t \" :  \" C r e w \" ,  \" g e n d e r \" :  0 ,  \" i d \" :  1 3 9 4 7 5 0 ,  \" j o b \" :  \" V i s u a l  E f f e c t s  E d i t o r \" ,  \" n a m e \" :  \" T h o m a s  N i t t m a n n \" } ,  { \" c r e d i t _ i d \" :  \" 5 4 9 5 9 d 6 d c 3 a 3 6 8 6 a e 9 0 0 4 4 0 1 \" ,  \" d e p a r t m e n t \" :  \" V i s u a l  E f f e c t s \" ,  \" g e n d e r \" :  0 ,  \" i d \" :  1 3 9 4 7 5 5 ,  \" j o b \" :  \" V i s u a l  E f f e c t s  S u p e r v i s o r \" ,  \" n a m e \" :  \" E d s o n  W i l l i a m s \" } ,  { \" c r e d i t _ i d \" :  \" 5 4 9 5 a 0 8 f c 3 a 3 6 8 6 a e 3 0 0 4 4 1 c \" ,  \" d e p a r t m e n t \" :  \" E d i t i n g \" ,  \" g e n d e r \" :  0 ,  \" i d \" :  1 3 9 4 9 5 3 ,  \" j o b \" :  \" D i g i t a l  I n t e r m e d i a t e \" ,  \" n a m e \" :  \" C h r i s t i n e  C a r r \" } ,  { \" c r e d i t _ i d \" :  \" 5 5 4 0 2 d 6 5 9 2 5 1 4 1 3 d 6 d 0 0 0 2 4 9 \" ,  \" d e p a r t m e n t \" :  \" V i s u a l  E f f e c t s \" ,  \" g e n d e r \" :  0 ,  \" i d \" :  1 3 9 5 2 6 9 ,  \" j o b \" :  \" V i s u a l  E f f e c t s  S u p e r v i s o r \" ,  \" n a m e \" :  \" J o h n  B r u n o \" } ,  { \" c r e d i t _ i d \" :  \" 5 4 9 5 9 e 7 b 9 2 5 1 4 1 6 e 1 e 0 0 3 f 3 e \" ,  \" d e p a r t m e n t \" :  \" C a m e r a \" ,  \" g e n d e r \" :  0 ,  \" i d \" :  1 3 9 8 9 7 0 ,  \" j o b \" :  \" S t e a d i c a m  O p e r a t o r \" ,  \" n a m e \" :  \" D a v i d  E m m e r i c h s \" } ,  { \" c r e d i t _ i d \" :  \" 5 4 9 5 9 7 3 4 c 3 a 3 6 8 6 a e 1 0 0 4 5 e 0 \" ,  \" d e p a r t m e n t \" :  \" S o u n d \" ,  \" g e n d e r \" :  0 ,  \" i d \" :  1 4 0 0 9 0 6 ,  \" j o b \" :  \" S o u n d  E f f e c t s  E d i t o r \" ,  \" n a m e \" :  \" C h r i s t o p h e r  S c a r a b o s i o \" } ,  { \" c r e d i t _ i d \" :  \" 5 4 9 5 9 5 d d 9 2 5 1 4 1 3 0 f c 0 0 2 d 7 9 \" ,  \" d e p a r t m e n t \" :  \" P r o d u c t i o n \" ,  \" g e n d e r \" :  0 ,  \" i d \" :  1 4 0 1 7 8 4 ,  \" j o b \" :  \" P r o d u c t i o n  S u p e r v i s o r \" ,  \" n a m e \" :  \" J e n n i f e r  T e v e s \" } ,  { \" c r e d i t _ i d \" :  \" 5 4 9 5 9 6 0 0 9 2 5 1 4 1 3 a f 7 0 0 2 8 c c \" ,  \" d e p a r t m e n t \" :  \" P r o d u c t i o n \" ,  \" g e n d e r \" :  0 ,  \" i d \" :  1 4 0 1 7 8 5 ,  \" j o b \" :  \" P r o d u c t i o n  M a n a g e r \" ,  \" n a m e \" :  \" B r i g i t t e  Y o r k e \" } ,  { \" c r e d i t _ i d \" :  \" 5 4 9 5 9 6 e 8 9 2 5 1 4 1 3 0 f c 0 0 2 d 9 9 \" ,  \" d e p a r t m e n t \" :  \" S o u n d \" ,  \" g e n d e r \" :  0 ,  \" i d \" :  1 4 0 1 7 8 6 ,  \" j o b \" :  \" S o u n d  E f f e c t s  E d i t o r \" ,  \" n a m e \" :  \" K e n  F i s c h e r \" } ,  { \" c r e d i t _ i d \" :  \" 5 4 9 5 9 8 2 2 9 2 5 1 4 1 2 c 4 e 0 0 2 a 1 c \" ,  \" d e p a r t m e n t \" :  \" C r e w \" ,  \" g e n d e r \" :  0 ,  \" i d \" :  1 4 0 1 7 8 7 ,  \" j o b \" :  \" S p e c i a l  E f f e c t s  C o o r d i n a t o r \" ,  \" n a m e \" :  \" I a i n  H u t t o n \" } ,  { \" c r e d i t _ i d \" :  \" 5 4 9 5 9 8 3 4 9 2 5 1 4 1 6 e 2 b 0 0 4 3 2 b \" ,  \" d e p a r t m e n t \" :  \" C r e w \" ,  \" g e n d e r \" :  0 ,  \" i d \" :  1 4 0 1 7 8 8 ,  \" j o b \" :  \" S p e c i a l  E f f e c t s  C o o r d i n a t o r \" ,  \" n a m e \" :  \" S t e v e  I n g r a m \" } ,  { \" c r e d i t _ i d \" :  \" 5 4 9 5 9 9 0 5 c 3 a 3 6 8 6 a e 3 0 0 4 3 2 4 \" ,  \" d e p a r t m e n t \" :  \" V i s u a l  E f f e c t s \" ,  \" g e n d e r \" :  0 ,  \" i d \" :  1 4 0 1 7 8 9 ,  \" j o b \" :  \" V i s u a l  E f f e c t s  P r o d u c e r \" ,  \" n a m e \" :  \" J o y c e  C o x \" } ,  { \" c r e d i t _ i d \" :  \" 5 4 9 5 9 9 4 b 9 2 5 1 4 1 3 2 e d 0 0 2 9 5 1 \" ,  \" d e p a r t m e n t \" :  \" V i s u a l  E f f e c t s \" ,  \" g e n d e r \" :  0 ,  \" i d \" :  1 4 0 1 7 9 0 ,  \" j o b \" :  \" V i s u a l  E f f e c t s  P r o d u c e r \" ,  \" n a m e \" :  \" J e n n y  F o s t e r \" } ,  { \" c r e d i t _ i d \" :  \" 5 4 9 5 9 9 c b c 3 a 3 6 8 6 a e 1 0 0 4 6 1 3 \" ,  \" d e p a r t m e n t \" :  \" C r e w \" ,  \" g e n d e r \" :  0 ,  \" i d \" :  1 4 0 1 7 9 1 ,  \" j o b \" :  \" V i s u a l  E f f e c t s  E d i t o r \" ,  \" n a m e \" :  \" C h r i s t o p h e r  M a r i n o \" } ,  { \" c r e d i t _ i d \" :  \" 5 4 9 5 9 9 f 2 c 3 a 3 6 8 6 a e 1 0 0 4 6 1 e \" ,  \" d e p a r t m e n t \" :  \" C r e w \" ,  \" g e n d e r \" :  0 ,  \" i d \" :  1 4 0 1 7 9 2 ,  \" j o b \" :  \" V i s u a l  E f f e c t s  E d i t o r \" ,  \" n a m e \" :  \" J i m  M i l t o n \" } ,  { \" c r e d i t _ i d \" :  \" 5 4 9 5 9 a 5 1 c 3 a 3 6 8 6 a f 3 0 0 3 e b 5 \" ,  \" d e p a r t m e n t \" :  \" V i s u a l  E f f e c t s \" ,  \" g e n d e r \" :  0 ,  \" i d \" :  1 4 0 1 7 9 3 ,  \" j o b \" :  \" V i s u a l  E f f e c t s  P r o d u c e r \" ,  \" n a m e \" :  \" C y n d i  O c h s \" } ,  { \" c r e d i t _ i d \" :  \" 5 4 9 5 9 a 7 c c 3 a 3 6 8 1 1 5 3 0 0 2 6 f 4 \" ,  \" d e p a r t m e n t \" :  \" C r e w \" ,  \" g e n d e r \" :  0 ,  \" i d \" :  1 4 0 1 7 9 4 ,  \" j o b \" :  \" V i s u a l  E f f e c t s  E d i t o r \" ,  \" n a m e \" :  \" L u c a s  P u t n a m \" } ,  { \" c r e d i t _ i d \" :  \" 5 4 9 5 9 b 9 1 c 3 a 3 6 8 0 f f 5 0 0 2 c b 4 \" ,  \" d e p a r t m e n t \" :  \" V i s u a l  E f f e c t s \" ,  \" g e n d e r \" :  0 ,  \" i d \" :  1 4 0 1 7 9 5 ,  \" j o b \" :  \" V i s u a l  E f f e c t s  S u p e r v i s o r \" ,  \" n a m e \" :  \" A n t h o n y  \\' M a x \\'  I v i n s \" } ,  { \" c r e d i t _ i d \" :  \" 5 4 9 5 9 b b 6 9 2 5 1 4 1 2 c 4 e 0 0 2 a 5 f \" ,  \" d e p a r t m e n t \" :  \" V i s u a l  E f f e c t s \" ,  \" g e n d e r \" :  0 ,  \" i d \" :  1 4 0 1 7 9 6 ,  \" j o b \" :  \" V i s u a l  E f f e c t s  S u p e r v i s o r \" ,  \" n a m e \" :  \" J o h n  K n o l l \" } ,  { \" c r e d i t _ i d \" :  \" 5 4 9 5 9 c b b c 3 a 3 6 8 6 a e 3 0 0 4 3 9 1 \" ,  \" d e p a r t m e n t \" :  \" V i s u a l  E f f e c t s \" ,  \" g e n d e r \" :  2 ,  \" i d \" :  1 4 0 1 7 9 9 ,  \" j o b \" :  \" V i s u a l  E f f e c t s  S u p e r v i s o r \" ,  \" n a m e \" :  \" E r i c  S a i n d o n \" } ,  { \" c r e d i t _ i d \" :  \" 5 4 9 5 9 d 0 6 c 3 a 3 6 8 6 a e 9 0 0 4 3 f 6 \" ,  \" d e p a r t m e n t \" :  \" V i s u a l  E f f e c t s \" ,  \" g e n d e r \" :  0 ,  \" i d \" :  1 4 0 1 8 0 0 ,  \" j o b \" :  \" V i s u a l  E f f e c t s  S u p e r v i s o r \" ,  \" n a m e \" :  \" W a y n e  S t a b l e s \" } ,  { \" c r e d i t _ i d \" :  \" 5 4 9 5 9 d 2 5 9 2 5 1 4 1 6 e 1 e 0 0 3 f 1 1 \" ,  \" d e p a r t m e n t \" :  \" V i s u a l  E f f e c t s \" ,  \" g e n d e r \" :  0 ,  \" i d \" :  1 4 0 1 8 0 1 ,  \" j o b \" :  \" V i s u a l  E f f e c t s  S u p e r v i s o r \" ,  \" n a m e \" :  \" D a v i d  S t i n n e t t \" } ,  { \" c r e d i t _ i d \" :  \" 5 4 9 5 9 d b 4 9 2 5 1 4 1 3 a f 7 0 0 2 9 7 5 \" ,  \" d e p a r t m e n t \" :  \" V i s u a l  E f f e c t s \" ,  \" g e n d e r \" :  0 ,  \" i d \" :  1 4 0 1 8 0 3 ,  \" j o b \" :  \" V i s u a l  E f f e c t s  S u p e r v i s o r \" ,  \" n a m e \" :  \" G u y  W i l l i a m s \" } ,  { \" c r e d i t _ i d \" :  \" 5 4 9 5 9 d e 4 c 3 a 3 6 8 1 1 5 3 0 0 2 7 5 0 \" ,  \" d e p a r t m e n t \" :  \" C r e w \" ,  \" g e n d e r \" :  0 ,  \" i d \" :  1 4 0 1 8 0 4 ,  \" j o b \" :  \" S t u n t  C o o r d i n a t o r \" ,  \" n a m e \" :  \" S t u a r t  T h o r p \" } ,  { \" c r e d i t _ i d \" :  \" 5 4 9 5 9 e f 2 c 3 a 3 6 8 0 f c 6 0 0 2 7 f 2 \" ,  \" d e p a r t m e n t \" :  \" L i g h t i n g \" ,  \" g e n d e r \" :  0 ,  \" i d \" :  1 4 0 1 8 0 5 ,  \" j o b \" :  \" B e s t  B o y  E l e c t r i c \" ,  \" n a m e \" :  \" G i l e s  C o b u r n \" } ,  { \" c r e d i t _ i d \" :  \" 5 4 9 5 9 f 0 7 c 3 a 3 6 8 0 f c 6 0 0 2 7 f 9 \" ,  \" d e p a r t m e n t \" :  \" C a m e r a \" ,  \" g e n d e r \" :  2 ,  \" i d \" :  1 4 0 1 8 0 6 ,  \" j o b \" :  \" S t i l l  P h o t o g r a p h e r \" ,  \" n a m e \" :  \" M a r k  F e l l m a n \" } ,  { \" c r e d i t _ i d \" :  \" 5 4 9 5 9 f 4 7 c 3 a 3 6 8 1 1 5 3 0 0 2 7 7 4 \" ,  \" d e p a r t m e n t \" :  \" L i g h t i n g \" ,  \" g e n d e r \" :  0 ,  \" i d \" :  1 4 0 1 8 0 7 ,  \" j o b \" :  \" L i g h t i n g  T e c h n i c i a n \" ,  \" n a m e \" :  \" S c o t t  S p r a g u e \" } ,  { \" c r e d i t _ i d \" :  \" 5 4 9 5 9 f 8 c c 3 a 3 6 8 3 1 b 8 0 0 1 d f 2 \" ,  \" d e p a r t m e n t \" :  \" V i s u a l  E f f e c t s \" ,  \" g e n d e r \" :  0 ,  \" i d \" :  1 4 0 1 8 0 8 ,  \" j o b \" :  \" A n i m a t i o n  D i r e c t o r \" ,  \" n a m e \" :  \" J e r e m y  H o l l o b o n \" } ,  { \" c r e d i t _ i d \" :  \" 5 4 9 5 9 f a 0 c 3 a 3 6 8 3 1 b 8 0 0 1 d f b \" ,  \" d e p a r t m e n t \" :  \" V i s u a l  E f f e c t s \" ,  \" g e n d e r \" :  0 ,  \" i d \" :  1 4 0 1 8 0 9 ,  \" j o b \" :  \" A n i m a t i o n  D i r e c t o r \" ,  \" n a m e \" :  \" O r l a n d o  M e u n i e r \" } ,  { \" c r e d i t _ i d \" :  \" 5 4 9 5 9 f b 6 c 3 a 3 6 8 6 a f 3 0 0 3 f 5 4 \" ,  \" d e p a r t m e n t \" :  \" V i s u a l  E f f e c t s \" ,  \" g e n d e r \" :  0 ,  \" i d \" :  1 4 0 1 8 1 0 ,  \" j o b \" :  \" A n i m a t i o n  D i r e c t o r \" ,  \" n a m e \" :  \" T a i s u k e  T a n i m u r a \" } ,  { \" c r e d i t _ i d \" :  \" 5 4 9 5 9 f d 2 c 3 a 3 6 8 3 1 b 8 0 0 1 e 0 2 \" ,  \" d e p a r t m e n t \" :  \" C o s t u m e  &  M a k e - U p \" ,  \" g e n d e r \" :  0 ,  \" i d \" :  1 4 0 1 8 1 2 ,  \" j o b \" :  \" S e t  C o s t u m e r \" ,  \" n a m e \" :  \" L i l i a  M i s h e l  A c e v e d o \" } ,  { \" c r e d i t _ i d \" :  \" 5 4 9 5 9 f f 9 c 3 a 3 6 8 6 a e 3 0 0 4 4 0 c \" ,  \" d e p a r t m e n t \" :  \" C o s t u m e  &  M a k e - U p \" ,  \" g e n d e r \" :  0 ,  \" i d \" :  1 4 0 1 8 1 4 ,  \" j o b \" :  \" S e t  C o s t u m e r \" ,  \" n a m e \" :  \" A l e j a n d r o  M .  H e r n a n d e z \" } ,  { \" c r e d i t _ i d \" :  \" 5 4 9 5 a 0 d d c 3 a 3 6 8 6 a e 1 0 0 4 6 f e \" ,  \" d e p a r t m e n t \" :  \" E d i t i n g \" ,  \" g e n d e r \" :  0 ,  \" i d \" :  1 4 0 1 8 1 5 ,  \" j o b \" :  \" D i g i t a l  I n t e r m e d i a t e \" ,  \" n a m e \" :  \" M a r v i n  H a l l \" } ,  { \" c r e d i t _ i d \" :  \" 5 4 9 5 a 1 f 7 c 3 a 3 6 8 6 a e 3 0 0 4 4 4 3 \" ,  \" d e p a r t m e n t \" :  \" P r o d u c t i o n \" ,  \" g e n d e r \" :  0 ,  \" i d \" :  1 4 0 1 8 1 6 ,  \" j o b \" :  \" P u b l i c i s t \" ,  \" n a m e \" :  \" J u d y  A l l e y \" } ,  { \" c r e d i t _ i d \" :  \" 5 5 9 2 b 2 9 f c 3 a 3 6 8 6 9 d 1 0 0 0 0 2 f \" ,  \" d e p a r t m e n t \" :  \" C r e w \" ,  \" g e n d e r \" :  0 ,  \" i d \" :  1 4 1 8 3 8 1 ,  \" j o b \" :  \" C G  S u p e r v i s o r \" ,  \" n a m e \" :  \" M i k e  P e r r y \" } ,  { \" c r e d i t _ i d \" :  \" 5 5 9 2 b 2 3 a 9 2 5 1 4 1 5 d f 8 0 0 1 0 8 1 \" ,  \" d e p a r t m e n t \" :  \" C r e w \" ,  \" g e n d e r \" :  0 ,  \" i d \" :  1 4 2 6 8 5 4 ,  \" j o b \" :  \" C G  S u p e r v i s o r \" ,  \" n a m e \" :  \" A n d r e w  M o r l e y \" } ,  { \" c r e d i t _ i d \" :  \" 5 5 4 9 1 e 1 1 9 2 5 1 4 1 0 4 c 4 0 0 0 2 d 8 \" ,  \" d e p a r t m e n t \" :  \" A r t \" ,  \" g e n d e r \" :  0 ,  \" i d \" :  1 4 3 8 9 0 1 ,  \" j o b \" :  \" C o n c e p t u a l  D e s i g n \" ,  \" n a m e \" :  \" S e t h  E n g s t r o m \" } ,  { \" c r e d i t _ i d \" :  \" 5 5 2 5 d 5 8 0 9 2 5 1 4 1 7 2 7 6 0 0 2 b 0 6 \" ,  \" d e p a r t m e n t \" :  \" C r e w \" ,  \" g e n d e r \" :  0 ,  \" i d \" :  1 4 4 7 3 6 2 ,  \" j o b \" :  \" V i s u a l  E f f e c t s  A r t  D i r e c t o r \" ,  \" n a m e \" :  \" E r i c  O l i v e r \" } ,  { \" c r e d i t _ i d \" :  \" 5 5 4 4 2 7 c a 9 2 5 1 4 1 5 8 6 5 0 0 3 1 2 a \" ,  \" d e p a r t m e n t \" :  \" V i s u a l  E f f e c t s \" ,  \" g e n d e r \" :  0 ,  \" i d \" :  1 4 4 7 5 0 3 ,  \" j o b \" :  \" M o d e l i n g \" ,  \" n a m e \" :  \" M a t s u n e  S u z u k i \" } ,  { \" c r e d i t _ i d \" :  \" 5 5 1 9 0 6 8 8 9 2 5 1 4 1 5 a a b 0 0 1 c 8 8 \" ,  \" d e p a r t m e n t \" :  \" A r t \" ,  \" g e n d e r \" :  0 ,  \" i d \" :  1 4 4 7 5 2 4 ,  \" j o b \" :  \" A r t  D e p a r t m e n t  M a n a g e r \" ,  \" n a m e \" :  \" P a u l  T o b i n \" } ,  { \" c r e d i t _ i d \" :  \" 5 5 9 2 a f 8 4 9 2 5 1 4 1 5 2 c c 0 0 1 0 d e \" ,  \" d e p a r t m e n t \" :  \" C o s t u m e  &  M a k e - U p \" ,  \" g e n d e r \" :  0 ,  \" i d \" :  1 4 5 2 6 4 3 ,  \" j o b \" :  \" H a i r s t y l i s t \" ,  \" n a m e \" :  \" R o x a n e  G r i f f i n \" } ,  { \" c r e d i t _ i d \" :  \" 5 5 3 d 3 c 1 0 9 2 5 1 4 1 5 8 5 2 0 0 1 3 1 8 \" ,  \" d e p a r t m e n t \" :  \" L i g h t i n g \" ,  \" g e n d e r \" :  0 ,  \" i d \" :  1 4 5 3 9 3 8 ,  \" j o b \" :  \" L i g h t i n g  A r t i s t \" ,  \" n a m e \" :  \" A r u n  R a m - M o h a n \" } ,  { \" c r e d i t _ i d \" :  \" 5 5 9 2 a f 4 6 9 2 5 1 4 1 5 2 d 5 0 0 1 3 5 5 \" ,  \" d e p a r t m e n t \" :  \" C o s t u m e  &  M a k e - U p \" ,  \" g e n d e r \" :  0 ,  \" i d \" :  1 4 5 7 3 0 5 ,  \" j o b \" :  \" M a k e u p  A r t i s t \" ,  \" n a m e \" :  \" G e o r g i a  L o c k h a r t - A d a m s \" } ,  { \" c r e d i t _ i d \" :  \" 5 5 9 2 b 2 e a c 3 a 3 6 8 7 7 4 7 0 0 1 2 a 5 \" ,  \" d e p a r t m e n t \" :  \" C r e w \" ,  \" g e n d e r \" :  0 ,  \" i d \" :  1 4 6 6 0 3 5 ,  \" j o b \" :  \" C G  S u p e r v i s o r \" ,  \" n a m e \" :  \" T h r a i n  S h a d b o l t \" } ,  { \" c r e d i t _ i d \" :  \" 5 5 9 2 b 0 3 2 c 3 a 3 6 8 7 7 4 5 0 0 1 5 f 1 \" ,  \" d e p a r t m e n t \" :  \" C r e w \" ,  \" g e n d e r \" :  0 ,  \" i d \" :  1 4 8 3 2 2 0 ,  \" j o b \" :  \" C G  S u p e r v i s o r \" ,  \" n a m e \" :  \" B r a d  A l e x a n d e r \" } ,  { \" c r e d i t _ i d \" :  \" 5 5 9 2 b 0 5 5 9 2 5 1 4 1 5 2 d 8 0 0 1 2 f 6 \" ,  \" d e p a r t m e n t \" :  \" C r e w \" ,  \" g e n d e r \" :  0 ,  \" i d \" :  1 4 8 3 2 2 1 ,  \" j o b \" :  \" C G  S u p e r v i s o r \" ,  \" n a m e \" :  \" S h a d i  A l m a s s i z a d e h \" } ,  { \" c r e d i t _ i d \" :  \" 5 5 9 2 b 0 9 0 c 3 a 3 6 8 7 7 5 7 0 0 1 0 b 5 \" ,  \" d e p a r t m e n t \" :  \" C r e w \" ,  \" g e n d e r \" :  0 ,  \" i d \" :  1 4 8 3 2 2 2 ,  \" j o b \" :  \" C G  S u p e r v i s o r \" ,  \" n a m e \" :  \" S i m o n  C l u t t e r b u c k \" } ,  { \" c r e d i t _ i d \" :  \" 5 5 9 2 b 0 d b c 3 a 3 6 8 7 7 4 b 0 0 1 1 2 c \" ,  \" d e p a r t m e n t \" :  \" C r e w \" ,  \" g e n d e r \" :  0 ,  \" i d \" :  1 4 8 3 2 2 3 ,  \" j o b \" :  \" C G  S u p e r v i s o r \" ,  \" n a m e \" :  \" G r a e m e  D e m m o c k s \" } ,  { \" c r e d i t _ i d \" :  \" 5 5 9 2 b 0 f e 9 2 5 1 4 1 5 2 d b 0 0 1 0 c 1 \" ,  \" d e p a r t m e n t \" :  \" C r e w \" ,  \" g e n d e r \" :  0 ,  \" i d \" :  1 4 8 3 2 2 4 ,  \" j o b \" :  \" C G  S u p e r v i s o r \" ,  \" n a m e \" :  \" A d r i a n  F e r n a n d e s \" } ,  { \" c r e d i t _ i d \" :  \" 5 5 9 2 b 1 1 f 9 2 5 1 4 1 5 d f 8 0 0 1 0 5 9 \" ,  \" d e p a r t m e n t \" :  \" C r e w \" ,  \" g e n d e r \" :  0 ,  \" i d \" :  1 4 8 3 2 2 5 ,  \" j o b \" :  \" C G  S u p e r v i s o r \" ,  \" n a m e \" :  \" M i t c h  G a t e s \" } ,  { \" c r e d i t _ i d \" :  \" 5 5 9 2 b 1 5 d c 3 a 3 6 8 7 7 4 5 0 0 1 6 4 5 \" ,  \" d e p a r t m e n t \" :  \" C r e w \" ,  \" g e n d e r \" :  0 ,  \" i d \" :  1 4 8 3 2 2 6 ,  \" j o b \" :  \" C G  S u p e r v i s o r \" ,  \" n a m e \" :  \" J e r r y  K u n g \" } ,  { \" c r e d i t _ i d \" :  \" 5 5 9 2 b 1 8 e 9 2 5 1 4 1 6 4 5 a 0 0 0 4 a e \" ,  \" d e p a r t m e n t \" :  \" C r e w \" ,  \" g e n d e r \" :  0 ,  \" i d \" :  1 4 8 3 2 2 7 ,  \" j o b \" :  \" C G  S u p e r v i s o r \" ,  \" n a m e \" :  \" A n d y  L o m a s \" } ,  { \" c r e d i t _ i d \" :  \" 5 5 9 2 b 1 b f c 3 a 3 6 8 7 7 5 d 0 0 1 0 e 7 \" ,  \" d e p a r t m e n t \" :  \" C r e w \" ,  \" g e n d e r \" :  0 ,  \" i d \" :  1 4 8 3 2 2 8 ,  \" j o b \" :  \" C G  S u p e r v i s o r \" ,  \" n a m e \" :  \" S e b a s t i a n  M a r i n o \" } ,  { \" c r e d i t _ i d \" :  \" 5 5 9 2 b 2 0 4 9 2 5 1 4 1 5 d f 8 0 0 1 0 7 8 \" ,  \" d e p a r t m e n t \" :  \" C r e w \" ,  \" g e n d e r \" :  0 ,  \" i d \" :  1 4 8 3 2 2 9 ,  \" j o b \" :  \" C G  S u p e r v i s o r \" ,  \" n a m e \" :  \" M a t t h i a s  M e n z \" } ,  { \" c r e d i t _ i d \" :  \" 5 5 9 2 b 2 7 b 9 2 5 1 4 1 5 2 d 8 0 0 1 3 6 a \" ,  \" d e p a r t m e n t \" :  \" C r e w \" ,  \" g e n d e r \" :  0 ,  \" i d \" :  1 4 8 3 2 3 0 ,  \" j o b \" :  \" C G  S u p e r v i s o r \" ,  \" n a m e \" :  \" S e r g e i  N e v s h u p o v \" } ,  { \" c r e d i t _ i d \" :  \" 5 5 9 2 b 2 c 3 c 3 a 3 6 8 6 9 e 8 0 0 0 0 3 c \" ,  \" d e p a r t m e n t \" :  \" C r e w \" ,  \" g e n d e r \" :  0 ,  \" i d \" :  1 4 8 3 2 3 1 ,  \" j o b \" :  \" C G  S u p e r v i s o r \" ,  \" n a m e \" :  \" P h i l i p p e  R e b o u r s \" } ,  { \" c r e d i t _ i d \" :  \" 5 5 9 2 b 3 1 7 c 3 a 3 6 8 7 7 4 7 0 0 1 2 a f \" ,  \" d e p a r t m e n t \" :  \" C r e w \" ,  \" g e n d e r \" :  0 ,  \" i d \" :  1 4 8 3 2 3 2 ,  \" j o b \" :  \" C G  S u p e r v i s o r \" ,  \" n a m e \" :  \" M i c h a e l  T a k a r a n g i \" } ,  { \" c r e d i t _ i d \" :  \" 5 5 9 2 b 3 4 5 c 3 a 3 6 8 7 7 4 7 0 0 1 2 b b \" ,  \" d e p a r t m e n t \" :  \" C r e w \" ,  \" g e n d e r \" :  0 ,  \" i d \" :  1 4 8 3 2 3 3 ,  \" j o b \" :  \" C G  S u p e r v i s o r \" ,  \" n a m e \" :  \" D a v i d  W e i t z b e r g \" } ,  { \" c r e d i t _ i d \" :  \" 5 5 9 2 b 3 7 c c 3 a 3 6 8 7 7 5 1 0 0 1 1 3 b \" ,  \" d e p a r t m e n t \" :  \" C r e w \" ,  \" g e n d e r \" :  0 ,  \" i d \" :  1 4 8 3 2 3 4 ,  \" j o b \" :  \" C G  S u p e r v i s o r \" ,  \" n a m e \" :  \" B e n  W h i t e \" } ,  { \" c r e d i t _ i d \" :  \" 5 7 3 c 8 e 2 f 9 2 5 1 4 1 3 f 5 d 0 0 0 0 9 4 \" ,  \" d e p a r t m e n t \" :  \" C r e w \" ,  \" g e n d e r \" :  1 ,  \" i d \" :  1 6 2 1 9 3 2 ,  \" j o b \" :  \" S t u n t s \" ,  \" n a m e \" :  \" M i n  W i n d l e \" } ]'"
      ]
     },
     "execution_count": 272,
     "metadata": {},
     "output_type": "execute_result"
    }
   ],
   "source": [
    "new_df['tags'][0]"
   ]
  },
  {
   "cell_type": "code",
   "execution_count": 62,
   "id": "3f9a55a9-8c6b-46dd-a560-b6a908bf2e66",
   "metadata": {},
   "outputs": [],
   "source": [
    "# convert whole para into LowerCase as it is suggested ."
   ]
  },
  {
   "cell_type": "code",
   "execution_count": 274,
   "id": "8456abf5-622e-4e90-b7e6-e6d39484b6b6",
   "metadata": {},
   "outputs": [
    {
     "name": "stderr",
     "output_type": "stream",
     "text": [
      "C:\\Users\\bt23c\\AppData\\Local\\Temp\\ipykernel_18084\\4224080999.py:1: SettingWithCopyWarning: \n",
      "A value is trying to be set on a copy of a slice from a DataFrame.\n",
      "Try using .loc[row_indexer,col_indexer] = value instead\n",
      "\n",
      "See the caveats in the documentation: https://pandas.pydata.org/pandas-docs/stable/user_guide/indexing.html#returning-a-view-versus-a-copy\n",
      "  new_df['tags']=new_df['tags'].apply(lambda x:x.lower())\n"
     ]
    }
   ],
   "source": [
    "new_df['tags']=new_df['tags'].apply(lambda x:x.lower())"
   ]
  },
  {
   "cell_type": "code",
   "execution_count": 276,
   "id": "a0656a95-1b88-4677-a3bc-f6c657507d06",
   "metadata": {},
   "outputs": [
    {
     "data": {
      "text/html": [
       "<div>\n",
       "<style scoped>\n",
       "    .dataframe tbody tr th:only-of-type {\n",
       "        vertical-align: middle;\n",
       "    }\n",
       "\n",
       "    .dataframe tbody tr th {\n",
       "        vertical-align: top;\n",
       "    }\n",
       "\n",
       "    .dataframe thead th {\n",
       "        text-align: right;\n",
       "    }\n",
       "</style>\n",
       "<table border=\"1\" class=\"dataframe\">\n",
       "  <thead>\n",
       "    <tr style=\"text-align: right;\">\n",
       "      <th></th>\n",
       "      <th>movie_id</th>\n",
       "      <th>title</th>\n",
       "      <th>tags</th>\n",
       "    </tr>\n",
       "  </thead>\n",
       "  <tbody>\n",
       "    <tr>\n",
       "      <th>0</th>\n",
       "      <td>19995</td>\n",
       "      <td>Avatar</td>\n",
       "      <td>in the 22nd century, a paraplegic marine is di...</td>\n",
       "    </tr>\n",
       "    <tr>\n",
       "      <th>1</th>\n",
       "      <td>285</td>\n",
       "      <td>Pirates of the Caribbean: At World's End</td>\n",
       "      <td>captain barbossa, long believed to be dead, ha...</td>\n",
       "    </tr>\n",
       "    <tr>\n",
       "      <th>2</th>\n",
       "      <td>206647</td>\n",
       "      <td>Spectre</td>\n",
       "      <td>a cryptic message from bond’s past sends him o...</td>\n",
       "    </tr>\n",
       "    <tr>\n",
       "      <th>3</th>\n",
       "      <td>49026</td>\n",
       "      <td>The Dark Knight Rises</td>\n",
       "      <td>following the death of district attorney harve...</td>\n",
       "    </tr>\n",
       "    <tr>\n",
       "      <th>4</th>\n",
       "      <td>49529</td>\n",
       "      <td>John Carter</td>\n",
       "      <td>john carter is a war-weary, former military ca...</td>\n",
       "    </tr>\n",
       "  </tbody>\n",
       "</table>\n",
       "</div>"
      ],
      "text/plain": [
       "   movie_id                                     title  \\\n",
       "0     19995                                    Avatar   \n",
       "1       285  Pirates of the Caribbean: At World's End   \n",
       "2    206647                                   Spectre   \n",
       "3     49026                     The Dark Knight Rises   \n",
       "4     49529                               John Carter   \n",
       "\n",
       "                                                tags  \n",
       "0  in the 22nd century, a paraplegic marine is di...  \n",
       "1  captain barbossa, long believed to be dead, ha...  \n",
       "2  a cryptic message from bond’s past sends him o...  \n",
       "3  following the death of district attorney harve...  \n",
       "4  john carter is a war-weary, former military ca...  "
      ]
     },
     "execution_count": 276,
     "metadata": {},
     "output_type": "execute_result"
    }
   ],
   "source": [
    "new_df.head()"
   ]
  },
  {
   "cell_type": "code",
   "execution_count": 278,
   "id": "dba9c52d-bdd9-4084-88bd-a4a851f71f40",
   "metadata": {},
   "outputs": [
    {
     "data": {
      "text/plain": [
       "'in the 22nd century, a paraplegic marine is dispatched to the moon pandora on a unique mission, but becomes torn between following orders and protecting an alien civilization. action adventure fantasy sciencefiction cultureclash future spacewar spacecolony society spacetravel futuristic romance space alien tribe alienplanet cgi marine soldier battle loveaffair antiwar powerrelations mindandsoul 3d samworthington zoesaldana sigourneyweaver [ { \" c r e d i t _ i d \" :  \" 5 2 f e 4 8 0 0 9 2 5 1 4 1 6 c 7 5 0 a c a 2 3 \" ,  \" d e p a r t m e n t \" :  \" e d i t i n g \" ,  \" g e n d e r \" :  0 ,  \" i d \" :  1 7 2 1 ,  \" j o b \" :  \" e d i t o r \" ,  \" n a m e \" :  \" s t e p h e n  e .  r i v k i n \" } ,  { \" c r e d i t _ i d \" :  \" 5 3 9 c 4 7 e c c 3 a 3 6 8 1 0 e 3 0 0 1 f 8 7 \" ,  \" d e p a r t m e n t \" :  \" a r t \" ,  \" g e n d e r \" :  2 ,  \" i d \" :  4 9 6 ,  \" j o b \" :  \" p r o d u c t i o n  d e s i g n \" ,  \" n a m e \" :  \" r i c k  c a r t e r \" } ,  { \" c r e d i t _ i d \" :  \" 5 4 4 9 1 c 8 9 c 3 a 3 6 8 0 f b 4 0 0 1 c f 7 \" ,  \" d e p a r t m e n t \" :  \" s o u n d \" ,  \" g e n d e r \" :  0 ,  \" i d \" :  9 0 0 ,  \" j o b \" :  \" s o u n d  d e s i g n e r \" ,  \" n a m e \" :  \" c h r i s t o p h e r  b o y e s \" } ,  { \" c r e d i t _ i d \" :  \" 5 4 4 9 1 c b 7 0 e 0 a 2 6 7 4 8 0 0 0 1 b d 0 \" ,  \" d e p a r t m e n t \" :  \" s o u n d \" ,  \" g e n d e r \" :  0 ,  \" i d \" :  9 0 0 ,  \" j o b \" :  \" s u p e r v i s i n g  s o u n d  e d i t o r \" ,  \" n a m e \" :  \" c h r i s t o p h e r  b o y e s \" } ,  { \" c r e d i t _ i d \" :  \" 5 3 9 c 4 a 4 c c 3 a 3 6 8 1 0 c 9 0 0 2 1 0 1 \" ,  \" d e p a r t m e n t \" :  \" p r o d u c t i o n \" ,  \" g e n d e r \" :  1 ,  \" i d \" :  1 2 6 2 ,  \" j o b \" :  \" c a s t i n g \" ,  \" n a m e \" :  \" m a l i  f i n n \" } ,  { \" c r e d i t _ i d \" :  \" 5 5 4 4 e e 3 b 9 2 5 1 4 1 4 9 9 f 0 0 0 8 f c \" ,  \" d e p a r t m e n t \" :  \" s o u n d \" ,  \" g e n d e r \" :  2 ,  \" i d \" :  1 7 2 9 ,  \" j o b \" :  \" o r i g i n a l  m u s i c  c o m p o s e r \" ,  \" n a m e \" :  \" j a m e s  h o r n e r \" } ,  { \" c r e d i t _ i d \" :  \" 5 2 f e 4 8 0 0 9 2 5 1 4 1 6 c 7 5 0 a c 9 c 3 \" ,  \" d e p a r t m e n t \" :  \" d i r e c t i n g \" ,  \" g e n d e r \" :  2 ,  \" i d \" :  2 7 1 0 ,  \" j o b \" :  \" d i r e c t o r \" ,  \" n a m e \" :  \" j a m e s  c a m e r o n \" } ,  { \" c r e d i t _ i d \" :  \" 5 2 f e 4 8 0 0 9 2 5 1 4 1 6 c 7 5 0 a c 9 d 9 \" ,  \" d e p a r t m e n t \" :  \" w r i t i n g \" ,  \" g e n d e r \" :  2 ,  \" i d \" :  2 7 1 0 ,  \" j o b \" :  \" w r i t e r \" ,  \" n a m e \" :  \" j a m e s  c a m e r o n \" } ,  { \" c r e d i t _ i d \" :  \" 5 2 f e 4 8 0 0 9 2 5 1 4 1 6 c 7 5 0 a c a 1 7 \" ,  \" d e p a r t m e n t \" :  \" e d i t i n g \" ,  \" g e n d e r \" :  2 ,  \" i d \" :  2 7 1 0 ,  \" j o b \" :  \" e d i t o r \" ,  \" n a m e \" :  \" j a m e s  c a m e r o n \" } ,  { \" c r e d i t _ i d \" :  \" 5 2 f e 4 8 0 0 9 2 5 1 4 1 6 c 7 5 0 a c a 2 9 \" ,  \" d e p a r t m e n t \" :  \" p r o d u c t i o n \" ,  \" g e n d e r \" :  2 ,  \" i d \" :  2 7 1 0 ,  \" j o b \" :  \" p r o d u c e r \" ,  \" n a m e \" :  \" j a m e s  c a m e r o n \" } ,  { \" c r e d i t _ i d \" :  \" 5 2 f e 4 8 0 0 9 2 5 1 4 1 6 c 7 5 0 a c a 3 f \" ,  \" d e p a r t m e n t \" :  \" w r i t i n g \" ,  \" g e n d e r \" :  2 ,  \" i d \" :  2 7 1 0 ,  \" j o b \" :  \" s c r e e n p l a y \" ,  \" n a m e \" :  \" j a m e s  c a m e r o n \" } ,  { \" c r e d i t _ i d \" :  \" 5 3 9 c 4 9 8 7 c 3 a 3 6 8 1 0 b a 0 0 2 1 a 4 \" ,  \" d e p a r t m e n t \" :  \" a r t \" ,  \" g e n d e r \" :  2 ,  \" i d \" :  7 2 3 6 ,  \" j o b \" :  \" a r t  d i r e c t i o n \" ,  \" n a m e \" :  \" a n d r e w  m e n z i e s \" } ,  { \" c r e d i t _ i d \" :  \" 5 4 9 5 9 8 c 3 c 3 a 3 6 8 6 a e 9 0 0 4 3 8 3 \" ,  \" d e p a r t m e n t \" :  \" v i s u a l  e f f e c t s \" ,  \" g e n d e r \" :  0 ,  \" i d \" :  6 6 9 0 ,  \" j o b \" :  \" v i s u a l  e f f e c t s  p r o d u c e r \" ,  \" n a m e \" :  \" j i l l  b r o o k s \" } ,  { \" c r e d i t _ i d \" :  \" 5 2 f e 4 8 0 0 9 2 5 1 4 1 6 c 7 5 0 a c a 4 b \" ,  \" d e p a r t m e n t \" :  \" p r o d u c t i o n \" ,  \" g e n d e r \" :  1 ,  \" i d \" :  6 3 4 7 ,  \" j o b \" :  \" c a s t i n g \" ,  \" n a m e \" :  \" m a r g e r y  s i m k i n \" } ,  { \" c r e d i t _ i d \" :  \" 5 7 0 b 6 f 4 1 9 2 5 1 4 1 7 d a 7 0 0 3 2 f e \" ,  \" d e p a r t m e n t \" :  \" a r t \" ,  \" g e n d e r \" :  2 ,  \" i d \" :  6 8 7 8 ,  \" j o b \" :  \" s u p e r v i s i n g  a r t  d i r e c t o r \" ,  \" n a m e \" :  \" k e v i n  i s h i o k a \" } ,  { \" c r e d i t _ i d \" :  \" 5 4 9 5 a 0 f a c 3 a 3 6 8 6 a e 9 0 0 4 4 6 8 \" ,  \" d e p a r t m e n t \" :  \" s o u n d \" ,  \" g e n d e r \" :  0 ,  \" i d \" :  6 8 8 3 ,  \" j o b \" :  \" m u s i c  e d i t o r \" ,  \" n a m e \" :  \" d i c k  b e r n s t e i n \" } ,  { \" c r e d i t _ i d \" :  \" 5 4 9 5 9 7 0 6 c 3 a 3 6 8 6 a f 3 0 0 3 e 8 1 \" ,  \" d e p a r t m e n t \" :  \" s o u n d \" ,  \" g e n d e r \" :  0 ,  \" i d \" :  8 1 5 9 ,  \" j o b \" :  \" s o u n d  e f f e c t s  e d i t o r \" ,  \" n a m e \" :  \" s h a n n o n  m i l l s \" } ,  { \" c r e d i t _ i d \" :  \" 5 4 4 9 1 d 5 8 c 3 a 3 6 8 0 f b 1 0 0 1 c c b \" ,  \" d e p a r t m e n t \" :  \" s o u n d \" ,  \" g e n d e r \" :  0 ,  \" i d \" :  8 1 6 0 ,  \" j o b \" :  \" f o l e y \" ,  \" n a m e \" :  \" d e n n i e  t h o r p e \" } ,  { \" c r e d i t _ i d \" :  \" 5 4 4 9 1 d 6 c c 3 a 3 6 8 0 f a 5 0 0 1 b 2 c \" ,  \" d e p a r t m e n t \" :  \" s o u n d \" ,  \" g e n d e r \" :  0 ,  \" i d \" :  8 1 6 3 ,  \" j o b \" :  \" f o l e y \" ,  \" n a m e \" :  \" j a n a  v a n c e \" } ,  { \" c r e d i t _ i d \" :  \" 5 2 f e 4 8 0 0 9 2 5 1 4 1 6 c 7 5 0 a c a 5 7 \" ,  \" d e p a r t m e n t \" :  \" c o s t u m e  &  m a k e - u p \" ,  \" g e n d e r \" :  1 ,  \" i d \" :  8 5 2 7 ,  \" j o b \" :  \" c o s t u m e  d e s i g n \" ,  \" n a m e \" :  \" d e b o r a h  l y n n  s c o t t \" } ,  { \" c r e d i t _ i d \" :  \" 5 2 f e 4 8 0 0 9 2 5 1 4 1 6 c 7 5 0 a c a 2 f \" ,  \" d e p a r t m e n t \" :  \" p r o d u c t i o n \" ,  \" g e n d e r \" :  2 ,  \" i d \" :  8 5 2 9 ,  \" j o b \" :  \" p r o d u c e r \" ,  \" n a m e \" :  \" j o n  l a n d a u \" } ,  { \" c r e d i t _ i d \" :  \" 5 3 9 c 4 9 3 7 c 3 a 3 6 8 1 0 b a 0 0 2 1 9 4 \" ,  \" d e p a r t m e n t \" :  \" a r t \" ,  \" g e n d e r \" :  0 ,  \" i d \" :  9 6 1 8 ,  \" j o b \" :  \" a r t  d i r e c t i o n \" ,  \" n a m e \" :  \" s e a n  h a w o r t h \" } ,  { \" c r e d i t _ i d \" :  \" 5 3 9 c 4 9 b 6 c 3 a 3 6 8 1 0 c 1 0 0 2 0 e 6 \" ,  \" d e p a r t m e n t \" :  \" a r t \" ,  \" g e n d e r \" :  1 ,  \" i d \" :  1 2 6 5 3 ,  \" j o b \" :  \" s e t  d e c o r a t i o n \" ,  \" n a m e \" :  \" k i m  s i n c l a i r \" } ,  { \" c r e d i t _ i d \" :  \" 5 7 0 b 6 f 2 f 9 2 5 1 4 1 3 a 0 e 0 0 0 2 0 d \" ,  \" d e p a r t m e n t \" :  \" a r t \" ,  \" g e n d e r \" :  1 ,  \" i d \" :  1 2 6 5 3 ,  \" j o b \" :  \" s u p e r v i s i n g  a r t  d i r e c t o r \" ,  \" n a m e \" :  \" k i m  s i n c l a i r \" } ,  { \" c r e d i t _ i d \" :  \" 5 4 4 9 1 a 6 c 0 e 0 a 2 6 7 4 8 c 0 0 1 b 1 9 \" ,  \" d e p a r t m e n t \" :  \" a r t \" ,  \" g e n d e r \" :  2 ,  \" i d \" :  1 4 3 5 0 ,  \" j o b \" :  \" s e t  d e s i g n e r \" ,  \" n a m e \" :  \" r i c h a r d  f .  m a y s \" } ,  { \" c r e d i t _ i d \" :  \" 5 6 9 2 8 c f 4 c 3 a 3 6 8 4 c f f 0 0 2 5 c 4 \" ,  \" d e p a r t m e n t \" :  \" p r o d u c t i o n \" ,  \" g e n d e r \" :  1 ,  \" i d \" :  2 0 2 9 4 ,  \" j o b \" :  \" e x e c u t i v e  p r o d u c e r \" ,  \" n a m e \" :  \" l a e t a  k a l o g r i d i s \" } ,  { \" c r e d i t _ i d \" :  \" 5 2 f e 4 8 0 0 9 2 5 1 4 1 6 c 7 5 0 a c a 5 1 \" ,  \" d e p a r t m e n t \" :  \" c o s t u m e  &  m a k e - u p \" ,  \" g e n d e r \" :  0 ,  \" i d \" :  1 7 6 7 5 ,  \" j o b \" :  \" c o s t u m e  d e s i g n \" ,  \" n a m e \" :  \" m a y e s  c .  r u b e o \" } ,  { \" c r e d i t _ i d \" :  \" 5 2 f e 4 8 0 0 9 2 5 1 4 1 6 c 7 5 0 a c a 1 1 \" ,  \" d e p a r t m e n t \" :  \" c a m e r a \" ,  \" g e n d e r \" :  2 ,  \" i d \" :  1 8 2 6 5 ,  \" j o b \" :  \" d i r e c t o r  o f  p h o t o g r a p h y \" ,  \" n a m e \" :  \" m a u r o  f i o r e \" } ,  { \" c r e d i t _ i d \" :  \" 5 4 4 9 1 9 4 d 0 e 0 a 2 6 7 4 8 f 0 0 1 b 3 9 \" ,  \" d e p a r t m e n t \" :  \" a r t \" ,  \" g e n d e r \" :  0 ,  \" i d \" :  4 2 2 8 1 ,  \" j o b \" :  \" s e t  d e s i g n e r \" ,  \" n a m e \" :  \" s c o t t  h e r b e r t s o n \" } ,  { \" c r e d i t _ i d \" :  \" 5 2 f e 4 8 0 0 9 2 5 1 4 1 6 c 7 5 0 a c a 0 5 \" ,  \" d e p a r t m e n t \" :  \" c r e w \" ,  \" g e n d e r \" :  0 ,  \" i d \" :  4 2 2 8 8 ,  \" j o b \" :  \" s t u n t s \" ,  \" n a m e \" :  \" w o o d y  s c h u l t z \" } ,  { \" c r e d i t _ i d \" :  \" 5 5 9 2 a e f b 9 2 5 1 4 1 5 2 d e 0 0 1 0 f 5 \" ,  \" d e p a r t m e n t \" :  \" c o s t u m e  &  m a k e - u p \" ,  \" g e n d e r \" :  0 ,  \" i d \" :  2 9 0 6 7 ,  \" j o b \" :  \" m a k e u p  a r t i s t \" ,  \" n a m e \" :  \" l i n d a  d e v e t t a \" } ,  { \" c r e d i t _ i d \" :  \" 5 5 9 2 a f a 4 9 2 5 1 4 1 5 2 d e 0 0 1 1 2 c \" ,  \" d e p a r t m e n t \" :  \" c o s t u m e  &  m a k e - u p \" ,  \" g e n d e r \" :  0 ,  \" i d \" :  2 9 0 6 7 ,  \" j o b \" :  \" h a i r s t y l i s t \" ,  \" n a m e \" :  \" l i n d a  d e v e t t a \" } ,  { \" c r e d i t _ i d \" :  \" 5 4 9 5 9 e d 5 9 2 5 1 4 1 3 0 f c 0 0 2 e 5 d \" ,  \" d e p a r t m e n t \" :  \" c a m e r a \" ,  \" g e n d e r \" :  2 ,  \" i d \" :  3 3 3 0 2 ,  \" j o b \" :  \" c a m e r a  o p e r a t o r \" ,  \" n a m e \" :  \" r i c h a r d  b l u c k \" } ,  { \" c r e d i t _ i d \" :  \" 5 3 9 c 4 8 9 1 c 3 a 3 6 8 1 0 b a 0 0 2 1 4 7 \" ,  \" d e p a r t m e n t \" :  \" a r t \" ,  \" g e n d e r \" :  2 ,  \" i d \" :  3 3 3 0 3 ,  \" j o b \" :  \" a r t  d i r e c t i o n \" ,  \" n a m e \" :  \" s i m o n  b r i g h t \" } ,  { \" c r e d i t _ i d \" :  \" 5 4 9 5 9 c 0 6 9 2 5 1 4 1 7 a 8 1 0 0 1 f 3 a \" ,  \" d e p a r t m e n t \" :  \" v i s u a l  e f f e c t s \" ,  \" g e n d e r \" :  0 ,  \" i d \" :  1 1 3 1 4 5 ,  \" j o b \" :  \" v i s u a l  e f f e c t s  s u p e r v i s o r \" ,  \" n a m e \" :  \" r i c h a r d  m a r t i n \" } ,  { \" c r e d i t _ i d \" :  \" 5 4 9 5 9 a 0 d c 3 a 3 6 8 0 f f 5 0 0 2 c 8 d \" ,  \" d e p a r t m e n t \" :  \" c r e w \" ,  \" g e n d e r \" :  2 ,  \" i d \" :  5 8 1 8 8 ,  \" j o b \" :  \" v i s u a l  e f f e c t s  e d i t o r \" ,  \" n a m e \" :  \" s t e v e  r .  m o o r e \" } ,  { \" c r e d i t _ i d \" :  \" 5 2 f e 4 8 0 0 9 2 5 1 4 1 6 c 7 5 0 a c a 1 d \" ,  \" d e p a r t m e n t \" :  \" e d i t i n g \" ,  \" g e n d e r \" :  2 ,  \" i d \" :  5 8 8 7 1 ,  \" j o b \" :  \" e d i t o r \" ,  \" n a m e \" :  \" j o h n  r e f o u a \" } ,  { \" c r e d i t _ i d \" :  \" 5 4 4 9 1 a 4 d c 3 a 3 6 8 0 f c 3 0 0 1 8 c a \" ,  \" d e p a r t m e n t \" :  \" a r t \" ,  \" g e n d e r \" :  0 ,  \" i d \" :  9 2 3 5 9 ,  \" j o b \" :  \" s e t  d e s i g n e r \" ,  \" n a m e \" :  \" k a r l  j .  m a r t i n \" } ,  { \" c r e d i t _ i d \" :  \" 5 2 f e 4 8 0 0 9 2 5 1 4 1 6 c 7 5 0 a c a 3 5 \" ,  \" d e p a r t m e n t \" :  \" c a m e r a \" ,  \" g e n d e r \" :  1 ,  \" i d \" :  7 2 2 0 1 ,  \" j o b \" :  \" d i r e c t o r  o f  p h o t o g r a p h y \" ,  \" n a m e \" :  \" c h i l i n g  l i n \" } ,  { \" c r e d i t _ i d \" :  \" 5 2 f e 4 8 0 0 9 2 5 1 4 1 6 c 7 5 0 a c 9 f f \" ,  \" d e p a r t m e n t \" :  \" c r e w \" ,  \" g e n d e r \" :  0 ,  \" i d \" :  8 9 7 1 4 ,  \" j o b \" :  \" s t u n t s \" ,  \" n a m e \" :  \" i l r a m  c h o i \" } ,  { \" c r e d i t _ i d \" :  \" 5 4 9 5 9 c 5 2 9 2 5 1 4 1 6 e 2 b 0 0 4 3 9 4 \" ,  \" d e p a r t m e n t \" :  \" v i s u a l  e f f e c t s \" ,  \" g e n d e r \" :  2 ,  \" i d \" :  9 3 2 1 4 ,  \" j o b \" :  \" v i s u a l  e f f e c t s  s u p e r v i s o r \" ,  \" n a m e \" :  \" s t e v e n  q u a l e \" } ,  { \" c r e d i t _ i d \" :  \" 5 4 4 9 1 e d f 0 e 0 a 2 6 7 4 8 9 0 0 1 c 3 7 \" ,  \" d e p a r t m e n t \" :  \" c r e w \" ,  \" g e n d e r \" :  1 ,  \" i d \" :  1 2 2 6 0 7 ,  \" j o b \" :  \" d i a l e c t  c o a c h \" ,  \" n a m e \" :  \" c a r l a  m e y e r \" } ,  { \" c r e d i t _ i d \" :  \" 5 3 9 c 4 8 5 b c 3 a 3 6 8 6 5 3 d 0 0 1 a 3 a \" ,  \" d e p a r t m e n t \" :  \" a r t \" ,  \" g e n d e r \" :  2 ,  \" i d \" :  1 3 2 5 8 5 ,  \" j o b \" :  \" a r t  d i r e c t i o n \" ,  \" n a m e \" :  \" n i c k  b a s s e t t \" } ,  { \" c r e d i t _ i d \" :  \" 5 3 9 c 4 9 0 3 c 3 a 3 6 8 6 5 3 d 0 0 1 a 7 4 \" ,  \" d e p a r t m e n t \" :  \" a r t \" ,  \" g e n d e r \" :  0 ,  \" i d \" :  1 3 2 5 9 6 ,  \" j o b \" :  \" a r t  d i r e c t i o n \" ,  \" n a m e \" :  \" j i l l  c o r m a c k \" } ,  { \" c r e d i t _ i d \" :  \" 5 3 9 c 4 9 6 7 c 3 a 3 6 8 6 5 3 d 0 0 1 a 9 4 \" ,  \" d e p a r t m e n t \" :  \" a r t \" ,  \" g e n d e r \" :  0 ,  \" i d \" :  1 3 2 6 0 4 ,  \" j o b \" :  \" a r t  d i r e c t i o n \" ,  \" n a m e \" :  \" a n d y  m c l a r e n \" } ,  { \" c r e d i t _ i d \" :  \" 5 2 f e 4 8 0 0 9 2 5 1 4 1 6 c 7 5 0 a c a 4 5 \" ,  \" d e p a r t m e n t \" :  \" c r e w \" ,  \" g e n d e r \" :  0 ,  \" i d \" :  2 3 6 6 9 6 ,  \" j o b \" :  \" m o t i o n  c a p t u r e  a r t i s t \" ,  \" n a m e \" :  \" t e r r y  n o t a r y \" } ,  { \" c r e d i t _ i d \" :  \" 5 4 9 5 9 e 0 2 c 3 a 3 6 8 0 f c 6 0 0 2 7 d 2 \" ,  \" d e p a r t m e n t \" :  \" c r e w \" ,  \" g e n d e r \" :  2 ,  \" i d \" :  9 5 6 1 9 8 ,  \" j o b \" :  \" s t u n t  c o o r d i n a t o r \" ,  \" n a m e \" :  \" g a r r e t t  w a r r e n \" } ,  { \" c r e d i t _ i d \" :  \" 5 4 9 5 9 c a 3 c 3 a 3 6 8 6 a e 3 0 0 4 3 8 c \" ,  \" d e p a r t m e n t \" :  \" v i s u a l  e f f e c t s \" ,  \" g e n d e r \" :  2 ,  \" i d \" :  9 5 7 8 7 4 ,  \" j o b \" :  \" v i s u a l  e f f e c t s  s u p e r v i s o r \" ,  \" n a m e \" :  \" j o n a t h a n  r o t h b a r t \" } ,  { \" c r e d i t _ i d \" :  \" 5 7 0 b 6 f 5 1 9 2 5 1 4 1 2 c 7 4 0 0 1 b 2 f \" ,  \" d e p a r t m e n t \" :  \" a r t \" ,  \" g e n d e r \" :  0 ,  \" i d \" :  9 5 7 8 8 9 ,  \" j o b \" :  \" s u p e r v i s i n g  a r t  d i r e c t o r \" ,  \" n a m e \" :  \" s t e f a n  d e c h a n t \" } ,  { \" c r e d i t _ i d \" :  \" 5 7 0 b 6 f 6 2 c 3 a 3 6 8 0 b 7 7 0 0 7 4 6 0 \" ,  \" d e p a r t m e n t \" :  \" a r t \" ,  \" g e n d e r \" :  2 ,  \" i d \" :  9 5 9 5 5 5 ,  \" j o b \" :  \" s u p e r v i s i n g  a r t  d i r e c t o r \" ,  \" n a m e \" :  \" t o d d  c h e r n i a w s k y \" } ,  { \" c r e d i t _ i d \" :  \" 5 3 9 c 4 a 3 a c 3 a 3 6 8 1 0 d a 0 0 2 1 c c \" ,  \" d e p a r t m e n t \" :  \" p r o d u c t i o n \" ,  \" g e n d e r \" :  0 ,  \" i d \" :  1 0 1 6 1 7 7 ,  \" j o b \" :  \" c a s t i n g \" ,  \" n a m e \" :  \" m i r a n d a  r i v e r s \" } ,  { \" c r e d i t _ i d \" :  \" 5 3 9 c 4 8 2 c c 3 a 3 6 8 1 0 c 1 0 0 2 0 6 2 \" ,  \" d e p a r t m e n t \" :  \" a r t \" ,  \" g e n d e r \" :  0 ,  \" i d \" :  1 0 3 2 5 3 6 ,  \" j o b \" :  \" p r o d u c t i o n  d e s i g n \" ,  \" n a m e \" :  \" r o b e r t  s t r o m b e r g \" } ,  { \" c r e d i t _ i d \" :  \" 5 3 9 c 4 b 6 5 c 3 a 3 6 8 1 0 c 9 0 0 2 1 2 5 \" ,  \" d e p a r t m e n t \" :  \" c o s t u m e  &  m a k e - u p \" ,  \" g e n d e r \" :  2 ,  \" i d \" :  1 0 7 1 6 8 0 ,  \" j o b \" :  \" c o s t u m e  d e s i g n \" ,  \" n a m e \" :  \" j o h n  h a r d i n g \" } ,  { \" c r e d i t _ i d \" :  \" 5 4 9 5 9 e 6 6 9 2 5 1 4 1 3 0 f c 0 0 2 e 4 e \" ,  \" d e p a r t m e n t \" :  \" c a m e r a \" ,  \" g e n d e r \" :  0 ,  \" i d \" :  1 1 7 7 3 6 4 ,  \" j o b \" :  \" s t e a d i c a m  o p e r a t o r \" ,  \" n a m e \" :  \" r o b e r t o  d e  a n g e l i s \" } ,  { \" c r e d i t _ i d \" :  \" 5 3 9 c 4 9 f 1 c 3 a 3 6 8 6 5 3 d 0 0 1 a a c \" ,  \" d e p a r t m e n t \" :  \" c o s t u m e  &  m a k e - u p \" ,  \" g e n d e r \" :  2 ,  \" i d \" :  1 2 0 2 8 5 0 ,  \" j o b \" :  \" m a k e u p  d e p a r t m e n t  h e a d \" ,  \" n a m e \" :  \" m i k e  s m i t h s o n \" } ,  { \" c r e d i t _ i d \" :  \" 5 4 9 5 9 9 9 e c 3 a 3 6 8 6 a e 1 0 0 4 6 0 c \" ,  \" d e p a r t m e n t \" :  \" v i s u a l  e f f e c t s \" ,  \" g e n d e r \" :  0 ,  \" i d \" :  1 2 0 4 6 6 8 ,  \" j o b \" :  \" v i s u a l  e f f e c t s  p r o d u c e r \" ,  \" n a m e \" :  \" a l a i n  l a l a n n e \" } ,  { \" c r e d i t _ i d \" :  \" 5 4 9 5 9 c d f c 3 a 3 6 8 1 1 5 3 0 0 2 7 2 9 \" ,  \" d e p a r t m e n t \" :  \" v i s u a l  e f f e c t s \" ,  \" g e n d e r \" :  0 ,  \" i d \" :  1 2 0 6 4 1 0 ,  \" j o b \" :  \" v i s u a l  e f f e c t s  s u p e r v i s o r \" ,  \" n a m e \" :  \" l u c a s  s a l t o n \" } ,  { \" c r e d i t _ i d \" :  \" 5 4 9 5 9 6 2 3 9 2 5 1 4 1 7 a 8 1 0 0 1 e a e \" ,  \" d e p a r t m e n t \" :  \" c r e w \" ,  \" g e n d e r \" :  0 ,  \" i d \" :  1 2 3 4 2 6 6 ,  \" j o b \" :  \" p o s t  p r o d u c t i o n  s u p e r v i s o r \" ,  \" n a m e \" :  \" j a n a c e  t a s h j i a n \" } ,  { \" c r e d i t _ i d \" :  \" 5 4 9 5 9 c 8 5 9 2 5 1 4 1 6 e 1 e 0 0 3 e f e \" ,  \" d e p a r t m e n t \" :  \" v i s u a l  e f f e c t s \" ,  \" g e n d e r \" :  0 ,  \" i d \" :  1 2 7 1 9 3 2 ,  \" j o b \" :  \" v i s u a l  e f f e c t s  s u p e r v i s o r \" ,  \" n a m e \" :  \" s t e p h e n  r o s e n b a u m \" } ,  { \" c r e d i t _ i d \" :  \" 5 5 9 2 a f 2 8 c 3 a 3 6 8 7 7 5 a 0 0 1 0 5 f \" ,  \" d e p a r t m e n t \" :  \" c o s t u m e  &  m a k e - u p \" ,  \" g e n d e r \" :  0 ,  \" i d \" :  1 3 1 0 0 6 4 ,  \" j o b \" :  \" m a k e u p  a r t i s t \" ,  \" n a m e \" :  \" f r a n k i e  k a r e n a \" } ,  { \" c r e d i t _ i d \" :  \" 5 3 9 c 4 a d f c 3 a 3 6 8 1 0 e 3 0 0 2 0 3 b \" ,  \" d e p a r t m e n t \" :  \" c o s t u m e  &  m a k e - u p \" ,  \" g e n d e r \" :  1 ,  \" i d \" :  1 3 1 9 8 4 4 ,  \" j o b \" :  \" c o s t u m e  s u p e r v i s o r \" ,  \" n a m e \" :  \" l i s a  l o v a a s \" } ,  { \" c r e d i t _ i d \" :  \" 5 4 9 5 9 b 5 7 9 2 5 1 4 1 6 e 2 b 0 0 4 3 7 1 \" ,  \" d e p a r t m e n t \" :  \" v i s u a l  e f f e c t s \" ,  \" g e n d e r \" :  0 ,  \" i d \" :  1 3 2 7 0 2 8 ,  \" j o b \" :  \" v i s u a l  e f f e c t s  s u p e r v i s o r \" ,  \" n a m e \" :  \" j o n a t h a n  f a w k n e r \" } ,  { \" c r e d i t _ i d \" :  \" 5 3 9 c 4 8 a 7 c 3 a 3 6 8 1 0 b 5 0 0 1 f a 7 \" ,  \" d e p a r t m e n t \" :  \" a r t \" ,  \" g e n d e r \" :  0 ,  \" i d \" :  1 3 3 0 5 6 1 ,  \" j o b \" :  \" a r t  d i r e c t i o n \" ,  \" n a m e \" :  \" r o b e r t  b a v i n \" } ,  { \" c r e d i t _ i d \" :  \" 5 3 9 c 4 a 7 1 c 3 a 3 6 8 1 0 d a 0 0 2 1 e 0 \" ,  \" d e p a r t m e n t \" :  \" c o s t u m e  &  m a k e - u p \" ,  \" g e n d e r \" :  0 ,  \" i d \" :  1 3 3 0 5 6 7 ,  \" j o b \" :  \" c o s t u m e  s u p e r v i s o r \" ,  \" n a m e \" :  \" a n t h o n y  a l m a r a z \" } ,  { \" c r e d i t _ i d \" :  \" 5 3 9 c 4 a 8 a c 3 a 3 6 8 1 0 b a 0 0 2 1 e 4 \" ,  \" d e p a r t m e n t \" :  \" c o s t u m e  &  m a k e - u p \" ,  \" g e n d e r \" :  0 ,  \" i d \" :  1 3 3 0 5 7 0 ,  \" j o b \" :  \" c o s t u m e  s u p e r v i s o r \" ,  \" n a m e \" :  \" c a r o l y n  m .  f e n t o n \" } ,  { \" c r e d i t _ i d \" :  \" 5 3 9 c 4 a b 6 c 3 a 3 6 8 1 0 d a 0 0 2 1 f 0 \" ,  \" d e p a r t m e n t \" :  \" c o s t u m e  &  m a k e - u p \" ,  \" g e n d e r \" :  0 ,  \" i d \" :  1 3 3 0 5 7 4 ,  \" j o b \" :  \" c o s t u m e  s u p e r v i s o r \" ,  \" n a m e \" :  \" b e t h  k o e n i g s b e r g \" } ,  { \" c r e d i t _ i d \" :  \" 5 4 4 9 1 a b 7 0 e 0 a 2 6 7 4 8 0 0 0 1 b a 2 \" ,  \" d e p a r t m e n t \" :  \" a r t \" ,  \" g e n d e r \" :  0 ,  \" i d \" :  1 3 3 6 1 9 1 ,  \" j o b \" :  \" s e t  d e s i g n e r \" ,  \" n a m e \" :  \" s a m  p a g e \" } ,  { \" c r e d i t _ i d \" :  \" 5 4 4 9 1 9 d 9 c 3 a 3 6 8 0 f c 3 0 0 1 8 b d \" ,  \" d e p a r t m e n t \" :  \" a r t \" ,  \" g e n d e r \" :  0 ,  \" i d \" :  1 3 3 9 4 4 1 ,  \" j o b \" :  \" s e t  d e s i g n e r \" ,  \" n a m e \" :  \" t e x  k a d o n a g a \" } ,  { \" c r e d i t _ i d \" :  \" 5 4 4 9 1 c f 5 0 e 0 a 2 6 7 4 8 3 0 0 1 b 0 c \" ,  \" d e p a r t m e n t \" :  \" e d i t i n g \" ,  \" g e n d e r \" :  0 ,  \" i d \" :  1 3 5 2 4 2 2 ,  \" j o b \" :  \" d i a l o g u e  e d i t o r \" ,  \" n a m e \" :  \" k i m  f o s c a t o \" } ,  { \" c r e d i t _ i d \" :  \" 5 4 4 9 1 9 f 4 0 e 0 a 2 6 7 4 8 c 0 0 1 b 0 9 \" ,  \" d e p a r t m e n t \" :  \" a r t \" ,  \" g e n d e r \" :  0 ,  \" i d \" :  1 3 5 2 9 6 2 ,  \" j o b \" :  \" s e t  d e s i g n e r \" ,  \" n a m e \" :  \" t a m m y  s .  l e e \" } ,  { \" c r e d i t _ i d \" :  \" 5 4 9 5 a 1 1 5 c 3 a 3 6 8 0 f f 5 0 0 2 d 7 1 \" ,  \" d e p a r t m e n t \" :  \" c r e w \" ,  \" g e n d e r \" :  0 ,  \" i d \" :  1 3 5 7 0 7 0 ,  \" j o b \" :  \" t r a n s p o r t a t i o n  c o o r d i n a t o r \" ,  \" n a m e \" :  \" d e n n y  c a i r a \" } ,  { \" c r e d i t _ i d \" :  \" 5 4 9 5 a 1 2 f 9 2 5 1 4 1 3 0 f c 0 0 2 e 9 4 \" ,  \" d e p a r t m e n t \" :  \" c r e w \" ,  \" g e n d e r \" :  0 ,  \" i d \" :  1 3 5 7 0 7 1 ,  \" j o b \" :  \" t r a n s p o r t a t i o n  c o o r d i n a t o r \" ,  \" n a m e \" :  \" j a m e s  w a i t k u s \" } ,  { \" c r e d i t _ i d \" :  \" 5 4 9 5 9 7 6 f c 3 a 3 6 8 1 1 5 3 0 0 2 6 b 0 \" ,  \" d e p a r t m e n t \" :  \" s o u n d \" ,  \" g e n d e r \" :  0 ,  \" i d \" :  1 3 6 0 1 0 3 ,  \" j o b \" :  \" s u p e r v i s i n g  s o u n d  e d i t o r \" ,  \" n a m e \" :  \" a d d i s o n  t e a g u e \" } ,  { \" c r e d i t _ i d \" :  \" 5 4 4 9 1 8 3 7 c 3 a 3 6 8 0 f b 1 0 0 1 c 5 a \" ,  \" d e p a r t m e n t \" :  \" a r t \" ,  \" g e n d e r \" :  2 ,  \" i d \" :  1 3 7 6 8 8 7 ,  \" j o b \" :  \" s e t  d e s i g n e r \" ,  \" n a m e \" :  \" c .  s c o t t  b a k e r \" } ,  { \" c r e d i t _ i d \" :  \" 5 4 4 9 1 8 7 8 c 3 a 3 6 8 0 f b 4 0 0 1 c 9 d \" ,  \" d e p a r t m e n t \" :  \" a r t \" ,  \" g e n d e r \" :  0 ,  \" i d \" :  1 3 7 6 8 8 8 ,  \" j o b \" :  \" s e t  d e s i g n e r \" ,  \" n a m e \" :  \" l u k e  c a s k a \" } ,  { \" c r e d i t _ i d \" :  \" 5 4 4 9 1 8 d a c 3 a 3 6 8 0 f a 5 0 0 1 a e 0 \" ,  \" d e p a r t m e n t \" :  \" a r t \" ,  \" g e n d e r \" :  0 ,  \" i d \" :  1 3 7 6 8 8 9 ,  \" j o b \" :  \" s e t  d e s i g n e r \" ,  \" n a m e \" :  \" d a v i d  c h o w \" } ,  { \" c r e d i t _ i d \" :  \" 5 4 4 9 1 9 1 1 0 e 0 a 2 6 7 4 8 6 0 0 1 b 6 8 \" ,  \" d e p a r t m e n t \" :  \" a r t \" ,  \" g e n d e r \" :  0 ,  \" i d \" :  1 3 7 6 8 9 0 ,  \" j o b \" :  \" s e t  d e s i g n e r \" ,  \" n a m e \" :  \" j o n a t h a n  d y e r \" } ,  { \" c r e d i t _ i d \" :  \" 5 4 4 9 1 9 6 7 c 3 a 3 6 8 0 f a a 0 0 1 b 5 e \" ,  \" d e p a r t m e n t \" :  \" a r t \" ,  \" g e n d e r \" :  0 ,  \" i d \" :  1 3 7 6 8 9 1 ,  \" j o b \" :  \" s e t  d e s i g n e r \" ,  \" n a m e \" :  \" j o s e p h  h i u r a \" } ,  { \" c r e d i t _ i d \" :  \" 5 4 4 9 1 9 9 7 c 3 a 3 6 8 0 f b 1 0 0 1 c 8 a \" ,  \" d e p a r t m e n t \" :  \" a r t \" ,  \" g e n d e r \" :  0 ,  \" i d \" :  1 3 7 6 8 9 2 ,  \" j o b \" :  \" a r t  d e p a r t m e n t  c o o r d i n a t o r \" ,  \" n a m e \" :  \" r e b e c c a  j e l l i e \" } ,  { \" c r e d i t _ i d \" :  \" 5 4 4 9 1 9 b a 0 e 0 a 2 6 7 4 8 f 0 0 1 b 4 2 \" ,  \" d e p a r t m e n t \" :  \" a r t \" ,  \" g e n d e r \" :  0 ,  \" i d \" :  1 3 7 6 8 9 3 ,  \" j o b \" :  \" s e t  d e s i g n e r \" ,  \" n a m e \" :  \" r o b e r t  a n d r e w  j o h n s o n \" } ,  { \" c r e d i t _ i d \" :  \" 5 4 4 9 1 b 1 d c 3 a 3 6 8 0 f a a 0 0 1 b 8 c \" ,  \" d e p a r t m e n t \" :  \" a r t \" ,  \" g e n d e r \" :  0 ,  \" i d \" :  1 3 7 6 8 9 5 ,  \" j o b \" :  \" a s s i s t a n t  a r t  d i r e c t o r \" ,  \" n a m e \" :  \" m i k e  s t a s s i \" } ,  { \" c r e d i t _ i d \" :  \" 5 4 4 9 1 b 7 9 c 3 a 3 6 8 0 f b b 0 0 1 8 2 6 \" ,  \" d e p a r t m e n t \" :  \" a r t \" ,  \" g e n d e r \" :  0 ,  \" i d \" :  1 3 7 6 8 9 7 ,  \" j o b \" :  \" c o n s t r u c t i o n  c o o r d i n a t o r \" ,  \" n a m e \" :  \" j o h n  v i l l a r i n o \" } ,  { \" c r e d i t _ i d \" :  \" 5 4 4 9 1 b a e c 3 a 3 6 8 0 f b 4 0 0 1 c e 6 \" ,  \" d e p a r t m e n t \" :  \" a r t \" ,  \" g e n d e r \" :  2 ,  \" i d \" :  1 3 7 6 8 9 8 ,  \" j o b \" :  \" a s s i s t a n t  a r t  d i r e c t o r \" ,  \" n a m e \" :  \" j e f f r e y  w i s n i e w s k i \" } ,  { \" c r e d i t _ i d \" :  \" 5 4 4 9 1 d 2 f c 3 a 3 6 8 0 f b 4 0 0 1 d 0 7 \" ,  \" d e p a r t m e n t \" :  \" e d i t i n g \" ,  \" g e n d e r \" :  0 ,  \" i d \" :  1 3 7 6 8 9 9 ,  \" j o b \" :  \" d i a l o g u e  e d i t o r \" ,  \" n a m e \" :  \" c h e r y l  n a r d i \" } ,  { \" c r e d i t _ i d \" :  \" 5 4 4 9 1 d 8 6 c 3 a 3 6 8 0 f a 5 0 0 1 b 2 f \" ,  \" d e p a r t m e n t \" :  \" e d i t i n g \" ,  \" g e n d e r \" :  0 ,  \" i d \" :  1 3 7 6 9 0 1 ,  \" j o b \" :  \" d i a l o g u e  e d i t o r \" ,  \" n a m e \" :  \" m a r s h a l l  w i n n \" } ,  { \" c r e d i t _ i d \" :  \" 5 4 4 9 1 d 9 d c 3 a 3 6 8 0 f a a 0 0 1 b b 0 \" ,  \" d e p a r t m e n t \" :  \" s o u n d \" ,  \" g e n d e r \" :  0 ,  \" i d \" :  1 3 7 6 9 0 2 ,  \" j o b \" :  \" s u p e r v i s i n g  s o u n d  e d i t o r \" ,  \" n a m e \" :  \" g w e n d o l y n  y a t e s  w h i t t l e \" } ,  { \" c r e d i t _ i d \" :  \" 5 4 4 9 1 d c 1 0 e 0 a 2 6 7 4 8 6 0 0 1 b c e \" ,  \" d e p a r t m e n t \" :  \" s o u n d \" ,  \" g e n d e r \" :  0 ,  \" i d \" :  1 3 7 6 9 0 3 ,  \" j o b \" :  \" s o u n d  r e - r e c o r d i n g  m i x e r \" ,  \" n a m e \" :  \" w i l l i a m  s t e i n \" } ,  { \" c r e d i t _ i d \" :  \" 5 4 4 9 1 f 5 0 0 e 0 a 2 6 7 4 7 c 0 0 1 c 0 7 \" ,  \" d e p a r t m e n t \" :  \" c r e w \" ,  \" g e n d e r \" :  0 ,  \" i d \" :  1 3 7 6 9 0 9 ,  \" j o b \" :  \" c h o r e o g r a p h e r \" ,  \" n a m e \" :  \" l u l a  w a s h i n g t o n \" } ,  { \" c r e d i t _ i d \" :  \" 5 4 9 5 9 9 2 3 9 2 5 1 4 1 2 c 4 e 0 0 2 a 2 e \" ,  \" d e p a r t m e n t \" :  \" v i s u a l  e f f e c t s \" ,  \" g e n d e r \" :  0 ,  \" i d \" :  1 3 9 1 6 9 2 ,  \" j o b \" :  \" v i s u a l  e f f e c t s  p r o d u c e r \" ,  \" n a m e \" :  \" c h r i s  d e l  c o n t e \" } ,  { \" c r e d i t _ i d \" :  \" 5 4 9 5 9 d 5 4 c 3 a 3 6 8 3 1 b 8 0 0 1 d 9 a \" ,  \" d e p a r t m e n t \" :  \" v i s u a l  e f f e c t s \" ,  \" g e n d e r \" :  2 ,  \" i d \" :  1 3 9 1 6 9 5 ,  \" j o b \" :  \" v i s u a l  e f f e c t s  s u p e r v i s o r \" ,  \" n a m e \" :  \" r .  c h r i s t o p h e r  w h i t e \" } ,  { \" c r e d i t _ i d \" :  \" 5 4 9 5 9 b d f 9 2 5 1 4 1 2 c 4 e 0 0 2 a 6 6 \" ,  \" d e p a r t m e n t \" :  \" v i s u a l  e f f e c t s \" ,  \" g e n d e r \" :  0 ,  \" i d \" :  1 3 9 4 0 7 0 ,  \" j o b \" :  \" v i s u a l  e f f e c t s  s u p e r v i s o r \" ,  \" n a m e \" :  \" d a n  l e m m o n \" } ,  { \" c r e d i t _ i d \" :  \" 5 4 9 5 9 7 1 d 9 2 5 1 4 1 3 2 e d 0 0 2 9 2 2 \" ,  \" d e p a r t m e n t \" :  \" s o u n d \" ,  \" g e n d e r \" :  0 ,  \" i d \" :  1 3 9 4 1 2 9 ,  \" j o b \" :  \" s o u n d  e f f e c t s  e d i t o r \" ,  \" n a m e \" :  \" t i m  n i e l s e n \" } ,  { \" c r e d i t _ i d \" :  \" 5 5 9 2 b 2 5 7 9 2 5 1 4 1 5 2 c c 0 0 1 1 a a \" ,  \" d e p a r t m e n t \" :  \" c r e w \" ,  \" g e n d e r \" :  0 ,  \" i d \" :  1 3 9 4 2 8 6 ,  \" j o b \" :  \" c g  s u p e r v i s o r \" ,  \" n a m e \" :  \" m i c h a e l  m u l h o l l a n d \" } ,  { \" c r e d i t _ i d \" :  \" 5 4 9 5 9 a 3 2 9 2 5 1 4 1 6 e 2 b 0 0 4 3 5 5 \" ,  \" d e p a r t m e n t \" :  \" c r e w \" ,  \" g e n d e r \" :  0 ,  \" i d \" :  1 3 9 4 7 5 0 ,  \" j o b \" :  \" v i s u a l  e f f e c t s  e d i t o r \" ,  \" n a m e \" :  \" t h o m a s  n i t t m a n n \" } ,  { \" c r e d i t _ i d \" :  \" 5 4 9 5 9 d 6 d c 3 a 3 6 8 6 a e 9 0 0 4 4 0 1 \" ,  \" d e p a r t m e n t \" :  \" v i s u a l  e f f e c t s \" ,  \" g e n d e r \" :  0 ,  \" i d \" :  1 3 9 4 7 5 5 ,  \" j o b \" :  \" v i s u a l  e f f e c t s  s u p e r v i s o r \" ,  \" n a m e \" :  \" e d s o n  w i l l i a m s \" } ,  { \" c r e d i t _ i d \" :  \" 5 4 9 5 a 0 8 f c 3 a 3 6 8 6 a e 3 0 0 4 4 1 c \" ,  \" d e p a r t m e n t \" :  \" e d i t i n g \" ,  \" g e n d e r \" :  0 ,  \" i d \" :  1 3 9 4 9 5 3 ,  \" j o b \" :  \" d i g i t a l  i n t e r m e d i a t e \" ,  \" n a m e \" :  \" c h r i s t i n e  c a r r \" } ,  { \" c r e d i t _ i d \" :  \" 5 5 4 0 2 d 6 5 9 2 5 1 4 1 3 d 6 d 0 0 0 2 4 9 \" ,  \" d e p a r t m e n t \" :  \" v i s u a l  e f f e c t s \" ,  \" g e n d e r \" :  0 ,  \" i d \" :  1 3 9 5 2 6 9 ,  \" j o b \" :  \" v i s u a l  e f f e c t s  s u p e r v i s o r \" ,  \" n a m e \" :  \" j o h n  b r u n o \" } ,  { \" c r e d i t _ i d \" :  \" 5 4 9 5 9 e 7 b 9 2 5 1 4 1 6 e 1 e 0 0 3 f 3 e \" ,  \" d e p a r t m e n t \" :  \" c a m e r a \" ,  \" g e n d e r \" :  0 ,  \" i d \" :  1 3 9 8 9 7 0 ,  \" j o b \" :  \" s t e a d i c a m  o p e r a t o r \" ,  \" n a m e \" :  \" d a v i d  e m m e r i c h s \" } ,  { \" c r e d i t _ i d \" :  \" 5 4 9 5 9 7 3 4 c 3 a 3 6 8 6 a e 1 0 0 4 5 e 0 \" ,  \" d e p a r t m e n t \" :  \" s o u n d \" ,  \" g e n d e r \" :  0 ,  \" i d \" :  1 4 0 0 9 0 6 ,  \" j o b \" :  \" s o u n d  e f f e c t s  e d i t o r \" ,  \" n a m e \" :  \" c h r i s t o p h e r  s c a r a b o s i o \" } ,  { \" c r e d i t _ i d \" :  \" 5 4 9 5 9 5 d d 9 2 5 1 4 1 3 0 f c 0 0 2 d 7 9 \" ,  \" d e p a r t m e n t \" :  \" p r o d u c t i o n \" ,  \" g e n d e r \" :  0 ,  \" i d \" :  1 4 0 1 7 8 4 ,  \" j o b \" :  \" p r o d u c t i o n  s u p e r v i s o r \" ,  \" n a m e \" :  \" j e n n i f e r  t e v e s \" } ,  { \" c r e d i t _ i d \" :  \" 5 4 9 5 9 6 0 0 9 2 5 1 4 1 3 a f 7 0 0 2 8 c c \" ,  \" d e p a r t m e n t \" :  \" p r o d u c t i o n \" ,  \" g e n d e r \" :  0 ,  \" i d \" :  1 4 0 1 7 8 5 ,  \" j o b \" :  \" p r o d u c t i o n  m a n a g e r \" ,  \" n a m e \" :  \" b r i g i t t e  y o r k e \" } ,  { \" c r e d i t _ i d \" :  \" 5 4 9 5 9 6 e 8 9 2 5 1 4 1 3 0 f c 0 0 2 d 9 9 \" ,  \" d e p a r t m e n t \" :  \" s o u n d \" ,  \" g e n d e r \" :  0 ,  \" i d \" :  1 4 0 1 7 8 6 ,  \" j o b \" :  \" s o u n d  e f f e c t s  e d i t o r \" ,  \" n a m e \" :  \" k e n  f i s c h e r \" } ,  { \" c r e d i t _ i d \" :  \" 5 4 9 5 9 8 2 2 9 2 5 1 4 1 2 c 4 e 0 0 2 a 1 c \" ,  \" d e p a r t m e n t \" :  \" c r e w \" ,  \" g e n d e r \" :  0 ,  \" i d \" :  1 4 0 1 7 8 7 ,  \" j o b \" :  \" s p e c i a l  e f f e c t s  c o o r d i n a t o r \" ,  \" n a m e \" :  \" i a i n  h u t t o n \" } ,  { \" c r e d i t _ i d \" :  \" 5 4 9 5 9 8 3 4 9 2 5 1 4 1 6 e 2 b 0 0 4 3 2 b \" ,  \" d e p a r t m e n t \" :  \" c r e w \" ,  \" g e n d e r \" :  0 ,  \" i d \" :  1 4 0 1 7 8 8 ,  \" j o b \" :  \" s p e c i a l  e f f e c t s  c o o r d i n a t o r \" ,  \" n a m e \" :  \" s t e v e  i n g r a m \" } ,  { \" c r e d i t _ i d \" :  \" 5 4 9 5 9 9 0 5 c 3 a 3 6 8 6 a e 3 0 0 4 3 2 4 \" ,  \" d e p a r t m e n t \" :  \" v i s u a l  e f f e c t s \" ,  \" g e n d e r \" :  0 ,  \" i d \" :  1 4 0 1 7 8 9 ,  \" j o b \" :  \" v i s u a l  e f f e c t s  p r o d u c e r \" ,  \" n a m e \" :  \" j o y c e  c o x \" } ,  { \" c r e d i t _ i d \" :  \" 5 4 9 5 9 9 4 b 9 2 5 1 4 1 3 2 e d 0 0 2 9 5 1 \" ,  \" d e p a r t m e n t \" :  \" v i s u a l  e f f e c t s \" ,  \" g e n d e r \" :  0 ,  \" i d \" :  1 4 0 1 7 9 0 ,  \" j o b \" :  \" v i s u a l  e f f e c t s  p r o d u c e r \" ,  \" n a m e \" :  \" j e n n y  f o s t e r \" } ,  { \" c r e d i t _ i d \" :  \" 5 4 9 5 9 9 c b c 3 a 3 6 8 6 a e 1 0 0 4 6 1 3 \" ,  \" d e p a r t m e n t \" :  \" c r e w \" ,  \" g e n d e r \" :  0 ,  \" i d \" :  1 4 0 1 7 9 1 ,  \" j o b \" :  \" v i s u a l  e f f e c t s  e d i t o r \" ,  \" n a m e \" :  \" c h r i s t o p h e r  m a r i n o \" } ,  { \" c r e d i t _ i d \" :  \" 5 4 9 5 9 9 f 2 c 3 a 3 6 8 6 a e 1 0 0 4 6 1 e \" ,  \" d e p a r t m e n t \" :  \" c r e w \" ,  \" g e n d e r \" :  0 ,  \" i d \" :  1 4 0 1 7 9 2 ,  \" j o b \" :  \" v i s u a l  e f f e c t s  e d i t o r \" ,  \" n a m e \" :  \" j i m  m i l t o n \" } ,  { \" c r e d i t _ i d \" :  \" 5 4 9 5 9 a 5 1 c 3 a 3 6 8 6 a f 3 0 0 3 e b 5 \" ,  \" d e p a r t m e n t \" :  \" v i s u a l  e f f e c t s \" ,  \" g e n d e r \" :  0 ,  \" i d \" :  1 4 0 1 7 9 3 ,  \" j o b \" :  \" v i s u a l  e f f e c t s  p r o d u c e r \" ,  \" n a m e \" :  \" c y n d i  o c h s \" } ,  { \" c r e d i t _ i d \" :  \" 5 4 9 5 9 a 7 c c 3 a 3 6 8 1 1 5 3 0 0 2 6 f 4 \" ,  \" d e p a r t m e n t \" :  \" c r e w \" ,  \" g e n d e r \" :  0 ,  \" i d \" :  1 4 0 1 7 9 4 ,  \" j o b \" :  \" v i s u a l  e f f e c t s  e d i t o r \" ,  \" n a m e \" :  \" l u c a s  p u t n a m \" } ,  { \" c r e d i t _ i d \" :  \" 5 4 9 5 9 b 9 1 c 3 a 3 6 8 0 f f 5 0 0 2 c b 4 \" ,  \" d e p a r t m e n t \" :  \" v i s u a l  e f f e c t s \" ,  \" g e n d e r \" :  0 ,  \" i d \" :  1 4 0 1 7 9 5 ,  \" j o b \" :  \" v i s u a l  e f f e c t s  s u p e r v i s o r \" ,  \" n a m e \" :  \" a n t h o n y  \\' m a x \\'  i v i n s \" } ,  { \" c r e d i t _ i d \" :  \" 5 4 9 5 9 b b 6 9 2 5 1 4 1 2 c 4 e 0 0 2 a 5 f \" ,  \" d e p a r t m e n t \" :  \" v i s u a l  e f f e c t s \" ,  \" g e n d e r \" :  0 ,  \" i d \" :  1 4 0 1 7 9 6 ,  \" j o b \" :  \" v i s u a l  e f f e c t s  s u p e r v i s o r \" ,  \" n a m e \" :  \" j o h n  k n o l l \" } ,  { \" c r e d i t _ i d \" :  \" 5 4 9 5 9 c b b c 3 a 3 6 8 6 a e 3 0 0 4 3 9 1 \" ,  \" d e p a r t m e n t \" :  \" v i s u a l  e f f e c t s \" ,  \" g e n d e r \" :  2 ,  \" i d \" :  1 4 0 1 7 9 9 ,  \" j o b \" :  \" v i s u a l  e f f e c t s  s u p e r v i s o r \" ,  \" n a m e \" :  \" e r i c  s a i n d o n \" } ,  { \" c r e d i t _ i d \" :  \" 5 4 9 5 9 d 0 6 c 3 a 3 6 8 6 a e 9 0 0 4 3 f 6 \" ,  \" d e p a r t m e n t \" :  \" v i s u a l  e f f e c t s \" ,  \" g e n d e r \" :  0 ,  \" i d \" :  1 4 0 1 8 0 0 ,  \" j o b \" :  \" v i s u a l  e f f e c t s  s u p e r v i s o r \" ,  \" n a m e \" :  \" w a y n e  s t a b l e s \" } ,  { \" c r e d i t _ i d \" :  \" 5 4 9 5 9 d 2 5 9 2 5 1 4 1 6 e 1 e 0 0 3 f 1 1 \" ,  \" d e p a r t m e n t \" :  \" v i s u a l  e f f e c t s \" ,  \" g e n d e r \" :  0 ,  \" i d \" :  1 4 0 1 8 0 1 ,  \" j o b \" :  \" v i s u a l  e f f e c t s  s u p e r v i s o r \" ,  \" n a m e \" :  \" d a v i d  s t i n n e t t \" } ,  { \" c r e d i t _ i d \" :  \" 5 4 9 5 9 d b 4 9 2 5 1 4 1 3 a f 7 0 0 2 9 7 5 \" ,  \" d e p a r t m e n t \" :  \" v i s u a l  e f f e c t s \" ,  \" g e n d e r \" :  0 ,  \" i d \" :  1 4 0 1 8 0 3 ,  \" j o b \" :  \" v i s u a l  e f f e c t s  s u p e r v i s o r \" ,  \" n a m e \" :  \" g u y  w i l l i a m s \" } ,  { \" c r e d i t _ i d \" :  \" 5 4 9 5 9 d e 4 c 3 a 3 6 8 1 1 5 3 0 0 2 7 5 0 \" ,  \" d e p a r t m e n t \" :  \" c r e w \" ,  \" g e n d e r \" :  0 ,  \" i d \" :  1 4 0 1 8 0 4 ,  \" j o b \" :  \" s t u n t  c o o r d i n a t o r \" ,  \" n a m e \" :  \" s t u a r t  t h o r p \" } ,  { \" c r e d i t _ i d \" :  \" 5 4 9 5 9 e f 2 c 3 a 3 6 8 0 f c 6 0 0 2 7 f 2 \" ,  \" d e p a r t m e n t \" :  \" l i g h t i n g \" ,  \" g e n d e r \" :  0 ,  \" i d \" :  1 4 0 1 8 0 5 ,  \" j o b \" :  \" b e s t  b o y  e l e c t r i c \" ,  \" n a m e \" :  \" g i l e s  c o b u r n \" } ,  { \" c r e d i t _ i d \" :  \" 5 4 9 5 9 f 0 7 c 3 a 3 6 8 0 f c 6 0 0 2 7 f 9 \" ,  \" d e p a r t m e n t \" :  \" c a m e r a \" ,  \" g e n d e r \" :  2 ,  \" i d \" :  1 4 0 1 8 0 6 ,  \" j o b \" :  \" s t i l l  p h o t o g r a p h e r \" ,  \" n a m e \" :  \" m a r k  f e l l m a n \" } ,  { \" c r e d i t _ i d \" :  \" 5 4 9 5 9 f 4 7 c 3 a 3 6 8 1 1 5 3 0 0 2 7 7 4 \" ,  \" d e p a r t m e n t \" :  \" l i g h t i n g \" ,  \" g e n d e r \" :  0 ,  \" i d \" :  1 4 0 1 8 0 7 ,  \" j o b \" :  \" l i g h t i n g  t e c h n i c i a n \" ,  \" n a m e \" :  \" s c o t t  s p r a g u e \" } ,  { \" c r e d i t _ i d \" :  \" 5 4 9 5 9 f 8 c c 3 a 3 6 8 3 1 b 8 0 0 1 d f 2 \" ,  \" d e p a r t m e n t \" :  \" v i s u a l  e f f e c t s \" ,  \" g e n d e r \" :  0 ,  \" i d \" :  1 4 0 1 8 0 8 ,  \" j o b \" :  \" a n i m a t i o n  d i r e c t o r \" ,  \" n a m e \" :  \" j e r e m y  h o l l o b o n \" } ,  { \" c r e d i t _ i d \" :  \" 5 4 9 5 9 f a 0 c 3 a 3 6 8 3 1 b 8 0 0 1 d f b \" ,  \" d e p a r t m e n t \" :  \" v i s u a l  e f f e c t s \" ,  \" g e n d e r \" :  0 ,  \" i d \" :  1 4 0 1 8 0 9 ,  \" j o b \" :  \" a n i m a t i o n  d i r e c t o r \" ,  \" n a m e \" :  \" o r l a n d o  m e u n i e r \" } ,  { \" c r e d i t _ i d \" :  \" 5 4 9 5 9 f b 6 c 3 a 3 6 8 6 a f 3 0 0 3 f 5 4 \" ,  \" d e p a r t m e n t \" :  \" v i s u a l  e f f e c t s \" ,  \" g e n d e r \" :  0 ,  \" i d \" :  1 4 0 1 8 1 0 ,  \" j o b \" :  \" a n i m a t i o n  d i r e c t o r \" ,  \" n a m e \" :  \" t a i s u k e  t a n i m u r a \" } ,  { \" c r e d i t _ i d \" :  \" 5 4 9 5 9 f d 2 c 3 a 3 6 8 3 1 b 8 0 0 1 e 0 2 \" ,  \" d e p a r t m e n t \" :  \" c o s t u m e  &  m a k e - u p \" ,  \" g e n d e r \" :  0 ,  \" i d \" :  1 4 0 1 8 1 2 ,  \" j o b \" :  \" s e t  c o s t u m e r \" ,  \" n a m e \" :  \" l i l i a  m i s h e l  a c e v e d o \" } ,  { \" c r e d i t _ i d \" :  \" 5 4 9 5 9 f f 9 c 3 a 3 6 8 6 a e 3 0 0 4 4 0 c \" ,  \" d e p a r t m e n t \" :  \" c o s t u m e  &  m a k e - u p \" ,  \" g e n d e r \" :  0 ,  \" i d \" :  1 4 0 1 8 1 4 ,  \" j o b \" :  \" s e t  c o s t u m e r \" ,  \" n a m e \" :  \" a l e j a n d r o  m .  h e r n a n d e z \" } ,  { \" c r e d i t _ i d \" :  \" 5 4 9 5 a 0 d d c 3 a 3 6 8 6 a e 1 0 0 4 6 f e \" ,  \" d e p a r t m e n t \" :  \" e d i t i n g \" ,  \" g e n d e r \" :  0 ,  \" i d \" :  1 4 0 1 8 1 5 ,  \" j o b \" :  \" d i g i t a l  i n t e r m e d i a t e \" ,  \" n a m e \" :  \" m a r v i n  h a l l \" } ,  { \" c r e d i t _ i d \" :  \" 5 4 9 5 a 1 f 7 c 3 a 3 6 8 6 a e 3 0 0 4 4 4 3 \" ,  \" d e p a r t m e n t \" :  \" p r o d u c t i o n \" ,  \" g e n d e r \" :  0 ,  \" i d \" :  1 4 0 1 8 1 6 ,  \" j o b \" :  \" p u b l i c i s t \" ,  \" n a m e \" :  \" j u d y  a l l e y \" } ,  { \" c r e d i t _ i d \" :  \" 5 5 9 2 b 2 9 f c 3 a 3 6 8 6 9 d 1 0 0 0 0 2 f \" ,  \" d e p a r t m e n t \" :  \" c r e w \" ,  \" g e n d e r \" :  0 ,  \" i d \" :  1 4 1 8 3 8 1 ,  \" j o b \" :  \" c g  s u p e r v i s o r \" ,  \" n a m e \" :  \" m i k e  p e r r y \" } ,  { \" c r e d i t _ i d \" :  \" 5 5 9 2 b 2 3 a 9 2 5 1 4 1 5 d f 8 0 0 1 0 8 1 \" ,  \" d e p a r t m e n t \" :  \" c r e w \" ,  \" g e n d e r \" :  0 ,  \" i d \" :  1 4 2 6 8 5 4 ,  \" j o b \" :  \" c g  s u p e r v i s o r \" ,  \" n a m e \" :  \" a n d r e w  m o r l e y \" } ,  { \" c r e d i t _ i d \" :  \" 5 5 4 9 1 e 1 1 9 2 5 1 4 1 0 4 c 4 0 0 0 2 d 8 \" ,  \" d e p a r t m e n t \" :  \" a r t \" ,  \" g e n d e r \" :  0 ,  \" i d \" :  1 4 3 8 9 0 1 ,  \" j o b \" :  \" c o n c e p t u a l  d e s i g n \" ,  \" n a m e \" :  \" s e t h  e n g s t r o m \" } ,  { \" c r e d i t _ i d \" :  \" 5 5 2 5 d 5 8 0 9 2 5 1 4 1 7 2 7 6 0 0 2 b 0 6 \" ,  \" d e p a r t m e n t \" :  \" c r e w \" ,  \" g e n d e r \" :  0 ,  \" i d \" :  1 4 4 7 3 6 2 ,  \" j o b \" :  \" v i s u a l  e f f e c t s  a r t  d i r e c t o r \" ,  \" n a m e \" :  \" e r i c  o l i v e r \" } ,  { \" c r e d i t _ i d \" :  \" 5 5 4 4 2 7 c a 9 2 5 1 4 1 5 8 6 5 0 0 3 1 2 a \" ,  \" d e p a r t m e n t \" :  \" v i s u a l  e f f e c t s \" ,  \" g e n d e r \" :  0 ,  \" i d \" :  1 4 4 7 5 0 3 ,  \" j o b \" :  \" m o d e l i n g \" ,  \" n a m e \" :  \" m a t s u n e  s u z u k i \" } ,  { \" c r e d i t _ i d \" :  \" 5 5 1 9 0 6 8 8 9 2 5 1 4 1 5 a a b 0 0 1 c 8 8 \" ,  \" d e p a r t m e n t \" :  \" a r t \" ,  \" g e n d e r \" :  0 ,  \" i d \" :  1 4 4 7 5 2 4 ,  \" j o b \" :  \" a r t  d e p a r t m e n t  m a n a g e r \" ,  \" n a m e \" :  \" p a u l  t o b i n \" } ,  { \" c r e d i t _ i d \" :  \" 5 5 9 2 a f 8 4 9 2 5 1 4 1 5 2 c c 0 0 1 0 d e \" ,  \" d e p a r t m e n t \" :  \" c o s t u m e  &  m a k e - u p \" ,  \" g e n d e r \" :  0 ,  \" i d \" :  1 4 5 2 6 4 3 ,  \" j o b \" :  \" h a i r s t y l i s t \" ,  \" n a m e \" :  \" r o x a n e  g r i f f i n \" } ,  { \" c r e d i t _ i d \" :  \" 5 5 3 d 3 c 1 0 9 2 5 1 4 1 5 8 5 2 0 0 1 3 1 8 \" ,  \" d e p a r t m e n t \" :  \" l i g h t i n g \" ,  \" g e n d e r \" :  0 ,  \" i d \" :  1 4 5 3 9 3 8 ,  \" j o b \" :  \" l i g h t i n g  a r t i s t \" ,  \" n a m e \" :  \" a r u n  r a m - m o h a n \" } ,  { \" c r e d i t _ i d \" :  \" 5 5 9 2 a f 4 6 9 2 5 1 4 1 5 2 d 5 0 0 1 3 5 5 \" ,  \" d e p a r t m e n t \" :  \" c o s t u m e  &  m a k e - u p \" ,  \" g e n d e r \" :  0 ,  \" i d \" :  1 4 5 7 3 0 5 ,  \" j o b \" :  \" m a k e u p  a r t i s t \" ,  \" n a m e \" :  \" g e o r g i a  l o c k h a r t - a d a m s \" } ,  { \" c r e d i t _ i d \" :  \" 5 5 9 2 b 2 e a c 3 a 3 6 8 7 7 4 7 0 0 1 2 a 5 \" ,  \" d e p a r t m e n t \" :  \" c r e w \" ,  \" g e n d e r \" :  0 ,  \" i d \" :  1 4 6 6 0 3 5 ,  \" j o b \" :  \" c g  s u p e r v i s o r \" ,  \" n a m e \" :  \" t h r a i n  s h a d b o l t \" } ,  { \" c r e d i t _ i d \" :  \" 5 5 9 2 b 0 3 2 c 3 a 3 6 8 7 7 4 5 0 0 1 5 f 1 \" ,  \" d e p a r t m e n t \" :  \" c r e w \" ,  \" g e n d e r \" :  0 ,  \" i d \" :  1 4 8 3 2 2 0 ,  \" j o b \" :  \" c g  s u p e r v i s o r \" ,  \" n a m e \" :  \" b r a d  a l e x a n d e r \" } ,  { \" c r e d i t _ i d \" :  \" 5 5 9 2 b 0 5 5 9 2 5 1 4 1 5 2 d 8 0 0 1 2 f 6 \" ,  \" d e p a r t m e n t \" :  \" c r e w \" ,  \" g e n d e r \" :  0 ,  \" i d \" :  1 4 8 3 2 2 1 ,  \" j o b \" :  \" c g  s u p e r v i s o r \" ,  \" n a m e \" :  \" s h a d i  a l m a s s i z a d e h \" } ,  { \" c r e d i t _ i d \" :  \" 5 5 9 2 b 0 9 0 c 3 a 3 6 8 7 7 5 7 0 0 1 0 b 5 \" ,  \" d e p a r t m e n t \" :  \" c r e w \" ,  \" g e n d e r \" :  0 ,  \" i d \" :  1 4 8 3 2 2 2 ,  \" j o b \" :  \" c g  s u p e r v i s o r \" ,  \" n a m e \" :  \" s i m o n  c l u t t e r b u c k \" } ,  { \" c r e d i t _ i d \" :  \" 5 5 9 2 b 0 d b c 3 a 3 6 8 7 7 4 b 0 0 1 1 2 c \" ,  \" d e p a r t m e n t \" :  \" c r e w \" ,  \" g e n d e r \" :  0 ,  \" i d \" :  1 4 8 3 2 2 3 ,  \" j o b \" :  \" c g  s u p e r v i s o r \" ,  \" n a m e \" :  \" g r a e m e  d e m m o c k s \" } ,  { \" c r e d i t _ i d \" :  \" 5 5 9 2 b 0 f e 9 2 5 1 4 1 5 2 d b 0 0 1 0 c 1 \" ,  \" d e p a r t m e n t \" :  \" c r e w \" ,  \" g e n d e r \" :  0 ,  \" i d \" :  1 4 8 3 2 2 4 ,  \" j o b \" :  \" c g  s u p e r v i s o r \" ,  \" n a m e \" :  \" a d r i a n  f e r n a n d e s \" } ,  { \" c r e d i t _ i d \" :  \" 5 5 9 2 b 1 1 f 9 2 5 1 4 1 5 d f 8 0 0 1 0 5 9 \" ,  \" d e p a r t m e n t \" :  \" c r e w \" ,  \" g e n d e r \" :  0 ,  \" i d \" :  1 4 8 3 2 2 5 ,  \" j o b \" :  \" c g  s u p e r v i s o r \" ,  \" n a m e \" :  \" m i t c h  g a t e s \" } ,  { \" c r e d i t _ i d \" :  \" 5 5 9 2 b 1 5 d c 3 a 3 6 8 7 7 4 5 0 0 1 6 4 5 \" ,  \" d e p a r t m e n t \" :  \" c r e w \" ,  \" g e n d e r \" :  0 ,  \" i d \" :  1 4 8 3 2 2 6 ,  \" j o b \" :  \" c g  s u p e r v i s o r \" ,  \" n a m e \" :  \" j e r r y  k u n g \" } ,  { \" c r e d i t _ i d \" :  \" 5 5 9 2 b 1 8 e 9 2 5 1 4 1 6 4 5 a 0 0 0 4 a e \" ,  \" d e p a r t m e n t \" :  \" c r e w \" ,  \" g e n d e r \" :  0 ,  \" i d \" :  1 4 8 3 2 2 7 ,  \" j o b \" :  \" c g  s u p e r v i s o r \" ,  \" n a m e \" :  \" a n d y  l o m a s \" } ,  { \" c r e d i t _ i d \" :  \" 5 5 9 2 b 1 b f c 3 a 3 6 8 7 7 5 d 0 0 1 0 e 7 \" ,  \" d e p a r t m e n t \" :  \" c r e w \" ,  \" g e n d e r \" :  0 ,  \" i d \" :  1 4 8 3 2 2 8 ,  \" j o b \" :  \" c g  s u p e r v i s o r \" ,  \" n a m e \" :  \" s e b a s t i a n  m a r i n o \" } ,  { \" c r e d i t _ i d \" :  \" 5 5 9 2 b 2 0 4 9 2 5 1 4 1 5 d f 8 0 0 1 0 7 8 \" ,  \" d e p a r t m e n t \" :  \" c r e w \" ,  \" g e n d e r \" :  0 ,  \" i d \" :  1 4 8 3 2 2 9 ,  \" j o b \" :  \" c g  s u p e r v i s o r \" ,  \" n a m e \" :  \" m a t t h i a s  m e n z \" } ,  { \" c r e d i t _ i d \" :  \" 5 5 9 2 b 2 7 b 9 2 5 1 4 1 5 2 d 8 0 0 1 3 6 a \" ,  \" d e p a r t m e n t \" :  \" c r e w \" ,  \" g e n d e r \" :  0 ,  \" i d \" :  1 4 8 3 2 3 0 ,  \" j o b \" :  \" c g  s u p e r v i s o r \" ,  \" n a m e \" :  \" s e r g e i  n e v s h u p o v \" } ,  { \" c r e d i t _ i d \" :  \" 5 5 9 2 b 2 c 3 c 3 a 3 6 8 6 9 e 8 0 0 0 0 3 c \" ,  \" d e p a r t m e n t \" :  \" c r e w \" ,  \" g e n d e r \" :  0 ,  \" i d \" :  1 4 8 3 2 3 1 ,  \" j o b \" :  \" c g  s u p e r v i s o r \" ,  \" n a m e \" :  \" p h i l i p p e  r e b o u r s \" } ,  { \" c r e d i t _ i d \" :  \" 5 5 9 2 b 3 1 7 c 3 a 3 6 8 7 7 4 7 0 0 1 2 a f \" ,  \" d e p a r t m e n t \" :  \" c r e w \" ,  \" g e n d e r \" :  0 ,  \" i d \" :  1 4 8 3 2 3 2 ,  \" j o b \" :  \" c g  s u p e r v i s o r \" ,  \" n a m e \" :  \" m i c h a e l  t a k a r a n g i \" } ,  { \" c r e d i t _ i d \" :  \" 5 5 9 2 b 3 4 5 c 3 a 3 6 8 7 7 4 7 0 0 1 2 b b \" ,  \" d e p a r t m e n t \" :  \" c r e w \" ,  \" g e n d e r \" :  0 ,  \" i d \" :  1 4 8 3 2 3 3 ,  \" j o b \" :  \" c g  s u p e r v i s o r \" ,  \" n a m e \" :  \" d a v i d  w e i t z b e r g \" } ,  { \" c r e d i t _ i d \" :  \" 5 5 9 2 b 3 7 c c 3 a 3 6 8 7 7 5 1 0 0 1 1 3 b \" ,  \" d e p a r t m e n t \" :  \" c r e w \" ,  \" g e n d e r \" :  0 ,  \" i d \" :  1 4 8 3 2 3 4 ,  \" j o b \" :  \" c g  s u p e r v i s o r \" ,  \" n a m e \" :  \" b e n  w h i t e \" } ,  { \" c r e d i t _ i d \" :  \" 5 7 3 c 8 e 2 f 9 2 5 1 4 1 3 f 5 d 0 0 0 0 9 4 \" ,  \" d e p a r t m e n t \" :  \" c r e w \" ,  \" g e n d e r \" :  1 ,  \" i d \" :  1 6 2 1 9 3 2 ,  \" j o b \" :  \" s t u n t s \" ,  \" n a m e \" :  \" m i n  w i n d l e \" } ]'"
      ]
     },
     "execution_count": 278,
     "metadata": {},
     "output_type": "execute_result"
    }
   ],
   "source": [
    "new_df['tags'][0]"
   ]
  },
  {
   "cell_type": "markdown",
   "id": "f4c24e99-acbe-4a80-8b4e-33535b132ced",
   "metadata": {},
   "source": [
    "new_df['tags'][1]"
   ]
  },
  {
   "cell_type": "code",
   "execution_count": 281,
   "id": "a15104f1-de89-4319-ac3a-ae838e017f81",
   "metadata": {},
   "outputs": [],
   "source": [
    "# Using Vectorization Technique:"
   ]
  },
  {
   "cell_type": "code",
   "execution_count": 289,
   "id": "c5c94446-5dc3-48d1-b4e0-89e37c4ac405",
   "metadata": {},
   "outputs": [],
   "source": [
    "from sklearn.feature_extraction.text import CountVectorizer\n",
    "cv=CountVectorizer(max_features=5000,stop_words='english')"
   ]
  },
  {
   "cell_type": "code",
   "execution_count": 292,
   "id": "01bc555b-b417-4a27-a941-16446a543e01",
   "metadata": {},
   "outputs": [],
   "source": [
    "vectors=cv.fit_transform(new_df['tags']).toarray()"
   ]
  },
  {
   "cell_type": "code",
   "execution_count": 294,
   "id": "68706138-6b9e-46d1-a2ed-26d7e628565d",
   "metadata": {},
   "outputs": [
    {
     "data": {
      "text/plain": [
       "array([0, 0, 0, ..., 0, 0, 0], dtype=int64)"
      ]
     },
     "execution_count": 294,
     "metadata": {},
     "output_type": "execute_result"
    }
   ],
   "source": [
    "vectors[0]"
   ]
  },
  {
   "cell_type": "code",
   "execution_count": 296,
   "id": "705624d6-cdc2-4266-a7b7-f518471ed6b4",
   "metadata": {},
   "outputs": [
    {
     "data": {
      "text/plain": [
       "array(['000', '007', '10', ..., 'zone', 'zoo', 'zooeydeschanel'],\n",
       "      dtype=object)"
      ]
     },
     "execution_count": 296,
     "metadata": {},
     "output_type": "execute_result"
    }
   ],
   "source": [
    "cv.get_feature_names_out()"
   ]
  },
  {
   "cell_type": "code",
   "execution_count": 298,
   "id": "5cb3d308-cc78-4f29-a0e0-3bec23b60f18",
   "metadata": {},
   "outputs": [],
   "source": [
    "# Stemming : [\"love','loving','loved'] = ['love','love','love']"
   ]
  },
  {
   "cell_type": "code",
   "execution_count": 307,
   "id": "b14fabb1-aa69-4917-a8b7-e9471507b994",
   "metadata": {},
   "outputs": [],
   "source": [
    "import nltk"
   ]
  },
  {
   "cell_type": "code",
   "execution_count": 309,
   "id": "3b65d31e-17c7-4a62-8ed6-4ee446eb3209",
   "metadata": {},
   "outputs": [],
   "source": [
    "from nltk.stem.porter import PorterStemmer\n",
    "ps=PorterStemmer()"
   ]
  },
  {
   "cell_type": "code",
   "execution_count": 315,
   "id": "dc7f1a8b-2c32-4dcd-9c7c-ace57b8bf191",
   "metadata": {},
   "outputs": [],
   "source": [
    "def stem(text):\n",
    "    y=[] \n",
    "    for i in text.split(): \n",
    "        y.append(ps.stem(i))\n",
    "\n",
    "    return \" \".join(y)\n",
    "    "
   ]
  },
  {
   "cell_type": "code",
   "execution_count": 317,
   "id": "d9be7e0a-a367-4e2d-98f3-b2bd5c3d0e69",
   "metadata": {},
   "outputs": [
    {
     "name": "stderr",
     "output_type": "stream",
     "text": [
      "C:\\Users\\bt23c\\AppData\\Local\\Temp\\ipykernel_18084\\3514595201.py:1: SettingWithCopyWarning: \n",
      "A value is trying to be set on a copy of a slice from a DataFrame.\n",
      "Try using .loc[row_indexer,col_indexer] = value instead\n",
      "\n",
      "See the caveats in the documentation: https://pandas.pydata.org/pandas-docs/stable/user_guide/indexing.html#returning-a-view-versus-a-copy\n",
      "  new_df['tags']=new_df['tags'].apply(stem)\n"
     ]
    }
   ],
   "source": [
    "new_df['tags']=new_df['tags'].apply(stem)"
   ]
  },
  {
   "cell_type": "code",
   "execution_count": 318,
   "id": "6e4d7d6e-1455-4fc3-8e72-ff7f3d86b94a",
   "metadata": {},
   "outputs": [
    {
     "data": {
      "text/plain": [
       "'love'"
      ]
     },
     "execution_count": 318,
     "metadata": {},
     "output_type": "execute_result"
    }
   ],
   "source": [
    "ps.stem('loved')"
   ]
  },
  {
   "cell_type": "code",
   "execution_count": 319,
   "id": "c257f8aa-90a2-463e-b7a6-a1fd510320c9",
   "metadata": {},
   "outputs": [
    {
     "data": {
      "text/plain": [
       "'love'"
      ]
     },
     "execution_count": 319,
     "metadata": {},
     "output_type": "execute_result"
    }
   ],
   "source": [
    "ps.stem('loving')"
   ]
  },
  {
   "cell_type": "code",
   "execution_count": 320,
   "id": "e3d796e6-1a74-43b6-b357-ca904b730456",
   "metadata": {},
   "outputs": [
    {
     "data": {
      "text/plain": [
       "'in the 22nd century, a parapleg marin is dispatch to the moon pandora on a uniqu mission, but becom torn between follow order and protect an alien civilization. action adventur fantasi sciencefict cultureclash futur spacewar spacecoloni societi spacetravel futurist romanc space alien tribe alienplanet cgi marin soldier battl loveaffair antiwar powerrel mindandsoul 3d samworthington zoesaldana sigourneyweav jamescameron'"
      ]
     },
     "execution_count": 320,
     "metadata": {},
     "output_type": "execute_result"
    }
   ],
   "source": [
    "stem(\"in the 22nd century, a paraplegic marine is dispatched to the moon pandora on a unique mission, but becomes torn between following orders and protecting an alien civilization. action adventure fantasy sciencefiction cultureclash future spacewar spacecolony society spacetravel futuristic romance space alien tribe alienplanet cgi marine soldier battle loveaffair antiwar powerrelations mindandsoul 3d samworthington zoesaldana sigourneyweaver jamescameron\")\n"
   ]
  },
  {
   "cell_type": "code",
   "execution_count": 321,
   "id": "c4b4df5c-8384-4e22-9e9b-9856c383d3fa",
   "metadata": {},
   "outputs": [],
   "source": [
    "# we have 4806 movies and in each movie we are Extracting 5000 most frequent words."
   ]
  },
  {
   "cell_type": "code",
   "execution_count": 322,
   "id": "0b1c6b53-8b07-4a03-bb84-eb0273a62aa9",
   "metadata": {},
   "outputs": [],
   "source": [
    "# we have to calculate distance of each and every movies to one another... the less is distance implies more is Similarity.\n",
    " # We will calculate cosine distance rather than  Eucilidean distance"
   ]
  },
  {
   "cell_type": "code",
   "execution_count": 323,
   "id": "e82d77eb-a536-47a4-80bf-f54d0aeca606",
   "metadata": {},
   "outputs": [],
   "source": [
    "from sklearn.metrics.pairwise import cosine_similarity"
   ]
  },
  {
   "cell_type": "code",
   "execution_count": 324,
   "id": "48ee0e90-7909-47cb-8f2a-e24d07adddac",
   "metadata": {},
   "outputs": [],
   "source": [
    "similarity = cosine_similarity(vectors)"
   ]
  },
  {
   "cell_type": "code",
   "execution_count": 325,
   "id": "a9e6c2c4-8d66-4ab2-bef2-9c917e7030a9",
   "metadata": {},
   "outputs": [
    {
     "data": {
      "text/plain": [
       "array([[1.        , 0.08858079, 0.05905386, ..., 0.02478408, 0.02739983,\n",
       "        0.        ],\n",
       "       [0.08858079, 1.        , 0.06451613, ..., 0.02707652, 0.        ,\n",
       "        0.        ],\n",
       "       [0.05905386, 0.06451613, 1.        , ..., 0.02707652, 0.        ,\n",
       "        0.        ],\n",
       "       ...,\n",
       "       [0.02478408, 0.02707652, 0.02707652, ..., 1.        , 0.07537784,\n",
       "        0.0489116 ],\n",
       "       [0.02739983, 0.        , 0.        , ..., 0.07537784, 1.        ,\n",
       "        0.05407381],\n",
       "       [0.        , 0.        , 0.        , ..., 0.0489116 , 0.05407381,\n",
       "        1.        ]])"
      ]
     },
     "execution_count": 325,
     "metadata": {},
     "output_type": "execute_result"
    }
   ],
   "source": [
    "similarity"
   ]
  },
  {
   "cell_type": "code",
   "execution_count": 326,
   "id": "badf4447-94e7-424e-9238-9d183e480ac0",
   "metadata": {},
   "outputs": [
    {
     "data": {
      "text/plain": [
       "array([1.        , 0.08858079, 0.05905386, ..., 0.02478408, 0.02739983,\n",
       "       0.        ])"
      ]
     },
     "execution_count": 326,
     "metadata": {},
     "output_type": "execute_result"
    }
   ],
   "source": [
    "similarity[0]       # means similarity of 1st Movie with rest movies."
   ]
  },
  {
   "cell_type": "code",
   "execution_count": 327,
   "id": "ba62eb42-0a85-4fd1-8bf7-e0b0add6805c",
   "metadata": {},
   "outputs": [
    {
     "data": {
      "text/plain": [
       "[(539, 0.2537477434955704),\n",
       " (1192, 0.25112360116696136),\n",
       " (507, 0.24609055357847553),\n",
       " (1214, 0.24260844762468367),\n",
       " (260, 0.24012009007506568)]"
      ]
     },
     "execution_count": 327,
     "metadata": {},
     "output_type": "execute_result"
    }
   ],
   "source": [
    "sorted(list(enumerate(similarity[0])) ,reverse=True,key=lambda x:x[1])[1:6]    #sort similarity scores in descending order,"
   ]
  },
  {
   "cell_type": "code",
   "execution_count": 328,
   "id": "aaf845e6-484e-458a-b500-d2e0ae3d8df0",
   "metadata": {},
   "outputs": [],
   "source": [
    "# now we are going to make a function named recommend which take one movie as a parameter and return lists of 5 similar moives."
   ]
  },
  {
   "cell_type": "code",
   "execution_count": 329,
   "id": "3e42bcfb-0ebd-4e18-af44-b3dcb9e86b64",
   "metadata": {},
   "outputs": [],
   "source": [
    "def recommend(movie):\n",
    "    movie_index = new_df[new_df['title'] == movie].index[0]\n",
    "    \n",
    "    distances = similarity[movie_index]\n",
    "    movies_list = sorted(list(enumerate(distances)), key=lambda x: x[1], reverse=True)[1:6]\n",
    "    \n",
    "    for i in movies_list:\n",
    "        print(new_df.iloc[i[0]].title)\n"
   ]
  },
  {
   "cell_type": "code",
   "execution_count": 330,
   "id": "e291499d-a333-4bc6-ac9a-1ab03640c834",
   "metadata": {
    "jupyter": {
     "source_hidden": true
    }
   },
   "outputs": [
    {
     "name": "stdout",
     "output_type": "stream",
     "text": [
      "Titan A.E.\n",
      "Small Soldiers\n",
      "Independence Day\n",
      "Aliens vs Predator: Requiem\n",
      "Ender's Game\n"
     ]
    }
   ],
   "source": [
    "recommend('Avatar')"
   ]
  },
  {
   "cell_type": "code",
   "execution_count": 331,
   "id": "8cb4f368-9830-413b-a347-e03d3b36ebea",
   "metadata": {},
   "outputs": [
    {
     "name": "stdout",
     "output_type": "stream",
     "text": [
      "The Dark Knight\n",
      "The Dark Knight Rises\n",
      "Batman\n",
      "Batman\n",
      "Batman & Robin\n"
     ]
    }
   ],
   "source": [
    "recommend('Batman Begins')"
   ]
  },
  {
   "cell_type": "code",
   "execution_count": 332,
   "id": "1c553c59-5f68-4f4d-9337-75267748e4ab",
   "metadata": {},
   "outputs": [],
   "source": [
    "import pickle"
   ]
  },
  {
   "cell_type": "code",
   "execution_count": 333,
   "id": "0a1e0cb6-8cfa-4044-8646-3d2b68983e81",
   "metadata": {},
   "outputs": [],
   "source": [
    "pickle.dump(new_df,open('movies.pkl','wb'))"
   ]
  },
  {
   "cell_type": "code",
   "execution_count": 334,
   "id": "757b2dc6-59dc-4f12-afca-3c0332915cd1",
   "metadata": {},
   "outputs": [
    {
     "data": {
      "text/plain": [
       "array(['Avatar', \"Pirates of the Caribbean: At World's End\", 'Spectre',\n",
       "       ..., 'Signed, Sealed, Delivered', 'Shanghai Calling',\n",
       "       'My Date with Drew'], dtype=object)"
      ]
     },
     "execution_count": 334,
     "metadata": {},
     "output_type": "execute_result"
    }
   ],
   "source": [
    "new_df['title'].values"
   ]
  },
  {
   "cell_type": "code",
   "execution_count": 156,
   "id": "4821a3dc-23f5-4fb0-a185-c4312370f18e",
   "metadata": {},
   "outputs": [],
   "source": [
    "pickle.dump(new_df.to_dict(),open('movie_dict.pkl','wb'))"
   ]
  },
  {
   "cell_type": "code",
   "execution_count": 355,
   "id": "f796d32d-9fae-4fda-b1d0-e699c4708adf",
   "metadata": {},
   "outputs": [],
   "source": [
    "pickle.dump(similarity,open('similarity.pkl','wb'))"
   ]
  },
  {
   "cell_type": "code",
   "execution_count": null,
   "id": "54e9d0e0-95cb-46f6-873f-c31dc425dcc2",
   "metadata": {},
   "outputs": [],
   "source": []
  },
  {
   "cell_type": "code",
   "execution_count": null,
   "id": "6c8810ea-963d-4a5a-bb97-249dd2acbe40",
   "metadata": {},
   "outputs": [],
   "source": []
  }
 ],
 "metadata": {
  "kernelspec": {
   "display_name": "Python [conda env:base] *",
   "language": "python",
   "name": "conda-base-py"
  },
  "language_info": {
   "codemirror_mode": {
    "name": "ipython",
    "version": 3
   },
   "file_extension": ".py",
   "mimetype": "text/x-python",
   "name": "python",
   "nbconvert_exporter": "python",
   "pygments_lexer": "ipython3",
   "version": "3.12.7"
  }
 },
 "nbformat": 4,
 "nbformat_minor": 5
}
